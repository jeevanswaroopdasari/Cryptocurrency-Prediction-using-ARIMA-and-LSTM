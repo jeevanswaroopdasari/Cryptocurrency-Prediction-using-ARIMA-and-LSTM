{
  "nbformat": 4,
  "nbformat_minor": 0,
  "metadata": {
    "accelerator": "GPU",
    "colab": {
      "name": "LSTM_Models_litecoin_simple.ipynb",
      "provenance": [],
      "collapsed_sections": [],
      "include_colab_link": true
    },
    "kernelspec": {
      "display_name": "Python 3",
      "language": "python",
      "name": "python3"
    },
    "language_info": {
      "codemirror_mode": {
        "name": "ipython",
        "version": 3
      },
      "file_extension": ".py",
      "mimetype": "text/x-python",
      "name": "python",
      "nbconvert_exporter": "python",
      "pygments_lexer": "ipython3",
      "version": "3.6.9"
    }
  },
  "cells": [
    {
      "cell_type": "markdown",
      "metadata": {
        "id": "view-in-github",
        "colab_type": "text"
      },
      "source": [
        "<a href=\"https://colab.research.google.com/github/jeevanswaroopdasari/Cryptocurrency-Prediction-using-ARIMA-and-LSTM/blob/main/LSTM_Models_litecoin_simple.ipynb\" target=\"_parent\"><img src=\"https://colab.research.google.com/assets/colab-badge.svg\" alt=\"Open In Colab\"/></a>"
      ]
    },
    {
      "cell_type": "markdown",
      "metadata": {
        "id": "1emB6EilGlhc"
      },
      "source": [
        "### Cryptocurrency Prediction And Forecasting Using Stacked LSTM / LSTM"
      ]
    },
    {
      "cell_type": "code",
      "metadata": {
        "id": "3UXeJ8IwGlhf"
      },
      "source": [
        "import pandas as pd"
      ],
      "execution_count": null,
      "outputs": []
    },
    {
      "cell_type": "code",
      "metadata": {
        "colab": {
          "base_uri": "https://localhost:8080/"
        },
        "id": "xwI8LW4jGz9-",
        "outputId": "bb542459-e0c6-4b9f-9999-1cfecd8ae331"
      },
      "source": [
        "from google.colab import drive\n",
        "drive.mount('/content/drive')"
      ],
      "execution_count": null,
      "outputs": [
        {
          "output_type": "stream",
          "text": [
            "Mounted at /content/drive\n"
          ],
          "name": "stdout"
        }
      ]
    },
    {
      "cell_type": "code",
      "metadata": {
        "id": "QPXoN5J7Glhg"
      },
      "source": [
        "file_path = '/content/drive/MyDrive/CS725_Project/consolidated_coin_data.csv'\n",
        "timeseries_data_df=pd.read_csv(file_path)\n",
        "is_bitcoin = timeseries_data_df['Currency'] == 'litecoin'\n",
        "df = timeseries_data_df[is_bitcoin].iloc[::-1]"
      ],
      "execution_count": null,
      "outputs": []
    },
    {
      "cell_type": "code",
      "metadata": {
        "colab": {
          "base_uri": "https://localhost:8080/",
          "height": 198
        },
        "id": "8x5qxx45Glhg",
        "outputId": "a639b68f-0e37-4dc9-f3e6-f04f5a3a7200"
      },
      "source": [
        "df.head()"
      ],
      "execution_count": null,
      "outputs": [
        {
          "output_type": "execute_result",
          "data": {
            "text/html": [
              "<div>\n",
              "<style scoped>\n",
              "    .dataframe tbody tr th:only-of-type {\n",
              "        vertical-align: middle;\n",
              "    }\n",
              "\n",
              "    .dataframe tbody tr th {\n",
              "        vertical-align: top;\n",
              "    }\n",
              "\n",
              "    .dataframe thead th {\n",
              "        text-align: right;\n",
              "    }\n",
              "</style>\n",
              "<table border=\"1\" class=\"dataframe\">\n",
              "  <thead>\n",
              "    <tr style=\"text-align: right;\">\n",
              "      <th></th>\n",
              "      <th>Currency</th>\n",
              "      <th>Date</th>\n",
              "      <th>Open</th>\n",
              "      <th>High</th>\n",
              "      <th>Low</th>\n",
              "      <th>Close</th>\n",
              "      <th>Volume</th>\n",
              "      <th>Market Cap</th>\n",
              "    </tr>\n",
              "  </thead>\n",
              "  <tbody>\n",
              "    <tr>\n",
              "      <th>21707</th>\n",
              "      <td>litecoin</td>\n",
              "      <td>Apr 28, 2013</td>\n",
              "      <td>4.30</td>\n",
              "      <td>4.40</td>\n",
              "      <td>4.18</td>\n",
              "      <td>4.35</td>\n",
              "      <td>0</td>\n",
              "      <td>74,636,938</td>\n",
              "    </tr>\n",
              "    <tr>\n",
              "      <th>21706</th>\n",
              "      <td>litecoin</td>\n",
              "      <td>Apr 29, 2013</td>\n",
              "      <td>4.37</td>\n",
              "      <td>4.57</td>\n",
              "      <td>4.23</td>\n",
              "      <td>4.38</td>\n",
              "      <td>0</td>\n",
              "      <td>75,388,964</td>\n",
              "    </tr>\n",
              "    <tr>\n",
              "      <th>21705</th>\n",
              "      <td>litecoin</td>\n",
              "      <td>Apr 30, 2013</td>\n",
              "      <td>4.40</td>\n",
              "      <td>4.57</td>\n",
              "      <td>4.17</td>\n",
              "      <td>4.30</td>\n",
              "      <td>0</td>\n",
              "      <td>74,020,918</td>\n",
              "    </tr>\n",
              "    <tr>\n",
              "      <th>21704</th>\n",
              "      <td>litecoin</td>\n",
              "      <td>May 01, 2013</td>\n",
              "      <td>4.29</td>\n",
              "      <td>4.36</td>\n",
              "      <td>3.52</td>\n",
              "      <td>3.80</td>\n",
              "      <td>0</td>\n",
              "      <td>65,604,596</td>\n",
              "    </tr>\n",
              "    <tr>\n",
              "      <th>21703</th>\n",
              "      <td>litecoin</td>\n",
              "      <td>May 02, 2013</td>\n",
              "      <td>3.78</td>\n",
              "      <td>4.04</td>\n",
              "      <td>3.01</td>\n",
              "      <td>3.37</td>\n",
              "      <td>0</td>\n",
              "      <td>58,287,979</td>\n",
              "    </tr>\n",
              "  </tbody>\n",
              "</table>\n",
              "</div>"
            ],
            "text/plain": [
              "       Currency          Date  Open  High   Low Close Volume  Market Cap\n",
              "21707  litecoin  Apr 28, 2013  4.30  4.40  4.18  4.35      0  74,636,938\n",
              "21706  litecoin  Apr 29, 2013  4.37  4.57  4.23  4.38      0  75,388,964\n",
              "21705  litecoin  Apr 30, 2013  4.40  4.57  4.17  4.30      0  74,020,918\n",
              "21704  litecoin  May 01, 2013  4.29  4.36  3.52  3.80      0  65,604,596\n",
              "21703  litecoin  May 02, 2013  3.78  4.04  3.01  3.37      0  58,287,979"
            ]
          },
          "metadata": {
            "tags": []
          },
          "execution_count": 4
        }
      ]
    },
    {
      "cell_type": "code",
      "metadata": {
        "colab": {
          "base_uri": "https://localhost:8080/",
          "height": 198
        },
        "id": "LBVKQwm0Glhk",
        "outputId": "a3369e23-9603-452c-813d-823fe2668ea6"
      },
      "source": [
        "df.tail()"
      ],
      "execution_count": null,
      "outputs": [
        {
          "output_type": "execute_result",
          "data": {
            "text/html": [
              "<div>\n",
              "<style scoped>\n",
              "    .dataframe tbody tr th:only-of-type {\n",
              "        vertical-align: middle;\n",
              "    }\n",
              "\n",
              "    .dataframe tbody tr th {\n",
              "        vertical-align: top;\n",
              "    }\n",
              "\n",
              "    .dataframe thead th {\n",
              "        text-align: right;\n",
              "    }\n",
              "</style>\n",
              "<table border=\"1\" class=\"dataframe\">\n",
              "  <thead>\n",
              "    <tr style=\"text-align: right;\">\n",
              "      <th></th>\n",
              "      <th>Currency</th>\n",
              "      <th>Date</th>\n",
              "      <th>Open</th>\n",
              "      <th>High</th>\n",
              "      <th>Low</th>\n",
              "      <th>Close</th>\n",
              "      <th>Volume</th>\n",
              "      <th>Market Cap</th>\n",
              "    </tr>\n",
              "  </thead>\n",
              "  <tbody>\n",
              "    <tr>\n",
              "      <th>19300</th>\n",
              "      <td>litecoin</td>\n",
              "      <td>Nov 30, 2019</td>\n",
              "      <td>48.91</td>\n",
              "      <td>49.28</td>\n",
              "      <td>47.09</td>\n",
              "      <td>47.48</td>\n",
              "      <td>2,678,481,167</td>\n",
              "      <td>3,026,175,357</td>\n",
              "    </tr>\n",
              "    <tr>\n",
              "      <th>19299</th>\n",
              "      <td>litecoin</td>\n",
              "      <td>Dec 01, 2019</td>\n",
              "      <td>47.46</td>\n",
              "      <td>48.30</td>\n",
              "      <td>46.24</td>\n",
              "      <td>47.71</td>\n",
              "      <td>2,781,413,686</td>\n",
              "      <td>3,041,545,709</td>\n",
              "    </tr>\n",
              "    <tr>\n",
              "      <th>19298</th>\n",
              "      <td>litecoin</td>\n",
              "      <td>Dec 02, 2019</td>\n",
              "      <td>47.65</td>\n",
              "      <td>47.81</td>\n",
              "      <td>45.32</td>\n",
              "      <td>45.82</td>\n",
              "      <td>2,680,452,035</td>\n",
              "      <td>2,921,144,389</td>\n",
              "    </tr>\n",
              "    <tr>\n",
              "      <th>19297</th>\n",
              "      <td>litecoin</td>\n",
              "      <td>Dec 03, 2019</td>\n",
              "      <td>45.78</td>\n",
              "      <td>46.62</td>\n",
              "      <td>44.76</td>\n",
              "      <td>45.38</td>\n",
              "      <td>2,557,212,174</td>\n",
              "      <td>2,893,726,010</td>\n",
              "    </tr>\n",
              "    <tr>\n",
              "      <th>19296</th>\n",
              "      <td>litecoin</td>\n",
              "      <td>Dec 04, 2019</td>\n",
              "      <td>45.40</td>\n",
              "      <td>46.54</td>\n",
              "      <td>44.58</td>\n",
              "      <td>45.19</td>\n",
              "      <td>2,951,880,019</td>\n",
              "      <td>2,882,011,362</td>\n",
              "    </tr>\n",
              "  </tbody>\n",
              "</table>\n",
              "</div>"
            ],
            "text/plain": [
              "       Currency          Date   Open  ...  Close         Volume     Market Cap\n",
              "19300  litecoin  Nov 30, 2019  48.91  ...  47.48  2,678,481,167  3,026,175,357\n",
              "19299  litecoin  Dec 01, 2019  47.46  ...  47.71  2,781,413,686  3,041,545,709\n",
              "19298  litecoin  Dec 02, 2019  47.65  ...  45.82  2,680,452,035  2,921,144,389\n",
              "19297  litecoin  Dec 03, 2019  45.78  ...  45.38  2,557,212,174  2,893,726,010\n",
              "19296  litecoin  Dec 04, 2019  45.40  ...  45.19  2,951,880,019  2,882,011,362\n",
              "\n",
              "[5 rows x 8 columns]"
            ]
          },
          "metadata": {
            "tags": []
          },
          "execution_count": 5
        }
      ]
    },
    {
      "cell_type": "code",
      "metadata": {
        "id": "HND2BJZwGlhk"
      },
      "source": [
        "df1=df.reset_index()['Close']"
      ],
      "execution_count": null,
      "outputs": []
    },
    {
      "cell_type": "code",
      "metadata": {
        "id": "AkEMPjJYGlhk"
      },
      "source": [
        "df1\n",
        "df1 = df1.str.replace(',', '')\n",
        "df1 = pd.to_numeric(df1)"
      ],
      "execution_count": null,
      "outputs": []
    },
    {
      "cell_type": "code",
      "metadata": {
        "colab": {
          "base_uri": "https://localhost:8080/",
          "height": 283
        },
        "id": "lyzQ_HjzGlhl",
        "outputId": "7a27cb53-01c6-48c6-9792-ba413808bca3"
      },
      "source": [
        "import matplotlib.pyplot as plt\n",
        "df1.plot.line()"
      ],
      "execution_count": null,
      "outputs": [
        {
          "output_type": "execute_result",
          "data": {
            "text/plain": [
              "<matplotlib.axes._subplots.AxesSubplot at 0x7fdcd255f7f0>"
            ]
          },
          "metadata": {
            "tags": []
          },
          "execution_count": 8
        },
        {
          "output_type": "display_data",
          "data": {
            "image/png": "[encoded data removed]",
            "text/plain": [
              "<Figure size 432x288 with 1 Axes>"
            ]
          },
          "metadata": {
            "tags": [],
            "needs_background": "light"
          }
        }
      ]
    },
    {
      "cell_type": "code",
      "metadata": {
        "id": "g6VoKVzEGlhr"
      },
      "source": [
        "### LSTM are sensitive to the scale of the data. so we apply MinMax scaler "
      ],
      "execution_count": null,
      "outputs": []
    },
    {
      "cell_type": "code",
      "metadata": {
        "id": "diJ0dKBeGlhr"
      },
      "source": [
        "import numpy as np"
      ],
      "execution_count": null,
      "outputs": []
    },
    {
      "cell_type": "code",
      "metadata": {
        "colab": {
          "base_uri": "https://localhost:8080/"
        },
        "id": "J-TIPkzKGlhr",
        "outputId": "c24f7246-30c9-4204-c35b-99ca7e16fd5a"
      },
      "source": [
        "df1"
      ],
      "execution_count": null,
      "outputs": [
        {
          "output_type": "execute_result",
          "data": {
            "text/plain": [
              "0        4.35\n",
              "1        4.38\n",
              "2        4.30\n",
              "3        3.80\n",
              "4        3.37\n",
              "        ...  \n",
              "2407    47.48\n",
              "2408    47.71\n",
              "2409    45.82\n",
              "2410    45.38\n",
              "2411    45.19\n",
              "Name: Close, Length: 2412, dtype: float64"
            ]
          },
          "metadata": {
            "tags": []
          },
          "execution_count": 11
        }
      ]
    },
    {
      "cell_type": "code",
      "metadata": {
        "id": "1yvx5v7AGlhr"
      },
      "source": [
        "from sklearn.preprocessing import MinMaxScaler\n",
        "scaler=MinMaxScaler(feature_range=(0,1))\n",
        "df1_new=scaler.fit_transform(np.array(df1).reshape(-1,1))"
      ],
      "execution_count": null,
      "outputs": []
    },
    {
      "cell_type": "code",
      "metadata": {
        "colab": {
          "base_uri": "https://localhost:8080/"
        },
        "id": "owiL0PeTGlhr",
        "outputId": "70a7cd12-0d6c-4342-ef44-7f201712b72c"
      },
      "source": [
        "print(df1_new)"
      ],
      "execution_count": null,
      "outputs": [
        {
          "output_type": "stream",
          "text": [
            "[[0.00893107]\n",
            " [0.00901506]\n",
            " [0.00879109]\n",
            " ...\n",
            " [0.125035  ]\n",
            " [0.12380312]\n",
            " [0.12327118]]\n"
          ],
          "name": "stdout"
        }
      ]
    },
    {
      "cell_type": "code",
      "metadata": {
        "id": "DJS6SDWzGlhs"
      },
      "source": [
        "##splitting dataset into train and test split\n",
        "training_size=int(len(df1_new)*0.65)\n",
        "test_size=len(df1_new)-training_size\n",
        "train_data,test_data=df1_new[0:training_size,:],df1_new[training_size:len(df1_new),:1]"
      ],
      "execution_count": null,
      "outputs": []
    },
    {
      "cell_type": "code",
      "metadata": {
        "colab": {
          "base_uri": "https://localhost:8080/"
        },
        "id": "MQJGGfroGlhs",
        "outputId": "db50b869-db52-4cf8-e670-9ac8f367f719"
      },
      "source": [
        "training_size,test_size"
      ],
      "execution_count": null,
      "outputs": [
        {
          "output_type": "execute_result",
          "data": {
            "text/plain": [
              "(1567, 845)"
            ]
          },
          "metadata": {
            "tags": []
          },
          "execution_count": 15
        }
      ]
    },
    {
      "cell_type": "code",
      "metadata": {
        "colab": {
          "base_uri": "https://localhost:8080/"
        },
        "id": "kldTRO7lGlhs",
        "outputId": "a12826e2-d811-4523-8fb2-64cc7b2cae02"
      },
      "source": [
        "train_data"
      ],
      "execution_count": null,
      "outputs": [
        {
          "output_type": "execute_result",
          "data": {
            "text/plain": [
              "array([[0.00893107],\n",
              "       [0.00901506],\n",
              "       [0.00879109],\n",
              "       ...,\n",
              "       [0.13116636],\n",
              "       [0.1269388 ],\n",
              "       [0.12861862]])"
            ]
          },
          "metadata": {
            "tags": []
          },
          "execution_count": 16
        }
      ]
    },
    {
      "cell_type": "code",
      "metadata": {
        "id": "oWGEEUaJGlht"
      },
      "source": [
        "import numpy\n",
        "# convert an array of values into a dataset matrix\n",
        "def create_dataset(dataset, time_step=1):\n",
        "\tdataX, dataY = [], []\n",
        "\tfor i in range(len(dataset)-time_step-1):\n",
        "\t\ta = dataset[i:(i+time_step), 0]   ###i=0, 0,1,2,3-----99   100 \n",
        "\t\tdataX.append(a)\n",
        "\t\tdataY.append(dataset[i + time_step, 0])\n",
        "\treturn numpy.array(dataX), numpy.array(dataY)"
      ],
      "execution_count": null,
      "outputs": []
    },
    {
      "cell_type": "code",
      "metadata": {
        "id": "GicvLISCGlht"
      },
      "source": [
        "# reshape into X=t,t+1,t+2,t+3 and Y=t+4\n",
        "time_step = 100\n",
        "X_train, y_train = create_dataset(train_data, time_step)\n",
        "X_test, ytest = create_dataset(test_data, time_step)"
      ],
      "execution_count": null,
      "outputs": []
    },
    {
      "cell_type": "code",
      "metadata": {
        "colab": {
          "base_uri": "https://localhost:8080/"
        },
        "id": "qeEMtOzpGlht",
        "outputId": "1777dccf-3502-4625-fe9f-358d6075bbf2"
      },
      "source": [
        "print(X_train.shape), print(y_train.shape)"
      ],
      "execution_count": null,
      "outputs": [
        {
          "output_type": "stream",
          "text": [
            "(1466, 100)\n",
            "(1466,)\n"
          ],
          "name": "stdout"
        },
        {
          "output_type": "execute_result",
          "data": {
            "text/plain": [
              "(None, None)"
            ]
          },
          "metadata": {
            "tags": []
          },
          "execution_count": 19
        }
      ]
    },
    {
      "cell_type": "code",
      "metadata": {
        "colab": {
          "base_uri": "https://localhost:8080/"
        },
        "id": "5IhSZy4pGlhu",
        "outputId": "0d38c447-bab2-4234-e091-b10e3955f7c5"
      },
      "source": [
        "print(X_test.shape), print(ytest.shape)"
      ],
      "execution_count": null,
      "outputs": [
        {
          "output_type": "stream",
          "text": [
            "(744, 100)\n",
            "(744,)\n"
          ],
          "name": "stdout"
        },
        {
          "output_type": "execute_result",
          "data": {
            "text/plain": [
              "(None, None)"
            ]
          },
          "metadata": {
            "tags": []
          },
          "execution_count": 20
        }
      ]
    },
    {
      "cell_type": "code",
      "metadata": {
        "id": "xCq00A4gGlhu"
      },
      "source": [
        "# reshape input to be [samples, time steps, features] which is required for LSTM\n",
        "X_train =X_train.reshape(X_train.shape[0],X_train.shape[1] , 1)\n",
        "X_test = X_test.reshape(X_test.shape[0],X_test.shape[1] , 1)"
      ],
      "execution_count": null,
      "outputs": []
    },
    {
      "cell_type": "code",
      "metadata": {
        "id": "kisa6ekMGlhu"
      },
      "source": [
        "### Create the Stacked LSTM model\n",
        "from tensorflow.keras.models import Sequential\n",
        "from tensorflow.keras.layers import Dense\n",
        "from tensorflow.keras.layers import LSTM"
      ],
      "execution_count": null,
      "outputs": []
    },
    {
      "cell_type": "markdown",
      "metadata": {
        "id": "X2Pug_2u2zSX"
      },
      "source": [
        "###Stacked LSTM"
      ]
    },
    {
      "cell_type": "code",
      "metadata": {
        "id": "2snTqf0GGlhu"
      },
      "source": [
        "#model=Sequential()\n",
        "#model.add(LSTM(50,return_sequences=True,input_shape=(100,1)))\n",
        "#model.add(LSTM(50,return_sequences=True))\n",
        "#model.add(LSTM(50))\n",
        "#model.add(Dense(1))\n",
        "#model.compile(loss='mean_squared_error',optimizer='adam')"
      ],
      "execution_count": null,
      "outputs": []
    },
    {
      "cell_type": "code",
      "metadata": {
        "id": "Z-O-K8XcGlhu"
      },
      "source": [
        "#model.summary()"
      ],
      "execution_count": null,
      "outputs": []
    },
    {
      "cell_type": "markdown",
      "metadata": {
        "id": "Qo0F6S3w27ZY"
      },
      "source": [
        "### Simple LSTM Model"
      ]
    },
    {
      "cell_type": "code",
      "metadata": {
        "id": "8Ltw_hvU269C"
      },
      "source": [
        "#define model\n",
        "model = Sequential()\n",
        "model.add(LSTM(50,return_sequences=True,input_shape=(100,1)))\n",
        "model.add(LSTM(50))\n",
        "model.add(Dense(1))\n",
        "model.compile(loss='mean_squared_error',optimizer='adam')"
      ],
      "execution_count": null,
      "outputs": []
    },
    {
      "cell_type": "code",
      "metadata": {
        "id": "PsfThCkZGlhu",
        "colab": {
          "base_uri": "https://localhost:8080/"
        },
        "outputId": "61721446-460d-4df2-9baa-629afe1ef792"
      },
      "source": [
        "model.summary()"
      ],
      "execution_count": null,
      "outputs": [
        {
          "output_type": "stream",
          "text": [
            "Model: \"sequential\"\n",
            "_________________________________________________________________\n",
            "Layer (type)                 Output Shape              Param #   \n",
            "=================================================================\n",
            "lstm (LSTM)                  (None, 100, 50)           10400     \n",
            "_________________________________________________________________\n",
            "lstm_1 (LSTM)                (None, 50)                20200     \n",
            "_________________________________________________________________\n",
            "dense (Dense)                (None, 1)                 51        \n",
            "=================================================================\n",
            "Total params: 30,651\n",
            "Trainable params: 30,651\n",
            "Non-trainable params: 0\n",
            "_________________________________________________________________\n"
          ],
          "name": "stdout"
        }
      ]
    },
    {
      "cell_type": "code",
      "metadata": {
        "colab": {
          "base_uri": "https://localhost:8080/"
        },
        "id": "ZS3ykgQ2Glhv",
        "outputId": "c163de23-5e77-427e-896d-f37523db92c7"
      },
      "source": [
        "history=model.fit(X_train,y_train,validation_data=(X_test,ytest),epochs=100,batch_size=64,verbose=1)"
      ],
      "execution_count": null,
      "outputs": [
        {
          "output_type": "stream",
          "text": [
            "Epoch 1/100\n",
            "23/23 [==============================] - 1s 47ms/step - loss: 3.7302e-04 - val_loss: 0.0051\n",
            "Epoch 2/100\n",
            "23/23 [==============================] - 0s 14ms/step - loss: 7.1875e-05 - val_loss: 0.0043\n",
            "Epoch 3/100\n",
            "23/23 [==============================] - 0s 13ms/step - loss: 5.9838e-05 - val_loss: 0.0040\n",
            "Epoch 4/100\n",
            "23/23 [==============================] - 0s 14ms/step - loss: 5.5540e-05 - val_loss: 0.0033\n",
            "Epoch 5/100\n",
            "23/23 [==============================] - 0s 13ms/step - loss: 5.3006e-05 - val_loss: 0.0030\n",
            "Epoch 6/100\n",
            "23/23 [==============================] - 0s 14ms/step - loss: 4.9497e-05 - val_loss: 0.0029\n",
            "Epoch 7/100\n",
            "23/23 [==============================] - 0s 13ms/step - loss: 4.9191e-05 - val_loss: 0.0026\n",
            "Epoch 8/100\n",
            "23/23 [==============================] - 0s 13ms/step - loss: 4.4450e-05 - val_loss: 0.0027\n",
            "Epoch 9/100\n",
            "23/23 [==============================] - 0s 13ms/step - loss: 4.6729e-05 - val_loss: 0.0032\n",
            "Epoch 10/100\n",
            "23/23 [==============================] - 0s 14ms/step - loss: 3.9717e-05 - val_loss: 0.0021\n",
            "Epoch 11/100\n",
            "23/23 [==============================] - 0s 13ms/step - loss: 3.9690e-05 - val_loss: 0.0022\n",
            "Epoch 12/100\n",
            "23/23 [==============================] - 0s 13ms/step - loss: 3.9525e-05 - val_loss: 0.0021\n",
            "Epoch 13/100\n",
            "23/23 [==============================] - 0s 13ms/step - loss: 3.7008e-05 - val_loss: 0.0019\n",
            "Epoch 14/100\n",
            "23/23 [==============================] - 0s 13ms/step - loss: 3.5212e-05 - val_loss: 0.0020\n",
            "Epoch 15/100\n",
            "23/23 [==============================] - 0s 13ms/step - loss: 3.7061e-05 - val_loss: 0.0018\n",
            "Epoch 16/100\n",
            "23/23 [==============================] - 0s 13ms/step - loss: 3.3924e-05 - val_loss: 0.0017\n",
            "Epoch 17/100\n",
            "23/23 [==============================] - 0s 14ms/step - loss: 4.0234e-05 - val_loss: 0.0018\n",
            "Epoch 18/100\n",
            "23/23 [==============================] - 0s 13ms/step - loss: 3.7816e-05 - val_loss: 0.0016\n",
            "Epoch 19/100\n",
            "23/23 [==============================] - 0s 13ms/step - loss: 3.2219e-05 - val_loss: 0.0016\n",
            "Epoch 20/100\n",
            "23/23 [==============================] - 0s 13ms/step - loss: 3.1360e-05 - val_loss: 0.0016\n",
            "Epoch 21/100\n",
            "23/23 [==============================] - 0s 13ms/step - loss: 3.0009e-05 - val_loss: 0.0016\n",
            "Epoch 22/100\n",
            "23/23 [==============================] - 0s 13ms/step - loss: 3.0245e-05 - val_loss: 0.0014\n",
            "Epoch 23/100\n",
            "23/23 [==============================] - 0s 13ms/step - loss: 2.9765e-05 - val_loss: 0.0014\n",
            "Epoch 24/100\n",
            "23/23 [==============================] - 0s 13ms/step - loss: 3.0860e-05 - val_loss: 0.0013\n",
            "Epoch 25/100\n",
            "23/23 [==============================] - 0s 13ms/step - loss: 2.7547e-05 - val_loss: 0.0014\n",
            "Epoch 26/100\n",
            "23/23 [==============================] - 0s 13ms/step - loss: 2.7159e-05 - val_loss: 0.0013\n",
            "Epoch 27/100\n",
            "23/23 [==============================] - 0s 14ms/step - loss: 2.7734e-05 - val_loss: 0.0013\n",
            "Epoch 28/100\n",
            "23/23 [==============================] - 0s 14ms/step - loss: 2.5814e-05 - val_loss: 0.0014\n",
            "Epoch 29/100\n",
            "23/23 [==============================] - 0s 13ms/step - loss: 2.8050e-05 - val_loss: 0.0012\n",
            "Epoch 30/100\n",
            "23/23 [==============================] - 0s 13ms/step - loss: 2.6515e-05 - val_loss: 0.0014\n",
            "Epoch 31/100\n",
            "23/23 [==============================] - 0s 13ms/step - loss: 2.5185e-05 - val_loss: 0.0011\n",
            "Epoch 32/100\n",
            "23/23 [==============================] - 0s 13ms/step - loss: 2.7388e-05 - val_loss: 0.0011\n",
            "Epoch 33/100\n",
            "23/23 [==============================] - 0s 13ms/step - loss: 2.6485e-05 - val_loss: 0.0012\n",
            "Epoch 34/100\n",
            "23/23 [==============================] - 0s 13ms/step - loss: 2.4384e-05 - val_loss: 0.0011\n",
            "Epoch 35/100\n",
            "23/23 [==============================] - 0s 13ms/step - loss: 2.7280e-05 - val_loss: 0.0012\n",
            "Epoch 36/100\n",
            "23/23 [==============================] - 0s 13ms/step - loss: 2.6638e-05 - val_loss: 0.0010\n",
            "Epoch 37/100\n",
            "23/23 [==============================] - 0s 13ms/step - loss: 2.3704e-05 - val_loss: 0.0011\n",
            "Epoch 38/100\n",
            "23/23 [==============================] - 0s 13ms/step - loss: 2.1783e-05 - val_loss: 0.0012\n",
            "Epoch 39/100\n",
            "23/23 [==============================] - 0s 13ms/step - loss: 2.2680e-05 - val_loss: 9.9842e-04\n",
            "Epoch 40/100\n",
            "23/23 [==============================] - 0s 13ms/step - loss: 2.5453e-05 - val_loss: 0.0010\n",
            "Epoch 41/100\n",
            "23/23 [==============================] - 0s 13ms/step - loss: 2.2337e-05 - val_loss: 0.0010\n",
            "Epoch 42/100\n",
            "23/23 [==============================] - 0s 14ms/step - loss: 2.2295e-05 - val_loss: 0.0012\n",
            "Epoch 43/100\n",
            "23/23 [==============================] - 0s 13ms/step - loss: 2.2207e-05 - val_loss: 0.0012\n",
            "Epoch 44/100\n",
            "23/23 [==============================] - 0s 13ms/step - loss: 2.2267e-05 - val_loss: 9.1796e-04\n",
            "Epoch 45/100\n",
            "23/23 [==============================] - 0s 14ms/step - loss: 2.1521e-05 - val_loss: 0.0011\n",
            "Epoch 46/100\n",
            "23/23 [==============================] - 0s 13ms/step - loss: 2.0414e-05 - val_loss: 9.0301e-04\n",
            "Epoch 47/100\n",
            "23/23 [==============================] - 0s 13ms/step - loss: 2.0055e-05 - val_loss: 9.3915e-04\n",
            "Epoch 48/100\n",
            "23/23 [==============================] - 0s 14ms/step - loss: 1.9016e-05 - val_loss: 9.8212e-04\n",
            "Epoch 49/100\n",
            "23/23 [==============================] - 0s 13ms/step - loss: 2.0441e-05 - val_loss: 8.7059e-04\n",
            "Epoch 50/100\n",
            "23/23 [==============================] - 0s 13ms/step - loss: 1.9347e-05 - val_loss: 9.3661e-04\n",
            "Epoch 51/100\n",
            "23/23 [==============================] - 0s 13ms/step - loss: 1.9030e-05 - val_loss: 8.7284e-04\n",
            "Epoch 52/100\n",
            "23/23 [==============================] - 0s 13ms/step - loss: 1.9676e-05 - val_loss: 0.0011\n",
            "Epoch 53/100\n",
            "23/23 [==============================] - 0s 13ms/step - loss: 2.0515e-05 - val_loss: 0.0012\n",
            "Epoch 54/100\n",
            "23/23 [==============================] - 0s 14ms/step - loss: 1.9447e-05 - val_loss: 0.0011\n",
            "Epoch 55/100\n",
            "23/23 [==============================] - 0s 13ms/step - loss: 1.7935e-05 - val_loss: 8.7138e-04\n",
            "Epoch 56/100\n",
            "23/23 [==============================] - 0s 13ms/step - loss: 1.9523e-05 - val_loss: 8.1851e-04\n",
            "Epoch 57/100\n",
            "23/23 [==============================] - 0s 13ms/step - loss: 1.8270e-05 - val_loss: 9.4350e-04\n",
            "Epoch 58/100\n",
            "23/23 [==============================] - 0s 13ms/step - loss: 1.8866e-05 - val_loss: 8.5290e-04\n",
            "Epoch 59/100\n",
            "23/23 [==============================] - 0s 13ms/step - loss: 1.7740e-05 - val_loss: 8.3448e-04\n",
            "Epoch 60/100\n",
            "23/23 [==============================] - 0s 13ms/step - loss: 1.8727e-05 - val_loss: 8.3924e-04\n",
            "Epoch 61/100\n",
            "23/23 [==============================] - 0s 13ms/step - loss: 1.7322e-05 - val_loss: 7.8484e-04\n",
            "Epoch 62/100\n",
            "23/23 [==============================] - 0s 13ms/step - loss: 1.7127e-05 - val_loss: 7.8994e-04\n",
            "Epoch 63/100\n",
            "23/23 [==============================] - 0s 13ms/step - loss: 1.6969e-05 - val_loss: 8.3845e-04\n",
            "Epoch 64/100\n",
            "23/23 [==============================] - 0s 14ms/step - loss: 1.6545e-05 - val_loss: 0.0010\n",
            "Epoch 65/100\n",
            "23/23 [==============================] - 0s 13ms/step - loss: 1.6968e-05 - val_loss: 8.2844e-04\n",
            "Epoch 66/100\n",
            "23/23 [==============================] - 0s 13ms/step - loss: 1.6222e-05 - val_loss: 8.5015e-04\n",
            "Epoch 67/100\n",
            "23/23 [==============================] - 0s 14ms/step - loss: 1.6478e-05 - val_loss: 8.8091e-04\n",
            "Epoch 68/100\n",
            "23/23 [==============================] - 0s 13ms/step - loss: 1.6539e-05 - val_loss: 8.6408e-04\n",
            "Epoch 69/100\n",
            "23/23 [==============================] - 0s 13ms/step - loss: 1.6310e-05 - val_loss: 8.1143e-04\n",
            "Epoch 70/100\n",
            "23/23 [==============================] - 0s 13ms/step - loss: 1.7047e-05 - val_loss: 7.4510e-04\n",
            "Epoch 71/100\n",
            "23/23 [==============================] - 0s 13ms/step - loss: 1.5985e-05 - val_loss: 7.5236e-04\n",
            "Epoch 72/100\n",
            "23/23 [==============================] - 0s 13ms/step - loss: 1.5565e-05 - val_loss: 7.3070e-04\n",
            "Epoch 73/100\n",
            "23/23 [==============================] - 0s 13ms/step - loss: 1.6296e-05 - val_loss: 7.9196e-04\n",
            "Epoch 74/100\n",
            "23/23 [==============================] - 0s 13ms/step - loss: 1.5460e-05 - val_loss: 7.5635e-04\n",
            "Epoch 75/100\n",
            "23/23 [==============================] - 0s 13ms/step - loss: 1.5222e-05 - val_loss: 7.5839e-04\n",
            "Epoch 76/100\n",
            "23/23 [==============================] - 0s 13ms/step - loss: 1.4938e-05 - val_loss: 6.9249e-04\n",
            "Epoch 77/100\n",
            "23/23 [==============================] - 0s 14ms/step - loss: 1.5697e-05 - val_loss: 0.0010\n",
            "Epoch 78/100\n",
            "23/23 [==============================] - 0s 13ms/step - loss: 1.6900e-05 - val_loss: 8.5218e-04\n",
            "Epoch 79/100\n",
            "23/23 [==============================] - 0s 14ms/step - loss: 1.6851e-05 - val_loss: 0.0013\n",
            "Epoch 80/100\n",
            "23/23 [==============================] - 0s 14ms/step - loss: 1.4488e-05 - val_loss: 8.5797e-04\n",
            "Epoch 81/100\n",
            "23/23 [==============================] - 0s 13ms/step - loss: 1.5690e-05 - val_loss: 7.1089e-04\n",
            "Epoch 82/100\n",
            "23/23 [==============================] - 0s 13ms/step - loss: 1.3551e-05 - val_loss: 9.7022e-04\n",
            "Epoch 83/100\n",
            "23/23 [==============================] - 0s 14ms/step - loss: 1.4269e-05 - val_loss: 6.9858e-04\n",
            "Epoch 84/100\n",
            "23/23 [==============================] - 0s 13ms/step - loss: 1.3649e-05 - val_loss: 9.7359e-04\n",
            "Epoch 85/100\n",
            "23/23 [==============================] - 0s 13ms/step - loss: 1.3834e-05 - val_loss: 9.8806e-04\n",
            "Epoch 86/100\n",
            "23/23 [==============================] - 0s 13ms/step - loss: 1.4093e-05 - val_loss: 7.9198e-04\n",
            "Epoch 87/100\n",
            "23/23 [==============================] - 0s 14ms/step - loss: 1.3924e-05 - val_loss: 7.2636e-04\n",
            "Epoch 88/100\n",
            "23/23 [==============================] - 0s 13ms/step - loss: 1.3113e-05 - val_loss: 6.3372e-04\n",
            "Epoch 89/100\n",
            "23/23 [==============================] - 0s 13ms/step - loss: 1.3143e-05 - val_loss: 6.6406e-04\n",
            "Epoch 90/100\n",
            "23/23 [==============================] - 0s 14ms/step - loss: 1.3045e-05 - val_loss: 0.0013\n",
            "Epoch 91/100\n",
            "23/23 [==============================] - 0s 13ms/step - loss: 1.3734e-05 - val_loss: 0.0012\n",
            "Epoch 92/100\n",
            "23/23 [==============================] - 0s 14ms/step - loss: 1.3445e-05 - val_loss: 9.5903e-04\n",
            "Epoch 93/100\n",
            "23/23 [==============================] - 0s 13ms/step - loss: 1.4331e-05 - val_loss: 8.2720e-04\n",
            "Epoch 94/100\n",
            "23/23 [==============================] - 0s 13ms/step - loss: 1.3039e-05 - val_loss: 7.7824e-04\n",
            "Epoch 95/100\n",
            "23/23 [==============================] - 0s 14ms/step - loss: 1.3530e-05 - val_loss: 8.9603e-04\n",
            "Epoch 96/100\n",
            "23/23 [==============================] - 0s 13ms/step - loss: 1.3856e-05 - val_loss: 6.1482e-04\n",
            "Epoch 97/100\n",
            "23/23 [==============================] - 0s 13ms/step - loss: 1.5471e-05 - val_loss: 7.3580e-04\n",
            "Epoch 98/100\n",
            "23/23 [==============================] - 0s 14ms/step - loss: 1.2181e-05 - val_loss: 7.3271e-04\n",
            "Epoch 99/100\n",
            "23/23 [==============================] - 0s 13ms/step - loss: 1.2743e-05 - val_loss: 6.9473e-04\n",
            "Epoch 100/100\n",
            "23/23 [==============================] - 0s 13ms/step - loss: 1.3493e-05 - val_loss: 6.8767e-04\n"
          ],
          "name": "stdout"
        }
      ]
    },
    {
      "cell_type": "code",
      "metadata": {
        "id": "5mU029LGGlhv"
      },
      "source": [
        "import tensorflow as tf"
      ],
      "execution_count": null,
      "outputs": []
    },
    {
      "cell_type": "code",
      "metadata": {
        "colab": {
          "base_uri": "https://localhost:8080/",
          "height": 35
        },
        "id": "hNmOfT3OGlhv",
        "outputId": "7dddf390-5ac5-445c-a161-9fc2b7a0aa8b"
      },
      "source": [
        "tf.__version__"
      ],
      "execution_count": null,
      "outputs": [
        {
          "output_type": "execute_result",
          "data": {
            "application/vnd.google.colaboratory.intrinsic+json": {
              "type": "string"
            },
            "text/plain": [
              "'2.3.0'"
            ]
          },
          "metadata": {
            "tags": []
          },
          "execution_count": 29
        }
      ]
    },
    {
      "cell_type": "code",
      "metadata": {
        "id": "IXc1tP_9Glhw"
      },
      "source": [
        "### Lets Do the prediction and check performance metrics\n",
        "train_predict=model.predict(X_train)\n",
        "test_predict=model.predict(X_test)"
      ],
      "execution_count": null,
      "outputs": []
    },
    {
      "cell_type": "code",
      "metadata": {
        "colab": {
          "base_uri": "https://localhost:8080/"
        },
        "id": "BONVEUF3BpeX",
        "outputId": "b1360b1e-0483-4f6e-8ac0-ce7b1b0ab40f"
      },
      "source": [
        "train_predict[:5]\n"
      ],
      "execution_count": null,
      "outputs": [
        {
          "output_type": "execute_result",
          "data": {
            "text/plain": [
              "array([[0.00544813],\n",
              "       [0.00542757],\n",
              "       [0.00527218],\n",
              "       [0.00511159],\n",
              "       [0.00505857]], dtype=float32)"
            ]
          },
          "metadata": {
            "tags": []
          },
          "execution_count": 31
        }
      ]
    },
    {
      "cell_type": "code",
      "metadata": {
        "colab": {
          "base_uri": "https://localhost:8080/"
        },
        "id": "O1aiK6bJBQNk",
        "outputId": "df59f9ad-961c-4bab-9c8d-1246f7d937ba"
      },
      "source": [
        "test_predict[:5]"
      ],
      "execution_count": null,
      "outputs": [
        {
          "output_type": "execute_result",
          "data": {
            "text/plain": [
              "array([[0.19508946],\n",
              "       [0.19666177],\n",
              "       [0.19030407],\n",
              "       [0.196365  ],\n",
              "       [0.19994618]], dtype=float32)"
            ]
          },
          "metadata": {
            "tags": []
          },
          "execution_count": 32
        }
      ]
    },
    {
      "cell_type": "code",
      "metadata": {
        "id": "UI6FZS7ZTLi7"
      },
      "source": [
        "n,m=y_train.shape[0],ytest.shape[0]\n",
        "y_train=y_train.reshape(n,1)\n",
        "y_test=ytest.reshape(m,1)"
      ],
      "execution_count": null,
      "outputs": []
    },
    {
      "cell_type": "code",
      "metadata": {
        "id": "Azp2iFXEGlhw"
      },
      "source": [
        "##Transformback to original form\n",
        "train_pred=scaler.inverse_transform(train_predict)\n",
        "test_pred=scaler.inverse_transform(test_predict)\n",
        "y_train_act=scaler.inverse_transform(y_train)\n",
        "y_test_act=scaler.inverse_transform(y_test)"
      ],
      "execution_count": null,
      "outputs": []
    },
    {
      "cell_type": "code",
      "metadata": {
        "colab": {
          "base_uri": "https://localhost:8080/"
        },
        "id": "wbnAsikQEZvW",
        "outputId": "7e5df9f2-e06e-4fb7-fa6d-8d8a7ed3a41a"
      },
      "source": [
        "print(train_pred.shape,y_train_act.shape)"
      ],
      "execution_count": null,
      "outputs": [
        {
          "output_type": "stream",
          "text": [
            "(1466, 1) (1466, 1)\n"
          ],
          "name": "stdout"
        }
      ]
    },
    {
      "cell_type": "code",
      "metadata": {
        "colab": {
          "base_uri": "https://localhost:8080/"
        },
        "id": "6fVVTchxV_LY",
        "outputId": "65431db3-3313-421b-e11f-cdeb9e9d512f"
      },
      "source": [
        "print(test_pred.shape,y_test_act.shape)"
      ],
      "execution_count": null,
      "outputs": [
        {
          "output_type": "stream",
          "text": [
            "(744, 1) (744, 1)\n"
          ],
          "name": "stdout"
        }
      ]
    },
    {
      "cell_type": "code",
      "metadata": {
        "colab": {
          "base_uri": "https://localhost:8080/"
        },
        "id": "orHTx7vUA3Oq",
        "outputId": "4a11ab60-cb5c-40b9-8341-4f278485b498"
      },
      "source": [
        "## looking at dimensions of y_train and train_predict\n",
        "print(y_train.shape), print(ytest.shape)\n",
        "y_train[:5], train_predict[:5]\n",
        "y_train_error = df1[101:training_size].values\n",
        "ytest_error = df1[training_size+101:].values\n",
        "print(y_train_error.shape), print(ytest_error.shape)"
      ],
      "execution_count": null,
      "outputs": [
        {
          "output_type": "stream",
          "text": [
            "(1466, 1)\n",
            "(744,)\n",
            "(1466,)\n",
            "(744,)\n"
          ],
          "name": "stdout"
        },
        {
          "output_type": "execute_result",
          "data": {
            "text/plain": [
              "(None, None)"
            ]
          },
          "metadata": {
            "tags": []
          },
          "execution_count": 37
        }
      ]
    },
    {
      "cell_type": "code",
      "metadata": {
        "colab": {
          "base_uri": "https://localhost:8080/"
        },
        "id": "1r-2fzGLGlhw",
        "outputId": "21928333-1c7d-417a-d2ce-79a6e17d0b08"
      },
      "source": [
        "### Calculate RMSE performance metrics\n",
        "import math\n",
        "from sklearn.metrics import mean_squared_error,mean_absolute_error\n",
        "def MAPE(y_true,y_pred):\n",
        "  mape=np.mean(np.abs(y_true-y_pred)/y_true)*100\n",
        "  return mape\n",
        "print('RMSE_Train=','%0.3f'%math.sqrt(mean_squared_error(y_train_act,train_pred)))\n",
        "print('RMSE_Test=','%0.3f'%math.sqrt(mean_squared_error(y_test_act,test_pred)))\n",
        "print('----------------------')\n",
        "print('MAE_Train=','%0.3f'%mean_absolute_error(y_train_act,train_pred))\n",
        "print('MAE_Test=','%0.3f'%mean_absolute_error(y_test_act,test_pred))\n",
        "print('----------------------')\n",
        "print('MAPE_Train=','%0.3f'%MAPE(y_train_act,train_pred),'%')\n",
        "print('MAPE_Test=','%0.3f'%MAPE(y_test_act,test_pred),'%')\n",
        "print('----------------------')"
      ],
      "execution_count": null,
      "outputs": [
        {
          "output_type": "stream",
          "text": [
            "RMSE_Train= 1.228\n",
            "RMSE_Test= 9.367\n",
            "----------------------\n",
            "MAE_Train= 0.580\n",
            "MAE_Test= 4.589\n",
            "----------------------\n",
            "MAPE_Train= 8.866 %\n",
            "MAPE_Test= 4.068 %\n",
            "----------------------\n"
          ],
          "name": "stdout"
        }
      ]
    },
    {
      "cell_type": "code",
      "metadata": {
        "colab": {
          "base_uri": "https://localhost:8080/",
          "height": 265
        },
        "id": "NxCsUpjzGlhx",
        "outputId": "02c4b8e0-d7ab-42c3-d0da-276b834fbe67"
      },
      "source": [
        "### Plotting \n",
        "# shift train predictions for plotting\n",
        "look_back=100\n",
        "trainPredictPlot = numpy.empty_like(df1_new)\n",
        "trainPredictPlot[:, :] = numpy.nan\n",
        "trainPredictPlot[look_back:len(train_pred)+look_back, :] = train_pred\n",
        "# shift test predictions for plotting\n",
        "testPredictPlot = numpy.empty_like(df1_new)\n",
        "testPredictPlot[:, :] = numpy.nan\n",
        "testPredictPlot[len(train_predict)+(look_back*2)+1:len(df1)-1, :] = test_pred\n",
        "# plot baseline and predictions\n",
        "plt.plot(scaler.inverse_transform(df1_new),label='Actual Value')\n",
        "plt.plot(trainPredictPlot,label='Train Prediction')\n",
        "plt.plot(testPredictPlot,label='Test Prediction')\n",
        "plt.ylabel('Values')\n",
        "plt.legend()\n",
        "plt.show()"
      ],
      "execution_count": null,
      "outputs": [
        {
          "output_type": "display_data",
          "data": {
            "image/png": "[encoded data removed]",
            "text/plain": [
              "<Figure size 432x288 with 1 Axes>"
            ]
          },
          "metadata": {
            "tags": [],
            "needs_background": "light"
          }
        }
      ]
    },
    {
      "cell_type": "code",
      "metadata": {
        "colab": {
          "base_uri": "https://localhost:8080/",
          "height": 267
        },
        "id": "Og1W0BAfNzah",
        "outputId": "c3c5bfb1-f99c-4616-80b7-2c5eb713590e"
      },
      "source": [
        "final_predict = numpy.empty_like(df1_new)\n",
        "final_predict[:, :] = np.nan\n",
        "final_predict[look_back:len(train_predict)+look_back, :] = train_pred\n",
        "final_predict[len(train_predict)+(look_back*2)+1:len(df1)-1, :] = test_pred\n",
        "plt.plot(final_predict)\n",
        "plt.ylabel('Values')\n",
        "plt.show()"
      ],
      "execution_count": null,
      "outputs": [
        {
          "output_type": "display_data",
          "data": {
            "image/png": "[encoded data removed]",
            "text/plain": [
              "<Figure size 432x288 with 1 Axes>"
            ]
          },
          "metadata": {
            "tags": [],
            "needs_background": "light"
          }
        }
      ]
    },
    {
      "cell_type": "code",
      "metadata": {
        "id": "Q71iFOFBOA9w",
        "colab": {
          "base_uri": "https://localhost:8080/",
          "height": 267
        },
        "outputId": "836362e4-398d-49c5-f5c5-ec179e0f7769"
      },
      "source": [
        "final_predict[len(train_predict)+look_back:len(train_predict)+(look_back*2)+1, :] = scaler.inverse_transform(df1_new)[len(train_predict)+look_back:len(train_predict)+(look_back*2)+1, :]\n",
        "final_predict[:look_back, :] = scaler.inverse_transform(df1_new)[:look_back, :]\n",
        "plt.plot(final_predict)\n",
        "plt.show()"
      ],
      "execution_count": null,
      "outputs": [
        {
          "output_type": "display_data",
          "data": {
            "image/png": "[encoded data removed]",
            "text/plain": [
              "<Figure size 432x288 with 1 Axes>"
            ]
          },
          "metadata": {
            "tags": [],
            "needs_background": "light"
          }
        }
      ]
    },
    {
      "cell_type": "code",
      "metadata": {
        "id": "qSA0MWERQ_7C",
        "colab": {
          "base_uri": "https://localhost:8080/",
          "height": 297
        },
        "outputId": "6462176f-a2bb-42ab-a813-dca7938e8412"
      },
      "source": [
        "plt.plot(history.history['loss'],label='Train Loss')\n",
        "plt.plot(history.history['val_loss'],label='Test Loss')\n",
        "plt.xlabel('Epoch')\n",
        "plt.ylabel('Loss')\n",
        "plt.legend()\n",
        "plt.show"
      ],
      "execution_count": null,
      "outputs": [
        {
          "output_type": "execute_result",
          "data": {
            "text/plain": [
              "<function matplotlib.pyplot.show>"
            ]
          },
          "metadata": {
            "tags": []
          },
          "execution_count": 42
        },
        {
          "output_type": "display_data",
          "data": {
            "image/png": "[encoded data removed]",
            "text/plain": [
              "<Figure size 432x288 with 1 Axes>"
            ]
          },
          "metadata": {
            "tags": [],
            "needs_background": "light"
          }
        }
      ]
    },
    {
      "cell_type": "code",
      "metadata": {
        "id": "XIV0oNmnS0J0"
      },
      "source": [
        ""
      ],
      "execution_count": null,
      "outputs": []
    }
  ]
}