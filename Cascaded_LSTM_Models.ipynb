{
  "nbformat": 4,
  "nbformat_minor": 0,
  "metadata": {
    "accelerator": "GPU",
    "colab": {
      "name": "Cascaded_LSTM_Models.ipynb",
      "provenance": [],
      "collapsed_sections": [],
      "include_colab_link": true
    },
    "kernelspec": {
      "display_name": "Python 3",
      "language": "python",
      "name": "python3"
    },
    "language_info": {
      "codemirror_mode": {
        "name": "ipython",
        "version": 3
      },
      "file_extension": ".py",
      "mimetype": "text/x-python",
      "name": "python",
      "nbconvert_exporter": "python",
      "pygments_lexer": "ipython3",
      "version": "3.6.9"
    }
  },
  "cells": [
    {
      "cell_type": "markdown",
      "metadata": {
        "id": "view-in-github",
        "colab_type": "text"
      },
      "source": [
        "<a href=\"https://colab.research.google.com/github/jeevanswaroopdasari/Cryptocurrency-Prediction-using-ARIMA-and-LSTM/blob/main/Cascaded_LSTM_Models.ipynb\" target=\"_parent\"><img src=\"https://colab.research.google.com/assets/colab-badge.svg\" alt=\"Open In Colab\"/></a>"
      ]
    },
    {
      "cell_type": "markdown",
      "metadata": {
        "id": "1emB6EilGlhc"
      },
      "source": [
        "### Cryptocurrency Prediction And Forecasting Using Stacked LSTM / LSTM"
      ]
    },
    {
      "cell_type": "code",
      "metadata": {
        "id": "3UXeJ8IwGlhf"
      },
      "source": [
        "import pandas as pd"
      ],
      "execution_count": null,
      "outputs": []
    },
    {
      "cell_type": "code",
      "metadata": {
        "colab": {
          "base_uri": "https://localhost:8080/"
        },
        "id": "xwI8LW4jGz9-",
        "outputId": "3be8f414-353d-4b8e-da67-d7f3a18b340c"
      },
      "source": [
        "from google.colab import drive\n",
        "drive.mount('/content/drive')"
      ],
      "execution_count": null,
      "outputs": [
        {
          "output_type": "stream",
          "text": [
            "Drive already mounted at /content/drive; to attempt to forcibly remount, call drive.mount(\"/content/drive\", force_remount=True).\n"
          ],
          "name": "stdout"
        }
      ]
    },
    {
      "cell_type": "code",
      "metadata": {
        "id": "QPXoN5J7Glhg"
      },
      "source": [
        "#Input Data for Cascaded Model\n",
        "file_path = '/content/drive/MyDrive/CS725_Project/data.csv'\n",
        "df=pd.read_csv(file_path)\n"
      ],
      "execution_count": null,
      "outputs": []
    },
    {
      "cell_type": "code",
      "metadata": {
        "colab": {
          "base_uri": "https://localhost:8080/",
          "height": 198
        },
        "id": "8x5qxx45Glhg",
        "outputId": "46f0b24f-0d7a-405f-cca4-9bdc2498988a"
      },
      "source": [
        "df.head()"
      ],
      "execution_count": null,
      "outputs": [
        {
          "output_type": "execute_result",
          "data": {
            "text/html": [
              "<div>\n",
              "<style scoped>\n",
              "    .dataframe tbody tr th:only-of-type {\n",
              "        vertical-align: middle;\n",
              "    }\n",
              "\n",
              "    .dataframe tbody tr th {\n",
              "        vertical-align: top;\n",
              "    }\n",
              "\n",
              "    .dataframe thead th {\n",
              "        text-align: right;\n",
              "    }\n",
              "</style>\n",
              "<table border=\"1\" class=\"dataframe\">\n",
              "  <thead>\n",
              "    <tr style=\"text-align: right;\">\n",
              "      <th></th>\n",
              "      <th>Unnamed: 0</th>\n",
              "      <th>close</th>\n",
              "    </tr>\n",
              "  </thead>\n",
              "  <tbody>\n",
              "    <tr>\n",
              "      <th>0</th>\n",
              "      <td>10</td>\n",
              "      <td>-4.292589</td>\n",
              "    </tr>\n",
              "    <tr>\n",
              "      <th>1</th>\n",
              "      <td>11</td>\n",
              "      <td>-12.354187</td>\n",
              "    </tr>\n",
              "    <tr>\n",
              "      <th>2</th>\n",
              "      <td>12</td>\n",
              "      <td>-14.385909</td>\n",
              "    </tr>\n",
              "    <tr>\n",
              "      <th>3</th>\n",
              "      <td>13</td>\n",
              "      <td>-23.309895</td>\n",
              "    </tr>\n",
              "    <tr>\n",
              "      <th>4</th>\n",
              "      <td>14</td>\n",
              "      <td>-30.198339</td>\n",
              "    </tr>\n",
              "  </tbody>\n",
              "</table>\n",
              "</div>"
            ],
            "text/plain": [
              "   Unnamed: 0      close\n",
              "0          10  -4.292589\n",
              "1          11 -12.354187\n",
              "2          12 -14.385909\n",
              "3          13 -23.309895\n",
              "4          14 -30.198339"
            ]
          },
          "metadata": {
            "tags": []
          },
          "execution_count": 5
        }
      ]
    },
    {
      "cell_type": "code",
      "metadata": {
        "colab": {
          "base_uri": "https://localhost:8080/",
          "height": 198
        },
        "id": "LBVKQwm0Glhk",
        "outputId": "858f1f98-51de-4b4e-cc7e-de97bb480f57"
      },
      "source": [
        "df.tail()"
      ],
      "execution_count": null,
      "outputs": [
        {
          "output_type": "execute_result",
          "data": {
            "text/html": [
              "<div>\n",
              "<style scoped>\n",
              "    .dataframe tbody tr th:only-of-type {\n",
              "        vertical-align: middle;\n",
              "    }\n",
              "\n",
              "    .dataframe tbody tr th {\n",
              "        vertical-align: top;\n",
              "    }\n",
              "\n",
              "    .dataframe thead th {\n",
              "        text-align: right;\n",
              "    }\n",
              "</style>\n",
              "<table border=\"1\" class=\"dataframe\">\n",
              "  <thead>\n",
              "    <tr style=\"text-align: right;\">\n",
              "      <th></th>\n",
              "      <th>Unnamed: 0</th>\n",
              "      <th>close</th>\n",
              "    </tr>\n",
              "  </thead>\n",
              "  <tbody>\n",
              "    <tr>\n",
              "      <th>2397</th>\n",
              "      <td>2407</td>\n",
              "      <td>4556.512887</td>\n",
              "    </tr>\n",
              "    <tr>\n",
              "      <th>2398</th>\n",
              "      <td>2408</td>\n",
              "      <td>4411.148513</td>\n",
              "    </tr>\n",
              "    <tr>\n",
              "      <th>2399</th>\n",
              "      <td>2409</td>\n",
              "      <td>4308.824197</td>\n",
              "    </tr>\n",
              "    <tr>\n",
              "      <th>2400</th>\n",
              "      <td>2410</td>\n",
              "      <td>4306.959937</td>\n",
              "    </tr>\n",
              "    <tr>\n",
              "      <th>2401</th>\n",
              "      <td>2411</td>\n",
              "      <td>4238.815735</td>\n",
              "    </tr>\n",
              "  </tbody>\n",
              "</table>\n",
              "</div>"
            ],
            "text/plain": [
              "      Unnamed: 0        close\n",
              "2397        2407  4556.512887\n",
              "2398        2408  4411.148513\n",
              "2399        2409  4308.824197\n",
              "2400        2410  4306.959937\n",
              "2401        2411  4238.815735"
            ]
          },
          "metadata": {
            "tags": []
          },
          "execution_count": 6
        }
      ]
    },
    {
      "cell_type": "code",
      "metadata": {
        "id": "HND2BJZwGlhk",
        "colab": {
          "base_uri": "https://localhost:8080/"
        },
        "outputId": "98477e76-c17b-486b-8c7e-bbd91cdeb7ed"
      },
      "source": [
        "df1=df.reset_index()['close']\n",
        "df1"
      ],
      "execution_count": null,
      "outputs": [
        {
          "output_type": "execute_result",
          "data": {
            "text/plain": [
              "0         -4.292589\n",
              "1        -12.354187\n",
              "2        -14.385909\n",
              "3        -23.309895\n",
              "4        -30.198339\n",
              "           ...     \n",
              "2397    4556.512887\n",
              "2398    4411.148513\n",
              "2399    4308.824197\n",
              "2400    4306.959937\n",
              "2401    4238.815735\n",
              "Name: close, Length: 2402, dtype: float64"
            ]
          },
          "metadata": {
            "tags": []
          },
          "execution_count": 7
        }
      ]
    },
    {
      "cell_type": "code",
      "metadata": {
        "id": "AkEMPjJYGlhk"
      },
      "source": [
        ""
      ],
      "execution_count": null,
      "outputs": []
    },
    {
      "cell_type": "code",
      "metadata": {
        "colab": {
          "base_uri": "https://localhost:8080/",
          "height": 283
        },
        "id": "lyzQ_HjzGlhl",
        "outputId": "944ed11f-dd11-4f7b-ab31-5136ba275351"
      },
      "source": [
        "import matplotlib.pyplot as plt\n",
        "df1.plot.line()"
      ],
      "execution_count": null,
      "outputs": [
        {
          "output_type": "execute_result",
          "data": {
            "text/plain": [
              "<matplotlib.axes._subplots.AxesSubplot at 0x7f3f205fce80>"
            ]
          },
          "metadata": {
            "tags": []
          },
          "execution_count": 9
        },
        {
          "output_type": "display_data",
          "data": {
            "image/png": "[encoded data removed]",
            "text/plain": [
              "<Figure size 432x288 with 1 Axes>"
            ]
          },
          "metadata": {
            "tags": [],
            "needs_background": "light"
          }
        }
      ]
    },
    {
      "cell_type": "code",
      "metadata": {
        "id": "g6VoKVzEGlhr"
      },
      "source": [
        "### LSTM are sensitive to the scale of the data. so we apply MinMax scaler "
      ],
      "execution_count": null,
      "outputs": []
    },
    {
      "cell_type": "code",
      "metadata": {
        "id": "diJ0dKBeGlhr"
      },
      "source": [
        "import numpy as np"
      ],
      "execution_count": null,
      "outputs": []
    },
    {
      "cell_type": "code",
      "metadata": {
        "colab": {
          "base_uri": "https://localhost:8080/"
        },
        "id": "J-TIPkzKGlhr",
        "outputId": "fe20fa07-ae26-49dc-9aba-9a5faa2914ae"
      },
      "source": [
        "df1"
      ],
      "execution_count": null,
      "outputs": [
        {
          "output_type": "execute_result",
          "data": {
            "text/plain": [
              "0         -4.292589\n",
              "1        -12.354187\n",
              "2        -14.385909\n",
              "3        -23.309895\n",
              "4        -30.198339\n",
              "           ...     \n",
              "2397    4556.512887\n",
              "2398    4411.148513\n",
              "2399    4308.824197\n",
              "2400    4306.959937\n",
              "2401    4238.815735\n",
              "Name: close, Length: 2402, dtype: float64"
            ]
          },
          "metadata": {
            "tags": []
          },
          "execution_count": 11
        }
      ]
    },
    {
      "cell_type": "code",
      "metadata": {
        "id": "1yvx5v7AGlhr"
      },
      "source": [
        "from sklearn.preprocessing import MinMaxScaler\n",
        "scaler=MinMaxScaler(feature_range=(0,1))\n",
        "df1_new=scaler.fit_transform(np.array(df1).reshape(-1,1))"
      ],
      "execution_count": null,
      "outputs": []
    },
    {
      "cell_type": "code",
      "metadata": {
        "colab": {
          "base_uri": "https://localhost:8080/"
        },
        "id": "owiL0PeTGlhr",
        "outputId": "7fe86943-88cb-4f79-9fa3-14b04f2854af"
      },
      "source": [
        "print(df1_new)"
      ],
      "execution_count": null,
      "outputs": [
        {
          "output_type": "stream",
          "text": [
            "[[0.12735234]\n",
            " [0.12692685]\n",
            " [0.12681962]\n",
            " ...\n",
            " [0.35499697]\n",
            " [0.35489858]\n",
            " [0.35130195]]\n"
          ],
          "name": "stdout"
        }
      ]
    },
    {
      "cell_type": "code",
      "metadata": {
        "id": "DJS6SDWzGlhs"
      },
      "source": [
        "##splitting dataset into train and test split\n",
        "training_size=int(len(df1_new)*0.65)\n",
        "test_size=len(df1_new)-training_size\n",
        "train_data,test_data=df1_new[0:training_size,:],df1_new[training_size:len(df1_new),:1]"
      ],
      "execution_count": null,
      "outputs": []
    },
    {
      "cell_type": "code",
      "metadata": {
        "colab": {
          "base_uri": "https://localhost:8080/"
        },
        "id": "MQJGGfroGlhs",
        "outputId": "e7829ce7-9f42-48ef-8642-063ffa1de725"
      },
      "source": [
        "training_size,test_size"
      ],
      "execution_count": null,
      "outputs": [
        {
          "output_type": "execute_result",
          "data": {
            "text/plain": [
              "(1561, 841)"
            ]
          },
          "metadata": {
            "tags": []
          },
          "execution_count": 15
        }
      ]
    },
    {
      "cell_type": "code",
      "metadata": {
        "colab": {
          "base_uri": "https://localhost:8080/"
        },
        "id": "kldTRO7lGlhs",
        "outputId": "48937d5d-af8a-4a51-a9d2-f77c28a9c2e5"
      },
      "source": [
        "train_data"
      ],
      "execution_count": null,
      "outputs": [
        {
          "output_type": "execute_result",
          "data": {
            "text/plain": [
              "array([[0.12735234],\n",
              "       [0.12692685],\n",
              "       [0.12681962],\n",
              "       ...,\n",
              "       [0.18692229],\n",
              "       [0.20020665],\n",
              "       [0.19263939]])"
            ]
          },
          "metadata": {
            "tags": []
          },
          "execution_count": 16
        }
      ]
    },
    {
      "cell_type": "code",
      "metadata": {
        "id": "oWGEEUaJGlht"
      },
      "source": [
        "import numpy\n",
        "# convert an array of values into a dataset matrix\n",
        "def create_dataset(dataset, time_step=1):\n",
        "\tdataX, dataY = [], []\n",
        "\tfor i in range(len(dataset)-time_step-1):\n",
        "\t\ta = dataset[i:(i+time_step), 0]   ###i=0, 0,1,2,3-----99   100 \n",
        "\t\tdataX.append(a)\n",
        "\t\tdataY.append(dataset[i + time_step, 0])\n",
        "\treturn numpy.array(dataX), numpy.array(dataY)"
      ],
      "execution_count": null,
      "outputs": []
    },
    {
      "cell_type": "code",
      "metadata": {
        "id": "GicvLISCGlht"
      },
      "source": [
        "# reshape into X=t,t+1,t+2,t+3 and Y=t+4\n",
        "time_step = 100\n",
        "X_train, y_train = create_dataset(train_data, time_step)\n",
        "X_test, ytest = create_dataset(test_data, time_step)"
      ],
      "execution_count": null,
      "outputs": []
    },
    {
      "cell_type": "code",
      "metadata": {
        "colab": {
          "base_uri": "https://localhost:8080/"
        },
        "id": "qeEMtOzpGlht",
        "outputId": "d57cc157-235e-4d37-ae0d-bc90b1061f80"
      },
      "source": [
        "print(X_train.shape), print(y_train.shape)"
      ],
      "execution_count": null,
      "outputs": [
        {
          "output_type": "stream",
          "text": [
            "(1460, 100)\n",
            "(1460,)\n"
          ],
          "name": "stdout"
        },
        {
          "output_type": "execute_result",
          "data": {
            "text/plain": [
              "(None, None)"
            ]
          },
          "metadata": {
            "tags": []
          },
          "execution_count": 19
        }
      ]
    },
    {
      "cell_type": "code",
      "metadata": {
        "colab": {
          "base_uri": "https://localhost:8080/"
        },
        "id": "5IhSZy4pGlhu",
        "outputId": "4041c713-4c20-425f-c98a-eff5fb3892e6"
      },
      "source": [
        "print(X_test.shape), print(ytest.shape)"
      ],
      "execution_count": null,
      "outputs": [
        {
          "output_type": "stream",
          "text": [
            "(740, 100)\n",
            "(740,)\n"
          ],
          "name": "stdout"
        },
        {
          "output_type": "execute_result",
          "data": {
            "text/plain": [
              "(None, None)"
            ]
          },
          "metadata": {
            "tags": []
          },
          "execution_count": 20
        }
      ]
    },
    {
      "cell_type": "code",
      "metadata": {
        "id": "xCq00A4gGlhu"
      },
      "source": [
        "# reshape input to be [samples, time steps, features] which is required for LSTM\n",
        "X_train =X_train.reshape(X_train.shape[0],X_train.shape[1] , 1)\n",
        "X_test = X_test.reshape(X_test.shape[0],X_test.shape[1] , 1)"
      ],
      "execution_count": null,
      "outputs": []
    },
    {
      "cell_type": "code",
      "metadata": {
        "id": "kisa6ekMGlhu"
      },
      "source": [
        "### Create the Stacked LSTM model\n",
        "from tensorflow.keras.models import Sequential\n",
        "from tensorflow.keras.layers import Dense\n",
        "from tensorflow.keras.layers import LSTM"
      ],
      "execution_count": null,
      "outputs": []
    },
    {
      "cell_type": "markdown",
      "metadata": {
        "id": "X2Pug_2u2zSX"
      },
      "source": [
        "###Stacked LSTM"
      ]
    },
    {
      "cell_type": "code",
      "metadata": {
        "id": "2snTqf0GGlhu"
      },
      "source": [
        "model=Sequential()\n",
        "model.add(LSTM(50,return_sequences=True,input_shape=(100,1)))\n",
        "#model.add(LSTM(50,return_sequences=True))\n",
        "model.add(LSTM(50))\n",
        "model.add(Dense(1))\n",
        "model.compile(loss='mean_squared_error',optimizer='adam')"
      ],
      "execution_count": null,
      "outputs": []
    },
    {
      "cell_type": "code",
      "metadata": {
        "colab": {
          "base_uri": "https://localhost:8080/"
        },
        "id": "Z-O-K8XcGlhu",
        "outputId": "9d1fc071-3f48-4057-b9f1-ee3083011520"
      },
      "source": [
        "model.summary()"
      ],
      "execution_count": null,
      "outputs": [
        {
          "output_type": "stream",
          "text": [
            "Model: \"sequential\"\n",
            "_________________________________________________________________\n",
            "Layer (type)                 Output Shape              Param #   \n",
            "=================================================================\n",
            "lstm (LSTM)                  (None, 100, 50)           10400     \n",
            "_________________________________________________________________\n",
            "lstm_1 (LSTM)                (None, 50)                20200     \n",
            "_________________________________________________________________\n",
            "dense (Dense)                (None, 1)                 51        \n",
            "=================================================================\n",
            "Total params: 30,651\n",
            "Trainable params: 30,651\n",
            "Non-trainable params: 0\n",
            "_________________________________________________________________\n"
          ],
          "name": "stdout"
        }
      ]
    },
    {
      "cell_type": "markdown",
      "metadata": {
        "id": "Qo0F6S3w27ZY"
      },
      "source": [
        "### Simple LSTM Model"
      ]
    },
    {
      "cell_type": "code",
      "metadata": {
        "id": "8Ltw_hvU269C"
      },
      "source": [
        "#define model\n",
        "# model = Sequential()\n",
        "# model.add(LSTM(50,return_sequences=True,input_shape=(100,1)))\n",
        "# model.add(Dense(1))\n",
        "# model.compile(optimizer='adam', loss='mse')"
      ],
      "execution_count": null,
      "outputs": []
    },
    {
      "cell_type": "code",
      "metadata": {
        "id": "PsfThCkZGlhu"
      },
      "source": [
        "#model.summary()"
      ],
      "execution_count": null,
      "outputs": []
    },
    {
      "cell_type": "code",
      "metadata": {
        "colab": {
          "base_uri": "https://localhost:8080/"
        },
        "id": "ZS3ykgQ2Glhv",
        "outputId": "54d6799b-938f-40e3-c27e-d175b7a10ee8"
      },
      "source": [
        "model.fit(X_train,y_train,validation_data=(X_test,ytest),epochs=100,batch_size=64,verbose=1)"
      ],
      "execution_count": null,
      "outputs": [
        {
          "output_type": "stream",
          "text": [
            "Epoch 1/100\n",
            "23/23 [==============================] - 1s 47ms/step - loss: 4.2338e-04 - val_loss: 0.0041\n",
            "Epoch 2/100\n",
            "23/23 [==============================] - 0s 13ms/step - loss: 3.8971e-05 - val_loss: 0.0037\n",
            "Epoch 3/100\n",
            "23/23 [==============================] - 0s 13ms/step - loss: 2.9119e-05 - val_loss: 0.0035\n",
            "Epoch 4/100\n",
            "23/23 [==============================] - 0s 13ms/step - loss: 2.7919e-05 - val_loss: 0.0034\n",
            "Epoch 5/100\n",
            "23/23 [==============================] - 0s 13ms/step - loss: 2.7089e-05 - val_loss: 0.0032\n",
            "Epoch 6/100\n",
            "23/23 [==============================] - 0s 13ms/step - loss: 2.6156e-05 - val_loss: 0.0033\n",
            "Epoch 7/100\n",
            "23/23 [==============================] - 0s 13ms/step - loss: 2.4364e-05 - val_loss: 0.0025\n",
            "Epoch 8/100\n",
            "23/23 [==============================] - 0s 13ms/step - loss: 2.4135e-05 - val_loss: 0.0024\n",
            "Epoch 9/100\n",
            "23/23 [==============================] - 0s 13ms/step - loss: 2.5473e-05 - val_loss: 0.0024\n",
            "Epoch 10/100\n",
            "23/23 [==============================] - 0s 12ms/step - loss: 2.2296e-05 - val_loss: 0.0029\n",
            "Epoch 11/100\n",
            "23/23 [==============================] - 0s 13ms/step - loss: 2.1653e-05 - val_loss: 0.0021\n",
            "Epoch 12/100\n",
            "23/23 [==============================] - 0s 12ms/step - loss: 2.2438e-05 - val_loss: 0.0021\n",
            "Epoch 13/100\n",
            "23/23 [==============================] - 0s 12ms/step - loss: 2.0317e-05 - val_loss: 0.0034\n",
            "Epoch 14/100\n",
            "23/23 [==============================] - 0s 13ms/step - loss: 1.8380e-05 - val_loss: 0.0024\n",
            "Epoch 15/100\n",
            "23/23 [==============================] - 0s 13ms/step - loss: 1.7175e-05 - val_loss: 0.0021\n",
            "Epoch 16/100\n",
            "23/23 [==============================] - 0s 12ms/step - loss: 1.8300e-05 - val_loss: 0.0020\n",
            "Epoch 17/100\n",
            "23/23 [==============================] - 0s 13ms/step - loss: 1.7323e-05 - val_loss: 0.0022\n",
            "Epoch 18/100\n",
            "23/23 [==============================] - 0s 13ms/step - loss: 1.9085e-05 - val_loss: 0.0020\n",
            "Epoch 19/100\n",
            "23/23 [==============================] - 0s 13ms/step - loss: 1.9629e-05 - val_loss: 0.0024\n",
            "Epoch 20/100\n",
            "23/23 [==============================] - 0s 12ms/step - loss: 1.7901e-05 - val_loss: 0.0035\n",
            "Epoch 21/100\n",
            "23/23 [==============================] - 0s 13ms/step - loss: 1.8267e-05 - val_loss: 0.0019\n",
            "Epoch 22/100\n",
            "23/23 [==============================] - 0s 13ms/step - loss: 1.6758e-05 - val_loss: 0.0021\n",
            "Epoch 23/100\n",
            "23/23 [==============================] - 0s 12ms/step - loss: 1.8630e-05 - val_loss: 0.0026\n",
            "Epoch 24/100\n",
            "23/23 [==============================] - 0s 13ms/step - loss: 2.0049e-05 - val_loss: 0.0024\n",
            "Epoch 25/100\n",
            "23/23 [==============================] - 0s 13ms/step - loss: 1.6956e-05 - val_loss: 0.0022\n",
            "Epoch 26/100\n",
            "23/23 [==============================] - 0s 13ms/step - loss: 1.6602e-05 - val_loss: 0.0022\n",
            "Epoch 27/100\n",
            "23/23 [==============================] - 0s 13ms/step - loss: 1.7425e-05 - val_loss: 0.0017\n",
            "Epoch 28/100\n",
            "23/23 [==============================] - 0s 13ms/step - loss: 1.7105e-05 - val_loss: 0.0026\n",
            "Epoch 29/100\n",
            "23/23 [==============================] - 0s 13ms/step - loss: 1.5498e-05 - val_loss: 0.0031\n",
            "Epoch 30/100\n",
            "23/23 [==============================] - 0s 13ms/step - loss: 1.4387e-05 - val_loss: 0.0018\n",
            "Epoch 31/100\n",
            "23/23 [==============================] - 0s 13ms/step - loss: 1.6248e-05 - val_loss: 0.0033\n",
            "Epoch 32/100\n",
            "23/23 [==============================] - 0s 13ms/step - loss: 1.6084e-05 - val_loss: 0.0021\n",
            "Epoch 33/100\n",
            "23/23 [==============================] - 0s 13ms/step - loss: 1.4811e-05 - val_loss: 0.0020\n",
            "Epoch 34/100\n",
            "23/23 [==============================] - 0s 13ms/step - loss: 1.5945e-05 - val_loss: 0.0028\n",
            "Epoch 35/100\n",
            "23/23 [==============================] - 0s 13ms/step - loss: 1.4050e-05 - val_loss: 0.0027\n",
            "Epoch 36/100\n",
            "23/23 [==============================] - 0s 13ms/step - loss: 1.4462e-05 - val_loss: 0.0031\n",
            "Epoch 37/100\n",
            "23/23 [==============================] - 0s 13ms/step - loss: 1.7170e-05 - val_loss: 0.0025\n",
            "Epoch 38/100\n",
            "23/23 [==============================] - 0s 12ms/step - loss: 1.6017e-05 - val_loss: 0.0023\n",
            "Epoch 39/100\n",
            "23/23 [==============================] - 0s 13ms/step - loss: 1.4035e-05 - val_loss: 0.0023\n",
            "Epoch 40/100\n",
            "23/23 [==============================] - 0s 13ms/step - loss: 1.4057e-05 - val_loss: 0.0024\n",
            "Epoch 41/100\n",
            "23/23 [==============================] - 0s 13ms/step - loss: 1.2921e-05 - val_loss: 0.0030\n",
            "Epoch 42/100\n",
            "23/23 [==============================] - 0s 12ms/step - loss: 1.2850e-05 - val_loss: 0.0025\n",
            "Epoch 43/100\n",
            "23/23 [==============================] - 0s 13ms/step - loss: 1.2941e-05 - val_loss: 0.0024\n",
            "Epoch 44/100\n",
            "23/23 [==============================] - 0s 13ms/step - loss: 1.3099e-05 - val_loss: 0.0023\n",
            "Epoch 45/100\n",
            "23/23 [==============================] - 0s 12ms/step - loss: 1.3268e-05 - val_loss: 0.0025\n",
            "Epoch 46/100\n",
            "23/23 [==============================] - 0s 13ms/step - loss: 1.2598e-05 - val_loss: 0.0022\n",
            "Epoch 47/100\n",
            "23/23 [==============================] - 0s 13ms/step - loss: 1.3903e-05 - val_loss: 0.0027\n",
            "Epoch 48/100\n",
            "23/23 [==============================] - 0s 13ms/step - loss: 1.4114e-05 - val_loss: 0.0019\n",
            "Epoch 49/100\n",
            "23/23 [==============================] - 0s 13ms/step - loss: 1.2064e-05 - val_loss: 0.0025\n",
            "Epoch 50/100\n",
            "23/23 [==============================] - 0s 13ms/step - loss: 1.1768e-05 - val_loss: 0.0018\n",
            "Epoch 51/100\n",
            "23/23 [==============================] - 0s 13ms/step - loss: 1.3386e-05 - val_loss: 0.0040\n",
            "Epoch 52/100\n",
            "23/23 [==============================] - 0s 13ms/step - loss: 1.6891e-05 - val_loss: 0.0024\n",
            "Epoch 53/100\n",
            "23/23 [==============================] - 0s 14ms/step - loss: 1.2672e-05 - val_loss: 0.0022\n",
            "Epoch 54/100\n",
            "23/23 [==============================] - 0s 13ms/step - loss: 1.2340e-05 - val_loss: 0.0020\n",
            "Epoch 55/100\n",
            "23/23 [==============================] - 0s 12ms/step - loss: 1.2076e-05 - val_loss: 0.0035\n",
            "Epoch 56/100\n",
            "23/23 [==============================] - 0s 14ms/step - loss: 1.1423e-05 - val_loss: 0.0026\n",
            "Epoch 57/100\n",
            "23/23 [==============================] - 0s 13ms/step - loss: 1.2646e-05 - val_loss: 0.0030\n",
            "Epoch 58/100\n",
            "23/23 [==============================] - 0s 12ms/step - loss: 1.0949e-05 - val_loss: 0.0024\n",
            "Epoch 59/100\n",
            "23/23 [==============================] - 0s 13ms/step - loss: 1.0997e-05 - val_loss: 0.0028\n",
            "Epoch 60/100\n",
            "23/23 [==============================] - 0s 13ms/step - loss: 1.2415e-05 - val_loss: 0.0022\n",
            "Epoch 61/100\n",
            "23/23 [==============================] - 0s 13ms/step - loss: 1.4627e-05 - val_loss: 0.0021\n",
            "Epoch 62/100\n",
            "23/23 [==============================] - 0s 13ms/step - loss: 1.1431e-05 - val_loss: 0.0025\n",
            "Epoch 63/100\n",
            "23/23 [==============================] - 0s 13ms/step - loss: 1.0569e-05 - val_loss: 0.0030\n",
            "Epoch 64/100\n",
            "23/23 [==============================] - 0s 13ms/step - loss: 1.0765e-05 - val_loss: 0.0033\n",
            "Epoch 65/100\n",
            "23/23 [==============================] - 0s 13ms/step - loss: 1.0245e-05 - val_loss: 0.0026\n",
            "Epoch 66/100\n",
            "23/23 [==============================] - 0s 13ms/step - loss: 1.0185e-05 - val_loss: 0.0015\n",
            "Epoch 67/100\n",
            "23/23 [==============================] - 0s 13ms/step - loss: 1.4136e-05 - val_loss: 0.0032\n",
            "Epoch 68/100\n",
            "23/23 [==============================] - 0s 13ms/step - loss: 1.0253e-05 - val_loss: 0.0019\n",
            "Epoch 69/100\n",
            "23/23 [==============================] - 0s 13ms/step - loss: 1.0093e-05 - val_loss: 0.0021\n",
            "Epoch 70/100\n",
            "23/23 [==============================] - 0s 13ms/step - loss: 1.0249e-05 - val_loss: 0.0030\n",
            "Epoch 71/100\n",
            "23/23 [==============================] - 0s 13ms/step - loss: 1.0008e-05 - val_loss: 0.0027\n",
            "Epoch 72/100\n",
            "23/23 [==============================] - 0s 13ms/step - loss: 1.0450e-05 - val_loss: 0.0019\n",
            "Epoch 73/100\n",
            "23/23 [==============================] - 0s 13ms/step - loss: 9.5491e-06 - val_loss: 0.0020\n",
            "Epoch 74/100\n",
            "23/23 [==============================] - 0s 13ms/step - loss: 9.1380e-06 - val_loss: 0.0027\n",
            "Epoch 75/100\n",
            "23/23 [==============================] - 0s 13ms/step - loss: 9.5864e-06 - val_loss: 0.0031\n",
            "Epoch 76/100\n",
            "23/23 [==============================] - 0s 13ms/step - loss: 9.4324e-06 - val_loss: 0.0029\n",
            "Epoch 77/100\n",
            "23/23 [==============================] - 0s 13ms/step - loss: 9.3036e-06 - val_loss: 0.0020\n",
            "Epoch 78/100\n",
            "23/23 [==============================] - 0s 13ms/step - loss: 8.9182e-06 - val_loss: 0.0019\n",
            "Epoch 79/100\n",
            "23/23 [==============================] - 0s 13ms/step - loss: 9.2788e-06 - val_loss: 0.0028\n",
            "Epoch 80/100\n",
            "23/23 [==============================] - 0s 13ms/step - loss: 9.3208e-06 - val_loss: 0.0022\n",
            "Epoch 81/100\n",
            "23/23 [==============================] - 0s 13ms/step - loss: 8.6717e-06 - val_loss: 0.0019\n",
            "Epoch 82/100\n",
            "23/23 [==============================] - 0s 13ms/step - loss: 9.2419e-06 - val_loss: 0.0031\n",
            "Epoch 83/100\n",
            "23/23 [==============================] - 0s 14ms/step - loss: 1.0254e-05 - val_loss: 0.0022\n",
            "Epoch 84/100\n",
            "23/23 [==============================] - 0s 13ms/step - loss: 8.3195e-06 - val_loss: 0.0015\n",
            "Epoch 85/100\n",
            "23/23 [==============================] - 0s 13ms/step - loss: 9.1423e-06 - val_loss: 0.0019\n",
            "Epoch 86/100\n",
            "23/23 [==============================] - 0s 13ms/step - loss: 1.0022e-05 - val_loss: 0.0023\n",
            "Epoch 87/100\n",
            "23/23 [==============================] - 0s 13ms/step - loss: 8.5315e-06 - val_loss: 0.0021\n",
            "Epoch 88/100\n",
            "23/23 [==============================] - 0s 13ms/step - loss: 7.9143e-06 - val_loss: 0.0024\n",
            "Epoch 89/100\n",
            "23/23 [==============================] - 0s 13ms/step - loss: 8.1871e-06 - val_loss: 0.0016\n",
            "Epoch 90/100\n",
            "23/23 [==============================] - 0s 13ms/step - loss: 8.3677e-06 - val_loss: 0.0027\n",
            "Epoch 91/100\n",
            "23/23 [==============================] - 0s 13ms/step - loss: 8.3105e-06 - val_loss: 0.0026\n",
            "Epoch 92/100\n",
            "23/23 [==============================] - 0s 14ms/step - loss: 8.2723e-06 - val_loss: 0.0015\n",
            "Epoch 93/100\n",
            "23/23 [==============================] - 0s 13ms/step - loss: 8.1243e-06 - val_loss: 0.0019\n",
            "Epoch 94/100\n",
            "23/23 [==============================] - 0s 13ms/step - loss: 7.5070e-06 - val_loss: 0.0021\n",
            "Epoch 95/100\n",
            "23/23 [==============================] - 0s 13ms/step - loss: 7.9138e-06 - val_loss: 0.0020\n",
            "Epoch 96/100\n",
            "23/23 [==============================] - 0s 13ms/step - loss: 7.2908e-06 - val_loss: 0.0016\n",
            "Epoch 97/100\n",
            "23/23 [==============================] - 0s 13ms/step - loss: 9.1414e-06 - val_loss: 0.0021\n",
            "Epoch 98/100\n",
            "23/23 [==============================] - 0s 13ms/step - loss: 9.5917e-06 - val_loss: 0.0020\n",
            "Epoch 99/100\n",
            "23/23 [==============================] - 0s 13ms/step - loss: 7.6201e-06 - val_loss: 0.0032\n",
            "Epoch 100/100\n",
            "23/23 [==============================] - 0s 13ms/step - loss: 8.1637e-06 - val_loss: 0.0019\n"
          ],
          "name": "stdout"
        },
        {
          "output_type": "execute_result",
          "data": {
            "text/plain": [
              "<tensorflow.python.keras.callbacks.History at 0x7f3e880ad6d8>"
            ]
          },
          "metadata": {
            "tags": []
          },
          "execution_count": 27
        }
      ]
    },
    {
      "cell_type": "code",
      "metadata": {
        "id": "5mU029LGGlhv"
      },
      "source": [
        "import tensorflow as tf"
      ],
      "execution_count": null,
      "outputs": []
    },
    {
      "cell_type": "code",
      "metadata": {
        "colab": {
          "base_uri": "https://localhost:8080/",
          "height": 35
        },
        "id": "hNmOfT3OGlhv",
        "outputId": "4e42e4f9-3d33-411d-f2f1-9c25327f72de"
      },
      "source": [
        "tf.__version__"
      ],
      "execution_count": null,
      "outputs": [
        {
          "output_type": "execute_result",
          "data": {
            "application/vnd.google.colaboratory.intrinsic+json": {
              "type": "string"
            },
            "text/plain": [
              "'2.3.0'"
            ]
          },
          "metadata": {
            "tags": []
          },
          "execution_count": 29
        }
      ]
    },
    {
      "cell_type": "code",
      "metadata": {
        "id": "IXc1tP_9Glhw"
      },
      "source": [
        "### Lets Do the prediction and check performance metrics\n",
        "train_predict=model.predict(X_train)\n",
        "test_predict=model.predict(X_test)"
      ],
      "execution_count": null,
      "outputs": []
    },
    {
      "cell_type": "code",
      "metadata": {
        "id": "UI6FZS7ZTLi7"
      },
      "source": [
        "#n,m=y_train.shape[0],ytest.shape[0]\n",
        "#y_train=y_train.reshape(n,1)\n",
        "#y_test=ytest.reshape(m,1)"
      ],
      "execution_count": null,
      "outputs": []
    },
    {
      "cell_type": "code",
      "metadata": {
        "id": "Azp2iFXEGlhw",
        "colab": {
          "base_uri": "https://localhost:8080/"
        },
        "outputId": "a956f111-218f-48e9-8891-4886585348d1"
      },
      "source": [
        "##Transformback to original form\n",
        "train_pred=scaler.inverse_transform(train_predict)\n",
        "test_pred=scaler.inverse_transform(test_predict)\n",
        "#y_train_act=scaler.inverse_transform(y_train)\n",
        "#y_test_act=scaler.inverse_transform(y_test)\n",
        "test_pred.shape"
      ],
      "execution_count": null,
      "outputs": [
        {
          "output_type": "execute_result",
          "data": {
            "text/plain": [
              "(740, 1)"
            ]
          },
          "metadata": {
            "tags": []
          },
          "execution_count": 32
        }
      ]
    },
    {
      "cell_type": "code",
      "metadata": {
        "id": "0r8jK2p9m0j5"
      },
      "source": [
        "file_path = '/content/drive/MyDrive/CS725_Project/arima_pred.csv'\n",
        "df_arima_pred=pd.read_csv(file_path)\n",
        "df_arima_pred=df.reset_index()['close']\n",
        "df_arima_pred=np.array(df_arima_pred)"
      ],
      "execution_count": null,
      "outputs": []
    },
    {
      "cell_type": "code",
      "metadata": {
        "id": "MUNb-JF6qz0V"
      },
      "source": [
        "n=int(len(df_arima_pred)*0.65)\n",
        "arima_train=df_arima_pred[101:n]\n",
        "arima_test=df_arima_pred[(n+101):]\n",
        "x,y=arima_train.shape[0],arima_test.shape[0]\n",
        "arima_train,arima_test=arima_train.reshape(x,1),arima_test.reshape(y,1)\n",
        "Final_pred_train=arima_train+train_pred\n",
        "Final_pred_test=arima_test+test_pred\n",
        "Final_pred_train_L,Final_pred_test_L=[],[]\n",
        "for i in range(len(Final_pred_train)):\n",
        "  Final_pred_train_L.append(Final_pred_train[i][0])\n",
        "for i in range(len(Final_pred_test)):\n",
        "  Final_pred_test_L.append(Final_pred_test[i][0])\n",
        "\n",
        "Final_pred_train_a,Final_pred_test_a=np.array(Final_pred_train_L),np.array(Final_pred_test_L)\n",
        "#[0]"
      ],
      "execution_count": null,
      "outputs": []
    },
    {
      "cell_type": "code",
      "metadata": {
        "id": "oAEKXhoyu1uQ"
      },
      "source": [
        "file_path = '/content/drive/MyDrive/CS725_Project/consolidated_coin_data.csv'\n",
        "timeseries_data_df=pd.read_csv(file_path)\n",
        "is_bitcoin = timeseries_data_df['Currency'] == 'bitcoin'\n",
        "df = timeseries_data_df[is_bitcoin].iloc[::-1]\n",
        "df1_act=df.reset_index()['Close']\n",
        "df1_act = df1_act.str.replace(',', '')\n",
        "df1_act = pd.to_numeric(df1_act)\n",
        "df1_train=df1_act[111:n+10]\n",
        "df1_test=df1_act[(n+111):]\n"
      ],
      "execution_count": null,
      "outputs": []
    },
    {
      "cell_type": "code",
      "metadata": {
        "colab": {
          "base_uri": "https://localhost:8080/"
        },
        "id": "1r-2fzGLGlhw",
        "outputId": "993d7b33-3137-42a4-e396-ebe4489928ca"
      },
      "source": [
        "### Calculate RMSE performance metrics\n",
        "import math\n",
        "from sklearn.metrics import mean_squared_error,mean_absolute_error\n",
        "def MAPE(y_true,y_pred):\n",
        "  mape=np.mean(np.abs(y_true-y_pred)/y_true)*100\n",
        "  return mape\n",
        "\n",
        "print('RMSE_Train=','%0.3f'%math.sqrt(mean_squared_error(df1_train,Final_pred_train)))\n",
        "print('RMSE_Test=','%0.3f'%math.sqrt(mean_squared_error(df1_test,Final_pred_test)))\n",
        "print('----------------------')\n",
        "print('MAE_Train=','%0.3f'%mean_absolute_error(df1_train,Final_pred_train))\n",
        "print('MAE_Test=','%0.3f'%mean_absolute_error(df1_test,Final_pred_test))\n",
        "print('----------------------')\n",
        "print('MAPE_Train=','%0.3f'%MAPE(df1_train,Final_pred_train_a),'%')\n",
        "print('MAPE_Test=','%0.3f'%MAPE(df1_test,Final_pred_test_a),'%')\n",
        "print('----------------------')"
      ],
      "execution_count": null,
      "outputs": [
        {
          "output_type": "stream",
          "text": [
            "RMSE_Train= 4252.013\n",
            "RMSE_Test= 4118.681\n",
            "----------------------\n",
            "MAE_Train= 4099.678\n",
            "MAE_Test= 3108.138\n",
            "----------------------\n",
            "MAPE_Train= 996.629 %\n",
            "MAPE_Test= 37.218 %\n",
            "----------------------\n"
          ],
          "name": "stdout"
        }
      ]
    },
    {
      "cell_type": "code",
      "metadata": {
        "id": "lGpno5BJWDls"
      },
      "source": [
        ""
      ],
      "execution_count": null,
      "outputs": []
    }
  ]
}