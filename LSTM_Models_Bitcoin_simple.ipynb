{
  "nbformat": 4,
  "nbformat_minor": 0,
  "metadata": {
    "accelerator": "GPU",
    "colab": {
      "name": "LSTM_Models_Bitcoin_simple.ipynb",
      "provenance": [],
      "collapsed_sections": [],
      "include_colab_link": true
    },
    "kernelspec": {
      "display_name": "Python 3",
      "language": "python",
      "name": "python3"
    },
    "language_info": {
      "codemirror_mode": {
        "name": "ipython",
        "version": 3
      },
      "file_extension": ".py",
      "mimetype": "text/x-python",
      "name": "python",
      "nbconvert_exporter": "python",
      "pygments_lexer": "ipython3",
      "version": "3.6.9"
    }
  },
  "cells": [
    {
      "cell_type": "markdown",
      "metadata": {
        "id": "view-in-github",
        "colab_type": "text"
      },
      "source": [
        "<a href=\"https://colab.research.google.com/github/jeevanswaroopdasari/Cryptocurrency-Prediction-using-ARIMA-and-LSTM/blob/main/LSTM_Models_Bitcoin_simple.ipynb\" target=\"_parent\"><img src=\"https://colab.research.google.com/assets/colab-badge.svg\" alt=\"Open In Colab\"/></a>"
      ]
    },
    {
      "cell_type": "markdown",
      "metadata": {
        "id": "1emB6EilGlhc"
      },
      "source": [
        "### Cryptocurrency Prediction And Forecasting Using Stacked LSTM / LSTM"
      ]
    },
    {
      "cell_type": "code",
      "metadata": {
        "id": "3UXeJ8IwGlhf"
      },
      "source": [
        "import pandas as pd"
      ],
      "execution_count": null,
      "outputs": []
    },
    {
      "cell_type": "code",
      "metadata": {
        "colab": {
          "base_uri": "https://localhost:8080/"
        },
        "id": "xwI8LW4jGz9-",
        "outputId": "51301d53-0aac-412d-b3da-2ae7f045ede4"
      },
      "source": [
        "from google.colab import drive\n",
        "drive.mount('/content/drive')"
      ],
      "execution_count": null,
      "outputs": [
        {
          "output_type": "stream",
          "text": [
            "Mounted at /content/drive\n"
          ],
          "name": "stdout"
        }
      ]
    },
    {
      "cell_type": "code",
      "metadata": {
        "id": "QPXoN5J7Glhg"
      },
      "source": [
        "file_path = '/content/drive/MyDrive/CS725_Project/consolidated_coin_data.csv'\n",
        "timeseries_data_df=pd.read_csv(file_path)\n",
        "is_bitcoin = timeseries_data_df['Currency'] == 'bitcoin'\n",
        "df = timeseries_data_df[is_bitcoin].iloc[::-1]"
      ],
      "execution_count": null,
      "outputs": []
    },
    {
      "cell_type": "code",
      "metadata": {
        "colab": {
          "base_uri": "https://localhost:8080/",
          "height": 198
        },
        "id": "8x5qxx45Glhg",
        "outputId": "4237024d-2f79-49f8-f699-47f22a933b30"
      },
      "source": [
        "df.head()"
      ],
      "execution_count": null,
      "outputs": [
        {
          "output_type": "execute_result",
          "data": {
            "text/html": [
              "<div>\n",
              "<style scoped>\n",
              "    .dataframe tbody tr th:only-of-type {\n",
              "        vertical-align: middle;\n",
              "    }\n",
              "\n",
              "    .dataframe tbody tr th {\n",
              "        vertical-align: top;\n",
              "    }\n",
              "\n",
              "    .dataframe thead th {\n",
              "        text-align: right;\n",
              "    }\n",
              "</style>\n",
              "<table border=\"1\" class=\"dataframe\">\n",
              "  <thead>\n",
              "    <tr style=\"text-align: right;\">\n",
              "      <th></th>\n",
              "      <th>Currency</th>\n",
              "      <th>Date</th>\n",
              "      <th>Open</th>\n",
              "      <th>High</th>\n",
              "      <th>Low</th>\n",
              "      <th>Close</th>\n",
              "      <th>Volume</th>\n",
              "      <th>Market Cap</th>\n",
              "    </tr>\n",
              "  </thead>\n",
              "  <tbody>\n",
              "    <tr>\n",
              "      <th>9647</th>\n",
              "      <td>bitcoin</td>\n",
              "      <td>Apr 28, 2013</td>\n",
              "      <td>135.30</td>\n",
              "      <td>135.98</td>\n",
              "      <td>132.10</td>\n",
              "      <td>134.21</td>\n",
              "      <td>0</td>\n",
              "      <td>1,488,566,728</td>\n",
              "    </tr>\n",
              "    <tr>\n",
              "      <th>9646</th>\n",
              "      <td>bitcoin</td>\n",
              "      <td>Apr 29, 2013</td>\n",
              "      <td>134.44</td>\n",
              "      <td>147.49</td>\n",
              "      <td>134.00</td>\n",
              "      <td>144.54</td>\n",
              "      <td>0</td>\n",
              "      <td>1,603,768,865</td>\n",
              "    </tr>\n",
              "    <tr>\n",
              "      <th>9645</th>\n",
              "      <td>bitcoin</td>\n",
              "      <td>Apr 30, 2013</td>\n",
              "      <td>144.00</td>\n",
              "      <td>146.93</td>\n",
              "      <td>134.05</td>\n",
              "      <td>139.00</td>\n",
              "      <td>0</td>\n",
              "      <td>1,542,813,125</td>\n",
              "    </tr>\n",
              "    <tr>\n",
              "      <th>9644</th>\n",
              "      <td>bitcoin</td>\n",
              "      <td>May 01, 2013</td>\n",
              "      <td>139.00</td>\n",
              "      <td>139.89</td>\n",
              "      <td>107.72</td>\n",
              "      <td>116.99</td>\n",
              "      <td>0</td>\n",
              "      <td>1,298,954,594</td>\n",
              "    </tr>\n",
              "    <tr>\n",
              "      <th>9643</th>\n",
              "      <td>bitcoin</td>\n",
              "      <td>May 02, 2013</td>\n",
              "      <td>116.38</td>\n",
              "      <td>125.60</td>\n",
              "      <td>92.28</td>\n",
              "      <td>105.21</td>\n",
              "      <td>0</td>\n",
              "      <td>1,168,517,495</td>\n",
              "    </tr>\n",
              "  </tbody>\n",
              "</table>\n",
              "</div>"
            ],
            "text/plain": [
              "     Currency          Date    Open  ...   Close Volume     Market Cap\n",
              "9647  bitcoin  Apr 28, 2013  135.30  ...  134.21      0  1,488,566,728\n",
              "9646  bitcoin  Apr 29, 2013  134.44  ...  144.54      0  1,603,768,865\n",
              "9645  bitcoin  Apr 30, 2013  144.00  ...  139.00      0  1,542,813,125\n",
              "9644  bitcoin  May 01, 2013  139.00  ...  116.99      0  1,298,954,594\n",
              "9643  bitcoin  May 02, 2013  116.38  ...  105.21      0  1,168,517,495\n",
              "\n",
              "[5 rows x 8 columns]"
            ]
          },
          "metadata": {
            "tags": []
          },
          "execution_count": 4
        }
      ]
    },
    {
      "cell_type": "code",
      "metadata": {
        "colab": {
          "base_uri": "https://localhost:8080/",
          "height": 198
        },
        "id": "LBVKQwm0Glhk",
        "outputId": "a1c55584-0687-4503-dfd0-4c5d1be7702c"
      },
      "source": [
        "df.tail()"
      ],
      "execution_count": null,
      "outputs": [
        {
          "output_type": "execute_result",
          "data": {
            "text/html": [
              "<div>\n",
              "<style scoped>\n",
              "    .dataframe tbody tr th:only-of-type {\n",
              "        vertical-align: middle;\n",
              "    }\n",
              "\n",
              "    .dataframe tbody tr th {\n",
              "        vertical-align: top;\n",
              "    }\n",
              "\n",
              "    .dataframe thead th {\n",
              "        text-align: right;\n",
              "    }\n",
              "</style>\n",
              "<table border=\"1\" class=\"dataframe\">\n",
              "  <thead>\n",
              "    <tr style=\"text-align: right;\">\n",
              "      <th></th>\n",
              "      <th>Currency</th>\n",
              "      <th>Date</th>\n",
              "      <th>Open</th>\n",
              "      <th>High</th>\n",
              "      <th>Low</th>\n",
              "      <th>Close</th>\n",
              "      <th>Volume</th>\n",
              "      <th>Market Cap</th>\n",
              "    </tr>\n",
              "  </thead>\n",
              "  <tbody>\n",
              "    <tr>\n",
              "      <th>7240</th>\n",
              "      <td>bitcoin</td>\n",
              "      <td>Nov 30, 2019</td>\n",
              "      <td>7,764.06</td>\n",
              "      <td>7,836.10</td>\n",
              "      <td>7,515.85</td>\n",
              "      <td>7,569.63</td>\n",
              "      <td>17,158,194,786</td>\n",
              "      <td>136,829,391,049</td>\n",
              "    </tr>\n",
              "    <tr>\n",
              "      <th>7239</th>\n",
              "      <td>bitcoin</td>\n",
              "      <td>Dec 01, 2019</td>\n",
              "      <td>7,571.62</td>\n",
              "      <td>7,571.62</td>\n",
              "      <td>7,291.34</td>\n",
              "      <td>7,424.29</td>\n",
              "      <td>18,720,708,479</td>\n",
              "      <td>134,215,145,410</td>\n",
              "    </tr>\n",
              "    <tr>\n",
              "      <th>7238</th>\n",
              "      <td>bitcoin</td>\n",
              "      <td>Dec 02, 2019</td>\n",
              "      <td>7,424.04</td>\n",
              "      <td>7,474.82</td>\n",
              "      <td>7,233.40</td>\n",
              "      <td>7,321.99</td>\n",
              "      <td>17,082,040,706</td>\n",
              "      <td>132,378,982,377</td>\n",
              "    </tr>\n",
              "    <tr>\n",
              "      <th>7237</th>\n",
              "      <td>bitcoin</td>\n",
              "      <td>Dec 03, 2019</td>\n",
              "      <td>7,323.98</td>\n",
              "      <td>7,418.86</td>\n",
              "      <td>7,229.36</td>\n",
              "      <td>7,320.15</td>\n",
              "      <td>14,797,485,769</td>\n",
              "      <td>132,359,942,301</td>\n",
              "    </tr>\n",
              "    <tr>\n",
              "      <th>7236</th>\n",
              "      <td>bitcoin</td>\n",
              "      <td>Dec 04, 2019</td>\n",
              "      <td>7,320.13</td>\n",
              "      <td>7,539.78</td>\n",
              "      <td>7,170.92</td>\n",
              "      <td>7,252.03</td>\n",
              "      <td>21,664,240,918</td>\n",
              "      <td>131,143,073,943</td>\n",
              "    </tr>\n",
              "  </tbody>\n",
              "</table>\n",
              "</div>"
            ],
            "text/plain": [
              "     Currency          Date  ...          Volume       Market Cap\n",
              "7240  bitcoin  Nov 30, 2019  ...  17,158,194,786  136,829,391,049\n",
              "7239  bitcoin  Dec 01, 2019  ...  18,720,708,479  134,215,145,410\n",
              "7238  bitcoin  Dec 02, 2019  ...  17,082,040,706  132,378,982,377\n",
              "7237  bitcoin  Dec 03, 2019  ...  14,797,485,769  132,359,942,301\n",
              "7236  bitcoin  Dec 04, 2019  ...  21,664,240,918  131,143,073,943\n",
              "\n",
              "[5 rows x 8 columns]"
            ]
          },
          "metadata": {
            "tags": []
          },
          "execution_count": 5
        }
      ]
    },
    {
      "cell_type": "code",
      "metadata": {
        "id": "HND2BJZwGlhk"
      },
      "source": [
        "df1=df.reset_index()['Close']"
      ],
      "execution_count": null,
      "outputs": []
    },
    {
      "cell_type": "code",
      "metadata": {
        "id": "AkEMPjJYGlhk"
      },
      "source": [
        "df1\n",
        "df1 = df1.str.replace(',', '')\n",
        "df1 = pd.to_numeric(df1)"
      ],
      "execution_count": null,
      "outputs": []
    },
    {
      "cell_type": "code",
      "metadata": {
        "colab": {
          "base_uri": "https://localhost:8080/",
          "height": 283
        },
        "id": "lyzQ_HjzGlhl",
        "outputId": "c96febdd-365a-4fb6-9da3-188086e755fd"
      },
      "source": [
        "import matplotlib.pyplot as plt\n",
        "df1.plot.line()"
      ],
      "execution_count": null,
      "outputs": [
        {
          "output_type": "execute_result",
          "data": {
            "text/plain": [
              "<matplotlib.axes._subplots.AxesSubplot at 0x7efc893367f0>"
            ]
          },
          "metadata": {
            "tags": []
          },
          "execution_count": 8
        },
        {
          "output_type": "display_data",
          "data": {
            "image/png": "[encoded data removed]",
            "text/plain": [
              "<Figure size 432x288 with 1 Axes>"
            ]
          },
          "metadata": {
            "tags": [],
            "needs_background": "light"
          }
        }
      ]
    },
    {
      "cell_type": "code",
      "metadata": {
        "id": "g6VoKVzEGlhr"
      },
      "source": [
        "### LSTM are sensitive to the scale of the data. so we apply MinMax scaler "
      ],
      "execution_count": null,
      "outputs": []
    },
    {
      "cell_type": "code",
      "metadata": {
        "id": "diJ0dKBeGlhr"
      },
      "source": [
        "import numpy as np"
      ],
      "execution_count": null,
      "outputs": []
    },
    {
      "cell_type": "code",
      "metadata": {
        "colab": {
          "base_uri": "https://localhost:8080/"
        },
        "id": "J-TIPkzKGlhr",
        "outputId": "fbb55887-b6cb-46b9-fd8c-bc73e4d7e111"
      },
      "source": [
        "df1"
      ],
      "execution_count": null,
      "outputs": [
        {
          "output_type": "execute_result",
          "data": {
            "text/plain": [
              "0        134.21\n",
              "1        144.54\n",
              "2        139.00\n",
              "3        116.99\n",
              "4        105.21\n",
              "         ...   \n",
              "2407    7569.63\n",
              "2408    7424.29\n",
              "2409    7321.99\n",
              "2410    7320.15\n",
              "2411    7252.03\n",
              "Name: Close, Length: 2412, dtype: float64"
            ]
          },
          "metadata": {
            "tags": []
          },
          "execution_count": 11
        }
      ]
    },
    {
      "cell_type": "code",
      "metadata": {
        "id": "1yvx5v7AGlhr"
      },
      "source": [
        "from sklearn.preprocessing import MinMaxScaler\n",
        "scaler=MinMaxScaler(feature_range=(0,1))\n",
        "df1_new=scaler.fit_transform(np.array(df1).reshape(-1,1))"
      ],
      "execution_count": null,
      "outputs": []
    },
    {
      "cell_type": "code",
      "metadata": {
        "colab": {
          "base_uri": "https://localhost:8080/"
        },
        "id": "owiL0PeTGlhr",
        "outputId": "0235bd35-6d3e-462a-c522-6aacc901a673"
      },
      "source": [
        "print(df1_new)"
      ],
      "execution_count": null,
      "outputs": [
        {
          "output_type": "stream",
          "text": [
            "[[0.00338567]\n",
            " [0.00391735]\n",
            " [0.0036322 ]\n",
            " ...\n",
            " [0.37333734]\n",
            " [0.37324264]\n",
            " [0.36973653]]\n"
          ],
          "name": "stdout"
        }
      ]
    },
    {
      "cell_type": "code",
      "metadata": {
        "id": "DJS6SDWzGlhs"
      },
      "source": [
        "##splitting dataset into train and test split\n",
        "training_size=int(len(df1_new)*0.65)\n",
        "test_size=len(df1_new)-training_size\n",
        "train_data,test_data=df1_new[0:training_size,:],df1_new[training_size:len(df1_new),:1]"
      ],
      "execution_count": null,
      "outputs": []
    },
    {
      "cell_type": "code",
      "metadata": {
        "colab": {
          "base_uri": "https://localhost:8080/"
        },
        "id": "MQJGGfroGlhs",
        "outputId": "776dc1b8-e3cf-4d42-b1e9-1317741fabee"
      },
      "source": [
        "training_size,test_size"
      ],
      "execution_count": null,
      "outputs": [
        {
          "output_type": "execute_result",
          "data": {
            "text/plain": [
              "(1567, 845)"
            ]
          },
          "metadata": {
            "tags": []
          },
          "execution_count": 15
        }
      ]
    },
    {
      "cell_type": "code",
      "metadata": {
        "colab": {
          "base_uri": "https://localhost:8080/"
        },
        "id": "kldTRO7lGlhs",
        "outputId": "31117bb8-5f2f-4869-c5f9-5a8a269d5a1d"
      },
      "source": [
        "train_data"
      ],
      "execution_count": null,
      "outputs": [
        {
          "output_type": "execute_result",
          "data": {
            "text/plain": [
              "array([[0.00338567],\n",
              "       [0.00391735],\n",
              "       [0.0036322 ],\n",
              "       ...,\n",
              "       [0.16851331],\n",
              "       [0.17051084],\n",
              "       [0.18437364]])"
            ]
          },
          "metadata": {
            "tags": []
          },
          "execution_count": 16
        }
      ]
    },
    {
      "cell_type": "code",
      "metadata": {
        "id": "oWGEEUaJGlht"
      },
      "source": [
        "import numpy\n",
        "# convert an array of values into a dataset matrix\n",
        "def create_dataset(dataset, time_step=1):\n",
        "\tdataX, dataY = [], []\n",
        "\tfor i in range(len(dataset)-time_step-1):\n",
        "\t\ta = dataset[i:(i+time_step), 0]   ###i=0, 0,1,2,3-----99   100 \n",
        "\t\tdataX.append(a)\n",
        "\t\tdataY.append(dataset[i + time_step, 0])\n",
        "\treturn numpy.array(dataX), numpy.array(dataY)"
      ],
      "execution_count": null,
      "outputs": []
    },
    {
      "cell_type": "code",
      "metadata": {
        "id": "GicvLISCGlht"
      },
      "source": [
        "# reshape into X=t,t+1,t+2,t+3 and Y=t+4\n",
        "time_step = 100\n",
        "X_train, y_train = create_dataset(train_data, time_step)\n",
        "X_test, ytest = create_dataset(test_data, time_step)"
      ],
      "execution_count": null,
      "outputs": []
    },
    {
      "cell_type": "code",
      "metadata": {
        "colab": {
          "base_uri": "https://localhost:8080/"
        },
        "id": "qeEMtOzpGlht",
        "outputId": "f70c1440-3698-4ec3-e749-a966476426b3"
      },
      "source": [
        "print(X_train.shape), print(y_train.shape)"
      ],
      "execution_count": null,
      "outputs": [
        {
          "output_type": "stream",
          "text": [
            "(1466, 100)\n",
            "(1466,)\n"
          ],
          "name": "stdout"
        },
        {
          "output_type": "execute_result",
          "data": {
            "text/plain": [
              "(None, None)"
            ]
          },
          "metadata": {
            "tags": []
          },
          "execution_count": 19
        }
      ]
    },
    {
      "cell_type": "code",
      "metadata": {
        "colab": {
          "base_uri": "https://localhost:8080/"
        },
        "id": "5IhSZy4pGlhu",
        "outputId": "1eb4d857-75ac-4786-ebf2-78250ca2e16a"
      },
      "source": [
        "print(X_test.shape), print(ytest.shape)"
      ],
      "execution_count": null,
      "outputs": [
        {
          "output_type": "stream",
          "text": [
            "(744, 100)\n",
            "(744,)\n"
          ],
          "name": "stdout"
        },
        {
          "output_type": "execute_result",
          "data": {
            "text/plain": [
              "(None, None)"
            ]
          },
          "metadata": {
            "tags": []
          },
          "execution_count": 20
        }
      ]
    },
    {
      "cell_type": "code",
      "metadata": {
        "id": "xCq00A4gGlhu"
      },
      "source": [
        "# reshape input to be [samples, time steps, features] which is required for LSTM\n",
        "X_train =X_train.reshape(X_train.shape[0],X_train.shape[1] , 1)\n",
        "X_test = X_test.reshape(X_test.shape[0],X_test.shape[1] , 1)"
      ],
      "execution_count": null,
      "outputs": []
    },
    {
      "cell_type": "code",
      "metadata": {
        "id": "kisa6ekMGlhu"
      },
      "source": [
        "### Create the Stacked LSTM model\n",
        "from tensorflow.keras.models import Sequential\n",
        "from tensorflow.keras.layers import Dense\n",
        "from tensorflow.keras.layers import LSTM"
      ],
      "execution_count": null,
      "outputs": []
    },
    {
      "cell_type": "markdown",
      "metadata": {
        "id": "X2Pug_2u2zSX"
      },
      "source": [
        "###Stacked LSTM"
      ]
    },
    {
      "cell_type": "code",
      "metadata": {
        "id": "2snTqf0GGlhu"
      },
      "source": [
        "#model=Sequential()\n",
        "#model.add(LSTM(50,return_sequences=True,input_shape=(100,1)))\n",
        "#model.add(LSTM(50,return_sequences=True))\n",
        "#model.add(LSTM(50))\n",
        "#model.add(Dense(1))\n",
        "#model.compile(loss='mean_squared_error',optimizer='adam')"
      ],
      "execution_count": null,
      "outputs": []
    },
    {
      "cell_type": "code",
      "metadata": {
        "id": "Z-O-K8XcGlhu"
      },
      "source": [
        "#model.summary()"
      ],
      "execution_count": null,
      "outputs": []
    },
    {
      "cell_type": "markdown",
      "metadata": {
        "id": "Qo0F6S3w27ZY"
      },
      "source": [
        "### Simple LSTM Model"
      ]
    },
    {
      "cell_type": "code",
      "metadata": {
        "id": "8Ltw_hvU269C"
      },
      "source": [
        "#define model\n",
        "model = Sequential()\n",
        "model.add(LSTM(50,return_sequences=True,input_shape=(100,1)))\n",
        "model.add(LSTM(50))\n",
        "model.add(Dense(1))\n",
        "model.compile(loss='mean_squared_error',optimizer='adam')"
      ],
      "execution_count": null,
      "outputs": []
    },
    {
      "cell_type": "code",
      "metadata": {
        "id": "PsfThCkZGlhu",
        "colab": {
          "base_uri": "https://localhost:8080/"
        },
        "outputId": "3c0b8ded-a794-4d09-d235-b82ce6535740"
      },
      "source": [
        "model.summary()"
      ],
      "execution_count": null,
      "outputs": [
        {
          "output_type": "stream",
          "text": [
            "Model: \"sequential\"\n",
            "_________________________________________________________________\n",
            "Layer (type)                 Output Shape              Param #   \n",
            "=================================================================\n",
            "lstm (LSTM)                  (None, 100, 50)           10400     \n",
            "_________________________________________________________________\n",
            "lstm_1 (LSTM)                (None, 50)                20200     \n",
            "_________________________________________________________________\n",
            "dense (Dense)                (None, 1)                 51        \n",
            "=================================================================\n",
            "Total params: 30,651\n",
            "Trainable params: 30,651\n",
            "Non-trainable params: 0\n",
            "_________________________________________________________________\n"
          ],
          "name": "stdout"
        }
      ]
    },
    {
      "cell_type": "code",
      "metadata": {
        "colab": {
          "base_uri": "https://localhost:8080/"
        },
        "id": "ZS3ykgQ2Glhv",
        "outputId": "3306943b-63b7-4763-ab33-56dd4ffb7937"
      },
      "source": [
        "history=model.fit(X_train,y_train,validation_data=(X_test,ytest),epochs=100,batch_size=64,verbose=1)"
      ],
      "execution_count": null,
      "outputs": [
        {
          "output_type": "stream",
          "text": [
            "Epoch 1/100\n",
            "23/23 [==============================] - 2s 86ms/step - loss: 2.6792e-04 - val_loss: 0.0098\n",
            "Epoch 2/100\n",
            "23/23 [==============================] - 1s 49ms/step - loss: 3.2956e-05 - val_loss: 0.0053\n",
            "Epoch 3/100\n",
            "23/23 [==============================] - 1s 48ms/step - loss: 2.4153e-05 - val_loss: 0.0039\n",
            "Epoch 4/100\n",
            "23/23 [==============================] - 1s 48ms/step - loss: 2.1888e-05 - val_loss: 0.0038\n",
            "Epoch 5/100\n",
            "23/23 [==============================] - 1s 48ms/step - loss: 2.1057e-05 - val_loss: 0.0036\n",
            "Epoch 6/100\n",
            "23/23 [==============================] - 1s 48ms/step - loss: 2.0424e-05 - val_loss: 0.0031\n",
            "Epoch 7/100\n",
            "23/23 [==============================] - 1s 48ms/step - loss: 2.3364e-05 - val_loss: 0.0030\n",
            "Epoch 8/100\n",
            "23/23 [==============================] - 1s 47ms/step - loss: 1.9219e-05 - val_loss: 0.0032\n",
            "Epoch 9/100\n",
            "23/23 [==============================] - 1s 48ms/step - loss: 1.7843e-05 - val_loss: 0.0026\n",
            "Epoch 10/100\n",
            "23/23 [==============================] - 1s 48ms/step - loss: 1.7253e-05 - val_loss: 0.0024\n",
            "Epoch 11/100\n",
            "23/23 [==============================] - 1s 47ms/step - loss: 1.7432e-05 - val_loss: 0.0028\n",
            "Epoch 12/100\n",
            "23/23 [==============================] - 1s 48ms/step - loss: 1.5858e-05 - val_loss: 0.0022\n",
            "Epoch 13/100\n",
            "23/23 [==============================] - 1s 48ms/step - loss: 1.6849e-05 - val_loss: 0.0026\n",
            "Epoch 14/100\n",
            "23/23 [==============================] - 1s 48ms/step - loss: 1.7866e-05 - val_loss: 0.0029\n",
            "Epoch 15/100\n",
            "23/23 [==============================] - 1s 47ms/step - loss: 1.5277e-05 - val_loss: 0.0033\n",
            "Epoch 16/100\n",
            "23/23 [==============================] - 1s 47ms/step - loss: 1.4125e-05 - val_loss: 0.0025\n",
            "Epoch 17/100\n",
            "23/23 [==============================] - 1s 47ms/step - loss: 1.6636e-05 - val_loss: 0.0022\n",
            "Epoch 18/100\n",
            "23/23 [==============================] - 1s 49ms/step - loss: 1.4890e-05 - val_loss: 0.0018\n",
            "Epoch 19/100\n",
            "23/23 [==============================] - 1s 48ms/step - loss: 1.4504e-05 - val_loss: 0.0025\n",
            "Epoch 20/100\n",
            "23/23 [==============================] - 1s 49ms/step - loss: 1.4482e-05 - val_loss: 0.0018\n",
            "Epoch 21/100\n",
            "23/23 [==============================] - 1s 48ms/step - loss: 1.7192e-05 - val_loss: 0.0019\n",
            "Epoch 22/100\n",
            "23/23 [==============================] - 1s 47ms/step - loss: 1.5890e-05 - val_loss: 0.0017\n",
            "Epoch 23/100\n",
            "23/23 [==============================] - 1s 47ms/step - loss: 1.3650e-05 - val_loss: 0.0018\n",
            "Epoch 24/100\n",
            "23/23 [==============================] - 1s 48ms/step - loss: 1.4250e-05 - val_loss: 0.0028\n",
            "Epoch 25/100\n",
            "23/23 [==============================] - 1s 48ms/step - loss: 2.0453e-05 - val_loss: 0.0021\n",
            "Epoch 26/100\n",
            "23/23 [==============================] - 1s 48ms/step - loss: 1.5201e-05 - val_loss: 0.0016\n",
            "Epoch 27/100\n",
            "23/23 [==============================] - 1s 47ms/step - loss: 1.3549e-05 - val_loss: 0.0016\n",
            "Epoch 28/100\n",
            "23/23 [==============================] - 1s 48ms/step - loss: 1.4841e-05 - val_loss: 0.0021\n",
            "Epoch 29/100\n",
            "23/23 [==============================] - 1s 47ms/step - loss: 1.3551e-05 - val_loss: 0.0021\n",
            "Epoch 30/100\n",
            "23/23 [==============================] - 1s 47ms/step - loss: 1.4749e-05 - val_loss: 0.0020\n",
            "Epoch 31/100\n",
            "23/23 [==============================] - 1s 48ms/step - loss: 1.2373e-05 - val_loss: 0.0015\n",
            "Epoch 32/100\n",
            "23/23 [==============================] - 1s 48ms/step - loss: 1.2498e-05 - val_loss: 0.0018\n",
            "Epoch 33/100\n",
            "23/23 [==============================] - 1s 48ms/step - loss: 1.2411e-05 - val_loss: 0.0021\n",
            "Epoch 34/100\n",
            "23/23 [==============================] - 1s 47ms/step - loss: 1.2229e-05 - val_loss: 0.0018\n",
            "Epoch 35/100\n",
            "23/23 [==============================] - 1s 48ms/step - loss: 1.3626e-05 - val_loss: 0.0015\n",
            "Epoch 36/100\n",
            "23/23 [==============================] - 1s 48ms/step - loss: 1.3375e-05 - val_loss: 0.0015\n",
            "Epoch 37/100\n",
            "23/23 [==============================] - 1s 48ms/step - loss: 1.1864e-05 - val_loss: 0.0016\n",
            "Epoch 38/100\n",
            "23/23 [==============================] - 1s 47ms/step - loss: 1.1578e-05 - val_loss: 0.0015\n",
            "Epoch 39/100\n",
            "23/23 [==============================] - 1s 47ms/step - loss: 1.1479e-05 - val_loss: 0.0013\n",
            "Epoch 40/100\n",
            "23/23 [==============================] - 1s 48ms/step - loss: 1.3647e-05 - val_loss: 0.0013\n",
            "Epoch 41/100\n",
            "23/23 [==============================] - 1s 47ms/step - loss: 1.1455e-05 - val_loss: 0.0016\n",
            "Epoch 42/100\n",
            "23/23 [==============================] - 1s 47ms/step - loss: 1.0741e-05 - val_loss: 0.0015\n",
            "Epoch 43/100\n",
            "23/23 [==============================] - 1s 48ms/step - loss: 1.1037e-05 - val_loss: 0.0013\n",
            "Epoch 44/100\n",
            "23/23 [==============================] - 1s 48ms/step - loss: 1.2710e-05 - val_loss: 0.0013\n",
            "Epoch 45/100\n",
            "23/23 [==============================] - 1s 48ms/step - loss: 1.4842e-05 - val_loss: 0.0015\n",
            "Epoch 46/100\n",
            "23/23 [==============================] - 1s 48ms/step - loss: 1.0655e-05 - val_loss: 0.0013\n",
            "Epoch 47/100\n",
            "23/23 [==============================] - 1s 48ms/step - loss: 1.0074e-05 - val_loss: 0.0017\n",
            "Epoch 48/100\n",
            "23/23 [==============================] - 1s 48ms/step - loss: 1.0307e-05 - val_loss: 0.0014\n",
            "Epoch 49/100\n",
            "23/23 [==============================] - 1s 47ms/step - loss: 1.0492e-05 - val_loss: 0.0012\n",
            "Epoch 50/100\n",
            "23/23 [==============================] - 1s 47ms/step - loss: 1.0662e-05 - val_loss: 0.0013\n",
            "Epoch 51/100\n",
            "23/23 [==============================] - 1s 47ms/step - loss: 9.9886e-06 - val_loss: 0.0012\n",
            "Epoch 52/100\n",
            "23/23 [==============================] - 1s 48ms/step - loss: 1.0612e-05 - val_loss: 0.0013\n",
            "Epoch 53/100\n",
            "23/23 [==============================] - 1s 47ms/step - loss: 9.6567e-06 - val_loss: 0.0013\n",
            "Epoch 54/100\n",
            "23/23 [==============================] - 1s 47ms/step - loss: 1.0517e-05 - val_loss: 0.0011\n",
            "Epoch 55/100\n",
            "23/23 [==============================] - 1s 47ms/step - loss: 1.0827e-05 - val_loss: 0.0011\n",
            "Epoch 56/100\n",
            "23/23 [==============================] - 1s 48ms/step - loss: 1.1900e-05 - val_loss: 0.0012\n",
            "Epoch 57/100\n",
            "23/23 [==============================] - 1s 48ms/step - loss: 1.1772e-05 - val_loss: 0.0013\n",
            "Epoch 58/100\n",
            "23/23 [==============================] - 1s 48ms/step - loss: 1.0780e-05 - val_loss: 0.0012\n",
            "Epoch 59/100\n",
            "23/23 [==============================] - 1s 47ms/step - loss: 9.8564e-06 - val_loss: 0.0015\n",
            "Epoch 60/100\n",
            "23/23 [==============================] - 1s 48ms/step - loss: 9.3190e-06 - val_loss: 0.0011\n",
            "Epoch 61/100\n",
            "23/23 [==============================] - 1s 48ms/step - loss: 9.4533e-06 - val_loss: 0.0023\n",
            "Epoch 62/100\n",
            "23/23 [==============================] - 1s 48ms/step - loss: 9.0652e-06 - val_loss: 0.0014\n",
            "Epoch 63/100\n",
            "23/23 [==============================] - 1s 48ms/step - loss: 8.6518e-06 - val_loss: 0.0012\n",
            "Epoch 64/100\n",
            "23/23 [==============================] - 1s 47ms/step - loss: 8.9442e-06 - val_loss: 0.0012\n",
            "Epoch 65/100\n",
            "23/23 [==============================] - 1s 47ms/step - loss: 8.4867e-06 - val_loss: 0.0010\n",
            "Epoch 66/100\n",
            "23/23 [==============================] - 1s 48ms/step - loss: 9.3567e-06 - val_loss: 9.9365e-04\n",
            "Epoch 67/100\n",
            "23/23 [==============================] - 1s 48ms/step - loss: 8.5566e-06 - val_loss: 0.0015\n",
            "Epoch 68/100\n",
            "23/23 [==============================] - 1s 48ms/step - loss: 8.6217e-06 - val_loss: 0.0016\n",
            "Epoch 69/100\n",
            "23/23 [==============================] - 1s 48ms/step - loss: 9.9715e-06 - val_loss: 0.0015\n",
            "Epoch 70/100\n",
            "23/23 [==============================] - 1s 48ms/step - loss: 8.7333e-06 - val_loss: 0.0014\n",
            "Epoch 71/100\n",
            "23/23 [==============================] - 1s 48ms/step - loss: 8.3439e-06 - val_loss: 0.0013\n",
            "Epoch 72/100\n",
            "23/23 [==============================] - 1s 48ms/step - loss: 8.9834e-06 - val_loss: 0.0011\n",
            "Epoch 73/100\n",
            "23/23 [==============================] - 1s 48ms/step - loss: 8.4210e-06 - val_loss: 0.0010\n",
            "Epoch 74/100\n",
            "23/23 [==============================] - 1s 48ms/step - loss: 1.0566e-05 - val_loss: 9.1941e-04\n",
            "Epoch 75/100\n",
            "23/23 [==============================] - 1s 48ms/step - loss: 8.7524e-06 - val_loss: 0.0011\n",
            "Epoch 76/100\n",
            "23/23 [==============================] - 1s 47ms/step - loss: 8.4761e-06 - val_loss: 0.0013\n",
            "Epoch 77/100\n",
            "23/23 [==============================] - 1s 47ms/step - loss: 9.9514e-06 - val_loss: 9.8929e-04\n",
            "Epoch 78/100\n",
            "23/23 [==============================] - 1s 48ms/step - loss: 8.2485e-06 - val_loss: 9.2830e-04\n",
            "Epoch 79/100\n",
            "23/23 [==============================] - 1s 48ms/step - loss: 8.0845e-06 - val_loss: 0.0010\n",
            "Epoch 80/100\n",
            "23/23 [==============================] - 1s 48ms/step - loss: 8.0815e-06 - val_loss: 9.4661e-04\n",
            "Epoch 81/100\n",
            "23/23 [==============================] - 1s 48ms/step - loss: 9.9228e-06 - val_loss: 0.0014\n",
            "Epoch 82/100\n",
            "23/23 [==============================] - 1s 47ms/step - loss: 7.1143e-06 - val_loss: 0.0011\n",
            "Epoch 83/100\n",
            "23/23 [==============================] - 1s 47ms/step - loss: 7.1085e-06 - val_loss: 9.1086e-04\n",
            "Epoch 84/100\n",
            "23/23 [==============================] - 1s 47ms/step - loss: 7.1104e-06 - val_loss: 0.0010\n",
            "Epoch 85/100\n",
            "23/23 [==============================] - 1s 47ms/step - loss: 7.6560e-06 - val_loss: 0.0013\n",
            "Epoch 86/100\n",
            "23/23 [==============================] - 1s 48ms/step - loss: 7.9349e-06 - val_loss: 0.0016\n",
            "Epoch 87/100\n",
            "23/23 [==============================] - 1s 48ms/step - loss: 8.4030e-06 - val_loss: 0.0018\n",
            "Epoch 88/100\n",
            "23/23 [==============================] - 1s 48ms/step - loss: 8.0317e-06 - val_loss: 9.0000e-04\n",
            "Epoch 89/100\n",
            "23/23 [==============================] - 1s 47ms/step - loss: 7.3720e-06 - val_loss: 8.0973e-04\n",
            "Epoch 90/100\n",
            "23/23 [==============================] - 1s 48ms/step - loss: 7.2635e-06 - val_loss: 9.8124e-04\n",
            "Epoch 91/100\n",
            "23/23 [==============================] - 1s 48ms/step - loss: 6.5202e-06 - val_loss: 9.2956e-04\n",
            "Epoch 92/100\n",
            "23/23 [==============================] - 1s 48ms/step - loss: 6.5899e-06 - val_loss: 0.0014\n",
            "Epoch 93/100\n",
            "23/23 [==============================] - 1s 47ms/step - loss: 6.9063e-06 - val_loss: 8.0938e-04\n",
            "Epoch 94/100\n",
            "23/23 [==============================] - 1s 49ms/step - loss: 7.8595e-06 - val_loss: 0.0017\n",
            "Epoch 95/100\n",
            "23/23 [==============================] - 1s 48ms/step - loss: 8.7194e-06 - val_loss: 8.6747e-04\n",
            "Epoch 96/100\n",
            "23/23 [==============================] - 1s 48ms/step - loss: 6.5347e-06 - val_loss: 0.0015\n",
            "Epoch 97/100\n",
            "23/23 [==============================] - 1s 48ms/step - loss: 6.5500e-06 - val_loss: 7.5004e-04\n",
            "Epoch 98/100\n",
            "23/23 [==============================] - 1s 48ms/step - loss: 6.5103e-06 - val_loss: 9.6405e-04\n",
            "Epoch 99/100\n",
            "23/23 [==============================] - 1s 47ms/step - loss: 6.4438e-06 - val_loss: 7.3342e-04\n",
            "Epoch 100/100\n",
            "23/23 [==============================] - 1s 48ms/step - loss: 6.1488e-06 - val_loss: 7.2902e-04\n"
          ],
          "name": "stdout"
        }
      ]
    },
    {
      "cell_type": "code",
      "metadata": {
        "id": "5mU029LGGlhv"
      },
      "source": [
        "import tensorflow as tf"
      ],
      "execution_count": null,
      "outputs": []
    },
    {
      "cell_type": "code",
      "metadata": {
        "colab": {
          "base_uri": "https://localhost:8080/",
          "height": 35
        },
        "id": "hNmOfT3OGlhv",
        "outputId": "cf6443dd-ca80-4fb0-86e7-9275df05fdbe"
      },
      "source": [
        "tf.__version__"
      ],
      "execution_count": null,
      "outputs": [
        {
          "output_type": "execute_result",
          "data": {
            "application/vnd.google.colaboratory.intrinsic+json": {
              "type": "string"
            },
            "text/plain": [
              "'2.3.0'"
            ]
          },
          "metadata": {
            "tags": []
          },
          "execution_count": 29
        }
      ]
    },
    {
      "cell_type": "code",
      "metadata": {
        "id": "IXc1tP_9Glhw"
      },
      "source": [
        "### Lets Do the prediction and check performance metrics\n",
        "train_predict=model.predict(X_train)\n",
        "test_predict=model.predict(X_test)"
      ],
      "execution_count": null,
      "outputs": []
    },
    {
      "cell_type": "code",
      "metadata": {
        "colab": {
          "base_uri": "https://localhost:8080/"
        },
        "id": "BONVEUF3BpeX",
        "outputId": "6896048f-182d-4c6b-b63b-38f8954fb5a2"
      },
      "source": [
        "train_predict.shape\n"
      ],
      "execution_count": null,
      "outputs": [
        {
          "output_type": "execute_result",
          "data": {
            "text/plain": [
              "(1466, 1)"
            ]
          },
          "metadata": {
            "tags": []
          },
          "execution_count": 31
        }
      ]
    },
    {
      "cell_type": "code",
      "metadata": {
        "colab": {
          "base_uri": "https://localhost:8080/"
        },
        "id": "O1aiK6bJBQNk",
        "outputId": "b512f265-c07c-4083-a3e1-cfa6100af69e"
      },
      "source": [
        "test_predict.shape"
      ],
      "execution_count": null,
      "outputs": [
        {
          "output_type": "execute_result",
          "data": {
            "text/plain": [
              "(744, 1)"
            ]
          },
          "metadata": {
            "tags": []
          },
          "execution_count": 32
        }
      ]
    },
    {
      "cell_type": "code",
      "metadata": {
        "id": "UI6FZS7ZTLi7"
      },
      "source": [
        "n,m=y_train.shape[0],ytest.shape[0]\n",
        "y_train=y_train.reshape(n,1)\n",
        "y_test=ytest.reshape(m,1)"
      ],
      "execution_count": null,
      "outputs": []
    },
    {
      "cell_type": "code",
      "metadata": {
        "id": "Azp2iFXEGlhw"
      },
      "source": [
        "##Transformback to original form\n",
        "train_pred=scaler.inverse_transform(train_predict)\n",
        "test_pred=scaler.inverse_transform(test_predict)\n",
        "y_train_act=scaler.inverse_transform(y_train)\n",
        "y_test_act=scaler.inverse_transform(y_test)"
      ],
      "execution_count": null,
      "outputs": []
    },
    {
      "cell_type": "code",
      "metadata": {
        "colab": {
          "base_uri": "https://localhost:8080/"
        },
        "id": "wbnAsikQEZvW",
        "outputId": "366d337a-07e2-496e-8685-02f58097bd78"
      },
      "source": [
        "print(train_pred.shape,y_train_act.shape)"
      ],
      "execution_count": null,
      "outputs": [
        {
          "output_type": "stream",
          "text": [
            "(1466, 1) (1466, 1)\n"
          ],
          "name": "stdout"
        }
      ]
    },
    {
      "cell_type": "code",
      "metadata": {
        "colab": {
          "base_uri": "https://localhost:8080/"
        },
        "id": "6fVVTchxV_LY",
        "outputId": "e5a15dc2-b2b2-48bf-b4e2-1fbd6a4e0048"
      },
      "source": [
        "print(test_pred.shape,y_test_act.shape)"
      ],
      "execution_count": null,
      "outputs": [
        {
          "output_type": "stream",
          "text": [
            "(744, 1) (744, 1)\n"
          ],
          "name": "stdout"
        }
      ]
    },
    {
      "cell_type": "code",
      "metadata": {
        "id": "orHTx7vUA3Oq"
      },
      "source": [
        ""
      ],
      "execution_count": null,
      "outputs": []
    },
    {
      "cell_type": "code",
      "metadata": {
        "colab": {
          "base_uri": "https://localhost:8080/"
        },
        "id": "1r-2fzGLGlhw",
        "outputId": "c9cb63fb-dc33-4a20-8db1-16c095f098fa"
      },
      "source": [
        "### Calculate RMSE performance metrics\n",
        "import math\n",
        "from sklearn.metrics import mean_squared_error,mean_absolute_error\n",
        "def MAPE(y_true,y_pred):\n",
        "  mape=np.mean(np.abs(y_true-y_pred)/y_true)*100\n",
        "  return mape\n",
        "print('RMSE_Train=','%0.3f'%math.sqrt(mean_squared_error(y_train_act,train_pred)))\n",
        "print('RMSE_Test=','%0.3f'%math.sqrt(mean_squared_error(y_test_act,test_pred)))\n",
        "print('----------------------')\n",
        "print('MAE_Train=','%0.3f'%mean_absolute_error(y_train_act,train_pred))\n",
        "print('MAE_Test=','%0.3f'%mean_absolute_error(y_test_act,test_pred))\n",
        "print('----------------------')\n",
        "print('MAPE_Train=','%0.3f'%MAPE(y_train_act,train_pred),'%')\n",
        "print('MAPE_Test=','%0.3f'%MAPE(y_test_act,test_pred),'%')\n",
        "print('----------------------')"
      ],
      "execution_count": null,
      "outputs": [
        {
          "output_type": "stream",
          "text": [
            "RMSE_Train= 50.102\n",
            "RMSE_Test= 524.588\n",
            "----------------------\n",
            "MAE_Train= 32.383\n",
            "MAE_Test= 308.068\n",
            "----------------------\n",
            "MAPE_Train= 6.894 %\n",
            "MAPE_Test= 3.514 %\n",
            "----------------------\n"
          ],
          "name": "stdout"
        }
      ]
    },
    {
      "cell_type": "code",
      "metadata": {
        "colab": {
          "base_uri": "https://localhost:8080/",
          "height": 265
        },
        "id": "NxCsUpjzGlhx",
        "outputId": "841bdd9b-31f6-4d5d-b385-dca999829dbf"
      },
      "source": [
        "### Plotting \n",
        "# shift train predictions for plotting\n",
        "look_back=100\n",
        "trainPredictPlot = numpy.empty_like(df1_new)\n",
        "trainPredictPlot[:, :] = numpy.nan\n",
        "trainPredictPlot[look_back:len(train_pred)+look_back, :] = train_pred\n",
        "# shift test predictions for plotting\n",
        "testPredictPlot = numpy.empty_like(df1_new)\n",
        "testPredictPlot[:, :] = numpy.nan\n",
        "testPredictPlot[len(train_predict)+(look_back*2)+1:len(df1)-1, :] = test_pred\n",
        "# plot baseline and predictions\n",
        "plt.plot(scaler.inverse_transform(df1_new),label='Actual Value')\n",
        "plt.plot(trainPredictPlot,label='Train Prediction')\n",
        "plt.plot(testPredictPlot,label='Test Prediction')\n",
        "plt.ylabel('Values')\n",
        "plt.legend()\n",
        "plt.show()"
      ],
      "execution_count": null,
      "outputs": [
        {
          "output_type": "display_data",
          "data": {
            "image/png": "[encoded data removed]",
            "text/plain": [
              "<Figure size 432x288 with 1 Axes>"
            ]
          },
          "metadata": {
            "tags": [],
            "needs_background": "light"
          }
        }
      ]
    },
    {
      "cell_type": "code",
      "metadata": {
        "colab": {
          "base_uri": "https://localhost:8080/",
          "height": 265
        },
        "id": "Og1W0BAfNzah",
        "outputId": "f2b8d563-7d8f-4e41-b9da-b786172d696e"
      },
      "source": [
        "final_predict = numpy.empty_like(df1_new)\n",
        "final_predict[:, :] = np.nan\n",
        "final_predict[look_back:len(train_predict)+look_back, :] = train_pred\n",
        "final_predict[len(train_predict)+(look_back*2)+1:len(df1)-1, :] = test_pred\n",
        "plt.plot(final_predict)\n",
        "plt.ylabel('Values')\n",
        "plt.show()"
      ],
      "execution_count": null,
      "outputs": [
        {
          "output_type": "display_data",
          "data": {
            "image/png": "[encoded data removed]",
            "text/plain": [
              "<Figure size 432x288 with 1 Axes>"
            ]
          },
          "metadata": {
            "tags": [],
            "needs_background": "light"
          }
        }
      ]
    },
    {
      "cell_type": "code",
      "metadata": {
        "id": "Q71iFOFBOA9w",
        "colab": {
          "base_uri": "https://localhost:8080/",
          "height": 265
        },
        "outputId": "11724e0a-69d0-4538-bab8-6b47d146746b"
      },
      "source": [
        "final_predict[len(train_predict)+look_back:len(train_predict)+(look_back*2)+1, :] = scaler.inverse_transform(df1_new)[len(train_predict)+look_back:len(train_predict)+(look_back*2)+1, :]\n",
        "final_predict[:look_back, :] = scaler.inverse_transform(df1_new)[:look_back, :]\n",
        "plt.plot(final_predict)\n",
        "plt.show()"
      ],
      "execution_count": null,
      "outputs": [
        {
          "output_type": "display_data",
          "data": {
            "image/png": "[encoded data removed]",
            "text/plain": [
              "<Figure size 432x288 with 1 Axes>"
            ]
          },
          "metadata": {
            "tags": [],
            "needs_background": "light"
          }
        }
      ]
    },
    {
      "cell_type": "code",
      "metadata": {
        "id": "qSA0MWERQ_7C",
        "colab": {
          "base_uri": "https://localhost:8080/",
          "height": 297
        },
        "outputId": "fd1c7cea-83c5-4330-9482-2e02fd81a122"
      },
      "source": [
        "plt.plot(history.history['loss'],label='Train Loss')\n",
        "plt.plot(history.history['val_loss'],label='Test Loss')\n",
        "plt.xlabel('Epoch')\n",
        "plt.ylabel('Loss')\n",
        "plt.legend()\n",
        "plt.show"
      ],
      "execution_count": null,
      "outputs": [
        {
          "output_type": "execute_result",
          "data": {
            "text/plain": [
              "<function matplotlib.pyplot.show>"
            ]
          },
          "metadata": {
            "tags": []
          },
          "execution_count": 41
        },
        {
          "output_type": "display_data",
          "data": {
            "image/png": "[encoded data removed]",
            "text/plain": [
              "<Figure size 432x288 with 1 Axes>"
            ]
          },
          "metadata": {
            "tags": [],
            "needs_background": "light"
          }
        }
      ]
    },
    {
      "cell_type": "code",
      "metadata": {
        "id": "bPKEvnNvRzME"
      },
      "source": [
        ""
      ],
      "execution_count": null,
      "outputs": []
    }
  ]
}