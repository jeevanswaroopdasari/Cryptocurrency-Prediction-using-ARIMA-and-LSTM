{
  "nbformat": 4,
  "nbformat_minor": 0,
  "metadata": {
    "colab": {
      "name": "ARIMA.ipynb",
      "provenance": [],
      "collapsed_sections": [],
      "include_colab_link": true
    },
    "kernelspec": {
      "name": "python3",
      "display_name": "Python 3"
    }
  },
  "cells": [
    {
      "cell_type": "markdown",
      "metadata": {
        "id": "view-in-github",
        "colab_type": "text"
      },
      "source": [
        "<a href=\"https://colab.research.google.com/github/jeevanswaroopdasari/Cryptocurrency-Prediction-using-ARIMA-and-LSTM/blob/main/ARIMA.ipynb\" target=\"_parent\"><img src=\"https://colab.research.google.com/assets/colab-badge.svg\" alt=\"Open In Colab\"/></a>"
      ]
    },
    {
      "cell_type": "code",
      "metadata": {
        "id": "0zIVn1ZqILZ6"
      },
      "source": [
        "import numpy as np\n",
        "import pandas as pd\n",
        "\n",
        "import matplotlib.pyplot as plt\n",
        "%matplotlib inline"
      ],
      "execution_count": null,
      "outputs": []
    },
    {
      "cell_type": "code",
      "metadata": {
        "colab": {
          "base_uri": "https://localhost:8080/"
        },
        "id": "Honf3QQ3YiRJ",
        "outputId": "aa6714d1-4f49-4bcf-916e-40812a61e92a"
      },
      "source": [
        "from google.colab import drive\n",
        "drive.mount('/content/drive')"
      ],
      "execution_count": null,
      "outputs": [
        {
          "output_type": "stream",
          "text": [
            "Mounted at /content/drive\n"
          ],
          "name": "stdout"
        }
      ]
    },
    {
      "cell_type": "code",
      "metadata": {
        "id": "5UT9QfW0I7-f"
      },
      "source": [
        "file_path = '/content/drive/MyDrive/CS725_LSTM_Project/consolidated_coin_data.csv'\n",
        "timeseries_data_df=pd.read_csv(file_path)\n",
        "is_bitcoin = timeseries_data_df['Currency'] == 'bitcoin'\n",
        "df = timeseries_data_df[is_bitcoin].iloc[::-1]"
      ],
      "execution_count": null,
      "outputs": []
    },
    {
      "cell_type": "code",
      "metadata": {
        "id": "FoQ4BSQjJC1-"
      },
      "source": [
        "df1=df.reset_index()['Close']"
      ],
      "execution_count": null,
      "outputs": []
    },
    {
      "cell_type": "code",
      "metadata": {
        "id": "gjukEwmwJguM"
      },
      "source": [
        "df1\n",
        "df1 = df1.str.replace(',', '')\n",
        "df1 = pd.to_numeric(df1)"
      ],
      "execution_count": null,
      "outputs": []
    },
    {
      "cell_type": "code",
      "metadata": {
        "colab": {
          "base_uri": "https://localhost:8080/"
        },
        "id": "6b1lgWSlJjmc",
        "outputId": "93e4aac4-bb43-4927-a19b-33616bbe3bf5"
      },
      "source": [
        "df1.head()"
      ],
      "execution_count": null,
      "outputs": [
        {
          "output_type": "execute_result",
          "data": {
            "text/plain": [
              "0    134.21\n",
              "1    144.54\n",
              "2    139.00\n",
              "3    116.99\n",
              "4    105.21\n",
              "Name: Close, dtype: float64"
            ]
          },
          "metadata": {
            "tags": []
          },
          "execution_count": 7
        }
      ]
    },
    {
      "cell_type": "code",
      "metadata": {
        "colab": {
          "base_uri": "https://localhost:8080/"
        },
        "id": "WBWfHPwXUpjo",
        "outputId": "d5493f53-deef-46cd-b085-37cc8a028d91"
      },
      "source": [
        "df1.tail()"
      ],
      "execution_count": null,
      "outputs": [
        {
          "output_type": "execute_result",
          "data": {
            "text/plain": [
              "2407    7569.63\n",
              "2408    7424.29\n",
              "2409    7321.99\n",
              "2410    7320.15\n",
              "2411    7252.03\n",
              "Name: Close, dtype: float64"
            ]
          },
          "metadata": {
            "tags": []
          },
          "execution_count": 8
        }
      ]
    },
    {
      "cell_type": "code",
      "metadata": {
        "colab": {
          "base_uri": "https://localhost:8080/",
          "height": 282
        },
        "id": "W3VTr4lpJlAa",
        "outputId": "548a9963-06f4-4fb0-fc9a-37e925b0d298"
      },
      "source": [
        "df1.plot.line()"
      ],
      "execution_count": null,
      "outputs": [
        {
          "output_type": "execute_result",
          "data": {
            "text/plain": [
              "<matplotlib.axes._subplots.AxesSubplot at 0x7eff96d1beb8>"
            ]
          },
          "metadata": {
            "tags": []
          },
          "execution_count": 9
        },
        {
          "output_type": "display_data",
          "data": {
            "image/png": "[encoded data removed]",
            "text/plain": [
              "<Figure size 432x288 with 1 Axes>"
            ]
          },
          "metadata": {
            "tags": [],
            "needs_background": "light"
          }
        }
      ]
    },
    {
      "cell_type": "code",
      "metadata": {
        "colab": {
          "base_uri": "https://localhost:8080/"
        },
        "id": "c39UzQ7CJr-u",
        "outputId": "3c85182d-c1aa-4e21-eaa7-bad9f1ce2705"
      },
      "source": [
        "from statsmodels.tsa.stattools import adfuller"
      ],
      "execution_count": null,
      "outputs": [
        {
          "output_type": "stream",
          "text": [
            "/usr/local/lib/python3.6/dist-packages/statsmodels/tools/_testing.py:19: FutureWarning: pandas.util.testing is deprecated. Use the functions in the public API at pandas.testing instead.\n",
            "  import pandas.util.testing as tm\n"
          ],
          "name": "stderr"
        }
      ]
    },
    {
      "cell_type": "code",
      "metadata": {
        "id": "BD_tA0T6J-Ny"
      },
      "source": [
        "test_result=adfuller(df1)"
      ],
      "execution_count": null,
      "outputs": []
    },
    {
      "cell_type": "code",
      "metadata": {
        "colab": {
          "base_uri": "https://localhost:8080/"
        },
        "id": "V3DPat2YKCzl",
        "outputId": "957fc64a-760d-4e8f-c190-cfaa1651bb44"
      },
      "source": [
        "test_result"
      ],
      "execution_count": null,
      "outputs": [
        {
          "output_type": "execute_result",
          "data": {
            "text/plain": [
              "(-1.6180522363456298,\n",
              " 0.4737505825227844,\n",
              " 27,\n",
              " 2384,\n",
              " {'1%': -3.433095954313574,\n",
              "  '10%': -2.567415796254955,\n",
              "  '5%': -2.8627531220854534},\n",
              " 32956.08336003646)"
            ]
          },
          "metadata": {
            "tags": []
          },
          "execution_count": 12
        }
      ]
    },
    {
      "cell_type": "code",
      "metadata": {
        "id": "u0uwdfrOKLKY"
      },
      "source": [
        "#Ho: It is non stationary\n",
        "#H1: It is stationary\n",
        "\n",
        "def adfuller_test(sales):\n",
        "    result=adfuller(sales)\n",
        "    labels = ['ADF Test Statistic','p-value','#Lags Used','Number of Observations Used']\n",
        "    for value,label in zip(result,labels):\n",
        "        print(label+' : '+str(value) )\n",
        "    if result[1] <= 0.05:\n",
        "        print(\"strong evidence against the null hypothesis(Ho), reject the null hypothesis. Data has no unit root and is stationary\")\n",
        "    else:\n",
        "        print(\"weak evidence against null hypothesis, time series has a unit root, indicating it is non-stationary \")"
      ],
      "execution_count": null,
      "outputs": []
    },
    {
      "cell_type": "code",
      "metadata": {
        "colab": {
          "base_uri": "https://localhost:8080/"
        },
        "id": "hay8GhsaKTa7",
        "outputId": "9359345e-3e99-4b12-9eab-daf9fbadbbeb"
      },
      "source": [
        "adfuller_test(df1)"
      ],
      "execution_count": null,
      "outputs": [
        {
          "output_type": "stream",
          "text": [
            "ADF Test Statistic : -1.6180522363456298\n",
            "p-value : 0.4737505825227844\n",
            "#Lags Used : 27\n",
            "Number of Observations Used : 2384\n",
            "weak evidence against null hypothesis, time series has a unit root, indicating it is non-stationary \n"
          ],
          "name": "stdout"
        }
      ]
    },
    {
      "cell_type": "code",
      "metadata": {
        "colab": {
          "base_uri": "https://localhost:8080/",
          "height": 283
        },
        "id": "RcIUldqOKXE-",
        "outputId": "adf22b6e-3bfb-4cd0-ebe5-d3762212d4dd"
      },
      "source": [
        "from pandas.plotting import autocorrelation_plot\n",
        "autocorrelation_plot(df1)\n",
        "plt.show()"
      ],
      "execution_count": null,
      "outputs": [
        {
          "output_type": "display_data",
          "data": {
            "image/png": "[encoded data removed]",
            "text/plain": [
              "<Figure size 432x288 with 1 Axes>"
            ]
          },
          "metadata": {
            "tags": [],
            "needs_background": "light"
          }
        }
      ]
    },
    {
      "cell_type": "code",
      "metadata": {
        "id": "rvxYmBaiLIEw"
      },
      "source": [
        "from statsmodels.graphics.tsaplots import plot_acf,plot_pacf"
      ],
      "execution_count": null,
      "outputs": []
    },
    {
      "cell_type": "code",
      "metadata": {
        "colab": {
          "base_uri": "https://localhost:8080/",
          "height": 499
        },
        "id": "ty3GxFvNOT4E",
        "outputId": "e4dd996e-f604-41a8-b290-29affd60a529"
      },
      "source": [
        "fig = plt.figure(figsize=(12,8))\n",
        "ax1 = fig.add_subplot(211)\n",
        "fig = plot_acf(df1.iloc[13:],lags=10,ax=ax1)\n",
        "ax2 = fig.add_subplot(212)\n",
        "fig = plot_pacf(df1.iloc[13:],lags=10,ax=ax2)"
      ],
      "execution_count": null,
      "outputs": [
        {
          "output_type": "display_data",
          "data": {
            "image/png": "[encoded data removed]",
            "text/plain": [
              "<Figure size 864x576 with 2 Axes>"
            ]
          },
          "metadata": {
            "tags": [],
            "needs_background": "light"
          }
        }
      ]
    },
    {
      "cell_type": "code",
      "metadata": {
        "id": "bSQhrwaAOZPQ"
      },
      "source": [
        "from statsmodels.tsa.arima_model import ARIMA"
      ],
      "execution_count": null,
      "outputs": []
    },
    {
      "cell_type": "markdown",
      "metadata": {
        "id": "utNiwL7hP6WB"
      },
      "source": [
        "###ARIMA(p, d, q): p AR model lags d differencing q MA lags"
      ]
    },
    {
      "cell_type": "markdown",
      "metadata": {
        "id": "hibvee-dQHZ1"
      },
      "source": [
        "* Identification of an AR model is often best done with the PACF.\n",
        "For an AR model, the theoretical PACF “shuts off” past the order of the model. The phrase “shuts off” means that in theory the partial autocorrelations are equal to 0 beyond that point. Put another way, the number of non-zero partial autocorrelations gives the order of the AR model. By the “order of the model” we mean the most extreme lag of x that is used as a predictor.\n",
        "Identification of an MA model is often best done with the ACF rather than the PACF.\n",
        "\n",
        "* For an MA model, the theoretical PACF does not shut off, but instead tapers toward 0 in some manner. A clearer pattern for an MA model is in the ACF. The ACF will have non-zero autocorrelations only at lags involved in the model.\n",
        "\n"
      ]
    },
    {
      "cell_type": "code",
      "metadata": {
        "id": "7YrmIGLXPpOZ"
      },
      "source": [
        "model=ARIMA(df1,order=(2,0,1))\n",
        "model_fit=model.fit()"
      ],
      "execution_count": null,
      "outputs": []
    },
    {
      "cell_type": "code",
      "metadata": {
        "colab": {
          "base_uri": "https://localhost:8080/",
          "height": 358
        },
        "id": "lIYWGoRcTS_2",
        "outputId": "dbb29efb-e993-4cff-d5fb-2e775355768c"
      },
      "source": [
        "model_fit.summary()"
      ],
      "execution_count": null,
      "outputs": [
        {
          "output_type": "execute_result",
          "data": {
            "text/html": [
              "<table class=\"simpletable\">\n",
              "<caption>ARMA Model Results</caption>\n",
              "<tr>\n",
              "  <th>Dep. Variable:</th>       <td>Close</td>      <th>  No. Observations:  </th>    <td>2412</td>   \n",
              "</tr>\n",
              "<tr>\n",
              "  <th>Model:</th>            <td>ARMA(2, 1)</td>    <th>  Log Likelihood     </th> <td>-16726.386</td>\n",
              "</tr>\n",
              "<tr>\n",
              "  <th>Method:</th>             <td>css-mle</td>     <th>  S.D. of innovations</th>   <td>248.287</td> \n",
              "</tr>\n",
              "<tr>\n",
              "  <th>Date:</th>          <td>Mon, 07 Dec 2020</td> <th>  AIC                </th>  <td>33462.773</td>\n",
              "</tr>\n",
              "<tr>\n",
              "  <th>Time:</th>              <td>10:01:52</td>     <th>  BIC                </th>  <td>33491.714</td>\n",
              "</tr>\n",
              "<tr>\n",
              "  <th>Sample:</th>                <td>0</td>        <th>  HQIC               </th>  <td>33473.299</td>\n",
              "</tr>\n",
              "<tr>\n",
              "  <th></th>                       <td> </td>        <th>                     </th>      <td> </td>    \n",
              "</tr>\n",
              "</table>\n",
              "<table class=\"simpletable\">\n",
              "<tr>\n",
              "       <td></td>          <th>coef</th>     <th>std err</th>      <th>z</th>      <th>P>|z|</th>  <th>[0.025</th>    <th>0.975]</th>  \n",
              "</tr>\n",
              "<tr>\n",
              "  <th>const</th>       <td> 3023.4985</td> <td> 1916.144</td> <td>    1.578</td> <td> 0.115</td> <td> -732.074</td> <td> 6779.071</td>\n",
              "</tr>\n",
              "<tr>\n",
              "  <th>ar.L1.Close</th> <td>    0.2813</td> <td>    0.072</td> <td>    3.913</td> <td> 0.000</td> <td>    0.140</td> <td>    0.422</td>\n",
              "</tr>\n",
              "<tr>\n",
              "  <th>ar.L2.Close</th> <td>    0.7147</td> <td>    0.072</td> <td>    9.959</td> <td> 0.000</td> <td>    0.574</td> <td>    0.855</td>\n",
              "</tr>\n",
              "<tr>\n",
              "  <th>ma.L1.Close</th> <td>    0.7740</td> <td>    0.065</td> <td>   11.997</td> <td> 0.000</td> <td>    0.648</td> <td>    0.900</td>\n",
              "</tr>\n",
              "</table>\n",
              "<table class=\"simpletable\">\n",
              "<caption>Roots</caption>\n",
              "<tr>\n",
              "    <td></td>   <th>            Real</th>  <th>         Imaginary</th> <th>         Modulus</th>  <th>        Frequency</th>\n",
              "</tr>\n",
              "<tr>\n",
              "  <th>AR.1</th> <td>           1.0024</td> <td>          +0.0000j</td> <td>           1.0024</td> <td>           0.0000</td>\n",
              "</tr>\n",
              "<tr>\n",
              "  <th>AR.2</th> <td>          -1.3960</td> <td>          +0.0000j</td> <td>           1.3960</td> <td>           0.5000</td>\n",
              "</tr>\n",
              "<tr>\n",
              "  <th>MA.1</th> <td>          -1.2920</td> <td>          +0.0000j</td> <td>           1.2920</td> <td>           0.5000</td>\n",
              "</tr>\n",
              "</table>"
            ],
            "text/plain": [
              "<class 'statsmodels.iolib.summary.Summary'>\n",
              "\"\"\"\n",
              "                              ARMA Model Results                              \n",
              "==============================================================================\n",
              "Dep. Variable:                  Close   No. Observations:                 2412\n",
              "Model:                     ARMA(2, 1)   Log Likelihood              -16726.386\n",
              "Method:                       css-mle   S.D. of innovations            248.287\n",
              "Date:                Mon, 07 Dec 2020   AIC                          33462.773\n",
              "Time:                        10:01:52   BIC                          33491.714\n",
              "Sample:                             0   HQIC                         33473.299\n",
              "                                                                              \n",
              "===============================================================================\n",
              "                  coef    std err          z      P>|z|      [0.025      0.975]\n",
              "-------------------------------------------------------------------------------\n",
              "const        3023.4985   1916.144      1.578      0.115    -732.074    6779.071\n",
              "ar.L1.Close     0.2813      0.072      3.913      0.000       0.140       0.422\n",
              "ar.L2.Close     0.7147      0.072      9.959      0.000       0.574       0.855\n",
              "ma.L1.Close     0.7740      0.065     11.997      0.000       0.648       0.900\n",
              "                                    Roots                                    \n",
              "=============================================================================\n",
              "                  Real          Imaginary           Modulus         Frequency\n",
              "-----------------------------------------------------------------------------\n",
              "AR.1            1.0024           +0.0000j            1.0024            0.0000\n",
              "AR.2           -1.3960           +0.0000j            1.3960            0.5000\n",
              "MA.1           -1.2920           +0.0000j            1.2920            0.5000\n",
              "-----------------------------------------------------------------------------\n",
              "\"\"\""
            ]
          },
          "metadata": {
            "tags": []
          },
          "execution_count": 25
        }
      ]
    },
    {
      "cell_type": "code",
      "metadata": {
        "id": "v7LDHdfOTorJ"
      },
      "source": [
        "df1_predict = model_fit.predict(start=10,end=2411,dynamic=True)"
      ],
      "execution_count": null,
      "outputs": []
    },
    {
      "cell_type": "code",
      "metadata": {
        "colab": {
          "base_uri": "https://localhost:8080/"
        },
        "id": "H5TINoXuVAsE",
        "outputId": "1f792c1b-147f-48ed-cf8d-4958ea517ecf"
      },
      "source": [
        "### Calculate RMSE performance metrics\n",
        "import math\n",
        "from sklearn.metrics import mean_squared_error,mean_absolute_error\n",
        "def MAPE(y_true,y_pred):\n",
        "  mape=np.mean(np.abs(y_true-y_pred)/y_true)*100\n",
        "  return mape\n",
        "\n",
        "print('RMSE=','%0.3f'%math.sqrt(mean_squared_error(df1[10:2412],df1_predict)))\n",
        "\n",
        "print('----------------------')\n",
        "print('MAE=','%0.3f'%mean_absolute_error(df1[10:2412],df1_predict))\n",
        "\n",
        "print('----------------------')\n",
        "print('MAPE=','%0.3f'%MAPE(df1[10:2412],df1_predict),'%')\n",
        "\n",
        "print('----------------------')"
      ],
      "execution_count": null,
      "outputs": [
        {
          "output_type": "stream",
          "text": [
            "RMSE= 3527.673\n",
            "----------------------\n",
            "MAE= 2658.951\n",
            "----------------------\n",
            "MAPE= 306.150 %\n",
            "----------------------\n"
          ],
          "name": "stdout"
        }
      ]
    },
    {
      "cell_type": "code",
      "metadata": {
        "id": "LLsX1NyAjqB3"
      },
      "source": [
        "df1_act=df1[10:]\n",
        "inputforLSTM = df1_act - df1_predict\n",
        "input = pd.DataFrame(inputforLSTM, columns=['close']).to_csv('data.csv')"
      ],
      "execution_count": null,
      "outputs": []
    },
    {
      "cell_type": "code",
      "metadata": {
        "id": "VftvUh-tnAGM"
      },
      "source": [
        "Arima_pred=pd.DataFrame(df1_predict, columns=['close']).to_csv('arima_pred.csv')"
      ],
      "execution_count": null,
      "outputs": []
    },
    {
      "cell_type": "code",
      "metadata": {
        "id": "I3kW7IX4h7mL"
      },
      "source": [
        ""
      ],
      "execution_count": null,
      "outputs": []
    }
  ]
}