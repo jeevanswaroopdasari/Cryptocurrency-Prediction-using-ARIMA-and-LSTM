{
  "nbformat": 4,
  "nbformat_minor": 0,
  "metadata": {
    "accelerator": "GPU",
    "colab": {
      "name": "Stacked_LSTM_Models_litecoin.ipynb",
      "provenance": [],
      "collapsed_sections": [],
      "include_colab_link": true
    },
    "kernelspec": {
      "display_name": "Python 3",
      "language": "python",
      "name": "python3"
    },
    "language_info": {
      "codemirror_mode": {
        "name": "ipython",
        "version": 3
      },
      "file_extension": ".py",
      "mimetype": "text/x-python",
      "name": "python",
      "nbconvert_exporter": "python",
      "pygments_lexer": "ipython3",
      "version": "3.6.9"
    }
  },
  "cells": [
    {
      "cell_type": "markdown",
      "metadata": {
        "id": "view-in-github",
        "colab_type": "text"
      },
      "source": [
        "<a href=\"https://colab.research.google.com/github/jeevanswaroopdasari/Cryptocurrency-Prediction-using-ARIMA-and-LSTM/blob/main/Stacked_LSTM_Models_litecoin.ipynb\" target=\"_parent\"><img src=\"https://colab.research.google.com/assets/colab-badge.svg\" alt=\"Open In Colab\"/></a>"
      ]
    },
    {
      "cell_type": "markdown",
      "metadata": {
        "id": "1emB6EilGlhc"
      },
      "source": [
        "### Cryptocurrency Prediction And Forecasting Using Stacked LSTM / LSTM"
      ]
    },
    {
      "cell_type": "code",
      "metadata": {
        "id": "3UXeJ8IwGlhf"
      },
      "source": [
        "import pandas as pd"
      ],
      "execution_count": null,
      "outputs": []
    },
    {
      "cell_type": "code",
      "metadata": {
        "colab": {
          "base_uri": "https://localhost:8080/"
        },
        "id": "xwI8LW4jGz9-",
        "outputId": "d5c871c1-4016-4acf-92be-5391f5b71d76"
      },
      "source": [
        "from google.colab import drive\n",
        "drive.mount('/content/drive')"
      ],
      "execution_count": null,
      "outputs": [
        {
          "output_type": "stream",
          "text": [
            "Mounted at /content/drive\n"
          ],
          "name": "stdout"
        }
      ]
    },
    {
      "cell_type": "code",
      "metadata": {
        "id": "QPXoN5J7Glhg"
      },
      "source": [
        "file_path = '/content/drive/MyDrive/CS725_Project/consolidated_coin_data.csv'\n",
        "timeseries_data_df=pd.read_csv(file_path)\n",
        "is_bitcoin = timeseries_data_df['Currency'] == 'litecoin'\n",
        "df = timeseries_data_df[is_bitcoin].iloc[::-1]"
      ],
      "execution_count": null,
      "outputs": []
    },
    {
      "cell_type": "code",
      "metadata": {
        "colab": {
          "base_uri": "https://localhost:8080/",
          "height": 198
        },
        "id": "8x5qxx45Glhg",
        "outputId": "952a0731-729d-4108-f6ff-cfdc8038b119"
      },
      "source": [
        "df.head()"
      ],
      "execution_count": null,
      "outputs": [
        {
          "output_type": "execute_result",
          "data": {
            "text/html": [
              "<div>\n",
              "<style scoped>\n",
              "    .dataframe tbody tr th:only-of-type {\n",
              "        vertical-align: middle;\n",
              "    }\n",
              "\n",
              "    .dataframe tbody tr th {\n",
              "        vertical-align: top;\n",
              "    }\n",
              "\n",
              "    .dataframe thead th {\n",
              "        text-align: right;\n",
              "    }\n",
              "</style>\n",
              "<table border=\"1\" class=\"dataframe\">\n",
              "  <thead>\n",
              "    <tr style=\"text-align: right;\">\n",
              "      <th></th>\n",
              "      <th>Currency</th>\n",
              "      <th>Date</th>\n",
              "      <th>Open</th>\n",
              "      <th>High</th>\n",
              "      <th>Low</th>\n",
              "      <th>Close</th>\n",
              "      <th>Volume</th>\n",
              "      <th>Market Cap</th>\n",
              "    </tr>\n",
              "  </thead>\n",
              "  <tbody>\n",
              "    <tr>\n",
              "      <th>21707</th>\n",
              "      <td>litecoin</td>\n",
              "      <td>Apr 28, 2013</td>\n",
              "      <td>4.30</td>\n",
              "      <td>4.40</td>\n",
              "      <td>4.18</td>\n",
              "      <td>4.35</td>\n",
              "      <td>0</td>\n",
              "      <td>74,636,938</td>\n",
              "    </tr>\n",
              "    <tr>\n",
              "      <th>21706</th>\n",
              "      <td>litecoin</td>\n",
              "      <td>Apr 29, 2013</td>\n",
              "      <td>4.37</td>\n",
              "      <td>4.57</td>\n",
              "      <td>4.23</td>\n",
              "      <td>4.38</td>\n",
              "      <td>0</td>\n",
              "      <td>75,388,964</td>\n",
              "    </tr>\n",
              "    <tr>\n",
              "      <th>21705</th>\n",
              "      <td>litecoin</td>\n",
              "      <td>Apr 30, 2013</td>\n",
              "      <td>4.40</td>\n",
              "      <td>4.57</td>\n",
              "      <td>4.17</td>\n",
              "      <td>4.30</td>\n",
              "      <td>0</td>\n",
              "      <td>74,020,918</td>\n",
              "    </tr>\n",
              "    <tr>\n",
              "      <th>21704</th>\n",
              "      <td>litecoin</td>\n",
              "      <td>May 01, 2013</td>\n",
              "      <td>4.29</td>\n",
              "      <td>4.36</td>\n",
              "      <td>3.52</td>\n",
              "      <td>3.80</td>\n",
              "      <td>0</td>\n",
              "      <td>65,604,596</td>\n",
              "    </tr>\n",
              "    <tr>\n",
              "      <th>21703</th>\n",
              "      <td>litecoin</td>\n",
              "      <td>May 02, 2013</td>\n",
              "      <td>3.78</td>\n",
              "      <td>4.04</td>\n",
              "      <td>3.01</td>\n",
              "      <td>3.37</td>\n",
              "      <td>0</td>\n",
              "      <td>58,287,979</td>\n",
              "    </tr>\n",
              "  </tbody>\n",
              "</table>\n",
              "</div>"
            ],
            "text/plain": [
              "       Currency          Date  Open  High   Low Close Volume  Market Cap\n",
              "21707  litecoin  Apr 28, 2013  4.30  4.40  4.18  4.35      0  74,636,938\n",
              "21706  litecoin  Apr 29, 2013  4.37  4.57  4.23  4.38      0  75,388,964\n",
              "21705  litecoin  Apr 30, 2013  4.40  4.57  4.17  4.30      0  74,020,918\n",
              "21704  litecoin  May 01, 2013  4.29  4.36  3.52  3.80      0  65,604,596\n",
              "21703  litecoin  May 02, 2013  3.78  4.04  3.01  3.37      0  58,287,979"
            ]
          },
          "metadata": {
            "tags": []
          },
          "execution_count": 6
        }
      ]
    },
    {
      "cell_type": "code",
      "metadata": {
        "colab": {
          "base_uri": "https://localhost:8080/",
          "height": 198
        },
        "id": "LBVKQwm0Glhk",
        "outputId": "b88e3921-2cc9-46cf-9edd-6ab298a60df2"
      },
      "source": [
        "df.tail()"
      ],
      "execution_count": null,
      "outputs": [
        {
          "output_type": "execute_result",
          "data": {
            "text/html": [
              "<div>\n",
              "<style scoped>\n",
              "    .dataframe tbody tr th:only-of-type {\n",
              "        vertical-align: middle;\n",
              "    }\n",
              "\n",
              "    .dataframe tbody tr th {\n",
              "        vertical-align: top;\n",
              "    }\n",
              "\n",
              "    .dataframe thead th {\n",
              "        text-align: right;\n",
              "    }\n",
              "</style>\n",
              "<table border=\"1\" class=\"dataframe\">\n",
              "  <thead>\n",
              "    <tr style=\"text-align: right;\">\n",
              "      <th></th>\n",
              "      <th>Currency</th>\n",
              "      <th>Date</th>\n",
              "      <th>Open</th>\n",
              "      <th>High</th>\n",
              "      <th>Low</th>\n",
              "      <th>Close</th>\n",
              "      <th>Volume</th>\n",
              "      <th>Market Cap</th>\n",
              "    </tr>\n",
              "  </thead>\n",
              "  <tbody>\n",
              "    <tr>\n",
              "      <th>19300</th>\n",
              "      <td>litecoin</td>\n",
              "      <td>Nov 30, 2019</td>\n",
              "      <td>48.91</td>\n",
              "      <td>49.28</td>\n",
              "      <td>47.09</td>\n",
              "      <td>47.48</td>\n",
              "      <td>2,678,481,167</td>\n",
              "      <td>3,026,175,357</td>\n",
              "    </tr>\n",
              "    <tr>\n",
              "      <th>19299</th>\n",
              "      <td>litecoin</td>\n",
              "      <td>Dec 01, 2019</td>\n",
              "      <td>47.46</td>\n",
              "      <td>48.30</td>\n",
              "      <td>46.24</td>\n",
              "      <td>47.71</td>\n",
              "      <td>2,781,413,686</td>\n",
              "      <td>3,041,545,709</td>\n",
              "    </tr>\n",
              "    <tr>\n",
              "      <th>19298</th>\n",
              "      <td>litecoin</td>\n",
              "      <td>Dec 02, 2019</td>\n",
              "      <td>47.65</td>\n",
              "      <td>47.81</td>\n",
              "      <td>45.32</td>\n",
              "      <td>45.82</td>\n",
              "      <td>2,680,452,035</td>\n",
              "      <td>2,921,144,389</td>\n",
              "    </tr>\n",
              "    <tr>\n",
              "      <th>19297</th>\n",
              "      <td>litecoin</td>\n",
              "      <td>Dec 03, 2019</td>\n",
              "      <td>45.78</td>\n",
              "      <td>46.62</td>\n",
              "      <td>44.76</td>\n",
              "      <td>45.38</td>\n",
              "      <td>2,557,212,174</td>\n",
              "      <td>2,893,726,010</td>\n",
              "    </tr>\n",
              "    <tr>\n",
              "      <th>19296</th>\n",
              "      <td>litecoin</td>\n",
              "      <td>Dec 04, 2019</td>\n",
              "      <td>45.40</td>\n",
              "      <td>46.54</td>\n",
              "      <td>44.58</td>\n",
              "      <td>45.19</td>\n",
              "      <td>2,951,880,019</td>\n",
              "      <td>2,882,011,362</td>\n",
              "    </tr>\n",
              "  </tbody>\n",
              "</table>\n",
              "</div>"
            ],
            "text/plain": [
              "       Currency          Date   Open  ...  Close         Volume     Market Cap\n",
              "19300  litecoin  Nov 30, 2019  48.91  ...  47.48  2,678,481,167  3,026,175,357\n",
              "19299  litecoin  Dec 01, 2019  47.46  ...  47.71  2,781,413,686  3,041,545,709\n",
              "19298  litecoin  Dec 02, 2019  47.65  ...  45.82  2,680,452,035  2,921,144,389\n",
              "19297  litecoin  Dec 03, 2019  45.78  ...  45.38  2,557,212,174  2,893,726,010\n",
              "19296  litecoin  Dec 04, 2019  45.40  ...  45.19  2,951,880,019  2,882,011,362\n",
              "\n",
              "[5 rows x 8 columns]"
            ]
          },
          "metadata": {
            "tags": []
          },
          "execution_count": 7
        }
      ]
    },
    {
      "cell_type": "code",
      "metadata": {
        "id": "HND2BJZwGlhk"
      },
      "source": [
        "df1=df.reset_index()['Close']"
      ],
      "execution_count": null,
      "outputs": []
    },
    {
      "cell_type": "code",
      "metadata": {
        "id": "AkEMPjJYGlhk"
      },
      "source": [
        "df1\n",
        "df1 = df1.str.replace(',', '')\n",
        "df1 = pd.to_numeric(df1)"
      ],
      "execution_count": null,
      "outputs": []
    },
    {
      "cell_type": "code",
      "metadata": {
        "colab": {
          "base_uri": "https://localhost:8080/",
          "height": 283
        },
        "id": "lyzQ_HjzGlhl",
        "outputId": "d7063044-6d36-41bc-be95-d65a775a6fe4"
      },
      "source": [
        "import matplotlib.pyplot as plt\n",
        "df1.plot.line()\n",
        "plt.ylabel('Values')"
      ],
      "execution_count": null,
      "outputs": [
        {
          "output_type": "execute_result",
          "data": {
            "text/plain": [
              "Text(0, 0.5, 'Values')"
            ]
          },
          "metadata": {
            "tags": []
          },
          "execution_count": 10
        },
        {
          "output_type": "display_data",
          "data": {
            "image/png": "[encoded data removed]",
            "text/plain": [
              "<Figure size 432x288 with 1 Axes>"
            ]
          },
          "metadata": {
            "tags": [],
            "needs_background": "light"
          }
        }
      ]
    },
    {
      "cell_type": "code",
      "metadata": {
        "id": "g6VoKVzEGlhr"
      },
      "source": [
        "### LSTM are sensitive to the scale of the data. so we apply MinMax scaler "
      ],
      "execution_count": null,
      "outputs": []
    },
    {
      "cell_type": "code",
      "metadata": {
        "id": "diJ0dKBeGlhr"
      },
      "source": [
        "import numpy as np"
      ],
      "execution_count": null,
      "outputs": []
    },
    {
      "cell_type": "code",
      "metadata": {
        "colab": {
          "base_uri": "https://localhost:8080/"
        },
        "id": "J-TIPkzKGlhr",
        "outputId": "d433185f-054d-45e9-a682-160e4e493fc4"
      },
      "source": [
        "df1"
      ],
      "execution_count": null,
      "outputs": [
        {
          "output_type": "execute_result",
          "data": {
            "text/plain": [
              "0        4.35\n",
              "1        4.38\n",
              "2        4.30\n",
              "3        3.80\n",
              "4        3.37\n",
              "        ...  \n",
              "2407    47.48\n",
              "2408    47.71\n",
              "2409    45.82\n",
              "2410    45.38\n",
              "2411    45.19\n",
              "Name: Close, Length: 2412, dtype: float64"
            ]
          },
          "metadata": {
            "tags": []
          },
          "execution_count": 13
        }
      ]
    },
    {
      "cell_type": "code",
      "metadata": {
        "id": "1yvx5v7AGlhr"
      },
      "source": [
        "from sklearn.preprocessing import MinMaxScaler\n",
        "scaler=MinMaxScaler(feature_range=(0,1))\n",
        "df1_new=scaler.fit_transform(np.array(df1).reshape(-1,1))"
      ],
      "execution_count": null,
      "outputs": []
    },
    {
      "cell_type": "code",
      "metadata": {
        "colab": {
          "base_uri": "https://localhost:8080/"
        },
        "id": "owiL0PeTGlhr",
        "outputId": "7b74a8b8-81b8-4ed8-b151-74aaed97fa44"
      },
      "source": [
        "print(df1_new)"
      ],
      "execution_count": null,
      "outputs": [
        {
          "output_type": "stream",
          "text": [
            "[[0.00893107]\n",
            " [0.00901506]\n",
            " [0.00879109]\n",
            " ...\n",
            " [0.125035  ]\n",
            " [0.12380312]\n",
            " [0.12327118]]\n"
          ],
          "name": "stdout"
        }
      ]
    },
    {
      "cell_type": "code",
      "metadata": {
        "id": "DJS6SDWzGlhs"
      },
      "source": [
        "##splitting dataset into train and test split\n",
        "training_size=int(len(df1_new)*0.65)\n",
        "test_size=len(df1_new)-training_size\n",
        "train_data,test_data=df1_new[0:training_size,:],df1_new[training_size:len(df1_new),:1]"
      ],
      "execution_count": null,
      "outputs": []
    },
    {
      "cell_type": "code",
      "metadata": {
        "colab": {
          "base_uri": "https://localhost:8080/"
        },
        "id": "MQJGGfroGlhs",
        "outputId": "93df7e36-b02f-44bb-d067-83136078496a"
      },
      "source": [
        "training_size,test_size"
      ],
      "execution_count": null,
      "outputs": [
        {
          "output_type": "execute_result",
          "data": {
            "text/plain": [
              "(1567, 845)"
            ]
          },
          "metadata": {
            "tags": []
          },
          "execution_count": 17
        }
      ]
    },
    {
      "cell_type": "code",
      "metadata": {
        "colab": {
          "base_uri": "https://localhost:8080/"
        },
        "id": "kldTRO7lGlhs",
        "outputId": "eb011b15-7a46-4a89-be4a-244c580788c8"
      },
      "source": [
        "train_data"
      ],
      "execution_count": null,
      "outputs": [
        {
          "output_type": "execute_result",
          "data": {
            "text/plain": [
              "array([[0.00893107],\n",
              "       [0.00901506],\n",
              "       [0.00879109],\n",
              "       ...,\n",
              "       [0.13116636],\n",
              "       [0.1269388 ],\n",
              "       [0.12861862]])"
            ]
          },
          "metadata": {
            "tags": []
          },
          "execution_count": 18
        }
      ]
    },
    {
      "cell_type": "code",
      "metadata": {
        "id": "oWGEEUaJGlht"
      },
      "source": [
        "import numpy\n",
        "# convert an array of values into a dataset matrix\n",
        "def create_dataset(dataset, time_step=1):\n",
        "\tdataX, dataY = [], []\n",
        "\tfor i in range(len(dataset)-time_step-1):\n",
        "\t\ta = dataset[i:(i+time_step), 0]   ###i=0, 0,1,2,3-----99   100 \n",
        "\t\tdataX.append(a)\n",
        "\t\tdataY.append(dataset[i + time_step, 0])\n",
        "\treturn numpy.array(dataX), numpy.array(dataY)"
      ],
      "execution_count": null,
      "outputs": []
    },
    {
      "cell_type": "code",
      "metadata": {
        "id": "GicvLISCGlht"
      },
      "source": [
        "# reshape into X=t,t+1,t+2,t+3 and Y=t+4\n",
        "time_step = 100\n",
        "X_train, y_train = create_dataset(train_data, time_step)\n",
        "X_test, ytest = create_dataset(test_data, time_step)"
      ],
      "execution_count": null,
      "outputs": []
    },
    {
      "cell_type": "code",
      "metadata": {
        "colab": {
          "base_uri": "https://localhost:8080/"
        },
        "id": "qeEMtOzpGlht",
        "outputId": "b2e85843-49c8-47c8-aaf8-99e420c39b78"
      },
      "source": [
        "print(X_train.shape), print(y_train.shape)"
      ],
      "execution_count": null,
      "outputs": [
        {
          "output_type": "stream",
          "text": [
            "(1466, 100)\n",
            "(1466,)\n"
          ],
          "name": "stdout"
        },
        {
          "output_type": "execute_result",
          "data": {
            "text/plain": [
              "(None, None)"
            ]
          },
          "metadata": {
            "tags": []
          },
          "execution_count": 21
        }
      ]
    },
    {
      "cell_type": "code",
      "metadata": {
        "colab": {
          "base_uri": "https://localhost:8080/"
        },
        "id": "5IhSZy4pGlhu",
        "outputId": "b0fa497f-8d4a-4f6b-e0e5-5b5e6ccd046f"
      },
      "source": [
        "print(X_test.shape), print(ytest.shape)"
      ],
      "execution_count": null,
      "outputs": [
        {
          "output_type": "stream",
          "text": [
            "(744, 100)\n",
            "(744,)\n"
          ],
          "name": "stdout"
        },
        {
          "output_type": "execute_result",
          "data": {
            "text/plain": [
              "(None, None)"
            ]
          },
          "metadata": {
            "tags": []
          },
          "execution_count": 22
        }
      ]
    },
    {
      "cell_type": "code",
      "metadata": {
        "id": "xCq00A4gGlhu"
      },
      "source": [
        "# reshape input to be [samples, time steps, features] which is required for LSTM\n",
        "X_train =X_train.reshape(X_train.shape[0],X_train.shape[1] , 1)\n",
        "X_test = X_test.reshape(X_test.shape[0],X_test.shape[1] , 1)"
      ],
      "execution_count": null,
      "outputs": []
    },
    {
      "cell_type": "code",
      "metadata": {
        "id": "kisa6ekMGlhu"
      },
      "source": [
        "### Create the Stacked LSTM model\n",
        "from tensorflow.keras.models import Sequential\n",
        "from tensorflow.keras.layers import Dense\n",
        "from tensorflow.keras.layers import LSTM"
      ],
      "execution_count": null,
      "outputs": []
    },
    {
      "cell_type": "markdown",
      "metadata": {
        "id": "X2Pug_2u2zSX"
      },
      "source": [
        "###Stacked LSTM"
      ]
    },
    {
      "cell_type": "code",
      "metadata": {
        "id": "2snTqf0GGlhu"
      },
      "source": [
        "model=Sequential()\n",
        "model.add(LSTM(50,return_sequences=True,input_shape=(100,1)))\n",
        "model.add(LSTM(50,return_sequences=True))\n",
        "model.add(LSTM(50))\n",
        "model.add(Dense(1))\n",
        "model.compile(loss='mean_squared_error',optimizer='adam')"
      ],
      "execution_count": null,
      "outputs": []
    },
    {
      "cell_type": "code",
      "metadata": {
        "colab": {
          "base_uri": "https://localhost:8080/"
        },
        "id": "Z-O-K8XcGlhu",
        "outputId": "c17c65df-e2b6-4877-b8d8-f871ce13e1b1"
      },
      "source": [
        "model.summary()"
      ],
      "execution_count": null,
      "outputs": [
        {
          "output_type": "stream",
          "text": [
            "Model: \"sequential\"\n",
            "_________________________________________________________________\n",
            "Layer (type)                 Output Shape              Param #   \n",
            "=================================================================\n",
            "lstm (LSTM)                  (None, 100, 50)           10400     \n",
            "_________________________________________________________________\n",
            "lstm_1 (LSTM)                (None, 100, 50)           20200     \n",
            "_________________________________________________________________\n",
            "lstm_2 (LSTM)                (None, 50)                20200     \n",
            "_________________________________________________________________\n",
            "dense (Dense)                (None, 1)                 51        \n",
            "=================================================================\n",
            "Total params: 50,851\n",
            "Trainable params: 50,851\n",
            "Non-trainable params: 0\n",
            "_________________________________________________________________\n"
          ],
          "name": "stdout"
        }
      ]
    },
    {
      "cell_type": "markdown",
      "metadata": {
        "id": "Qo0F6S3w27ZY"
      },
      "source": [
        "### Simple LSTM Model"
      ]
    },
    {
      "cell_type": "code",
      "metadata": {
        "id": "8Ltw_hvU269C"
      },
      "source": [
        "#define model\n",
        "# model = Sequential()\n",
        "# model.add(LSTM(50,return_sequences=True,input_shape=(100,1)))\n",
        "# model.add(Dense(1))\n",
        "# model.compile(optimizer='adam', loss='mse')"
      ],
      "execution_count": null,
      "outputs": []
    },
    {
      "cell_type": "code",
      "metadata": {
        "id": "PsfThCkZGlhu"
      },
      "source": [
        "#model.summary()"
      ],
      "execution_count": null,
      "outputs": []
    },
    {
      "cell_type": "code",
      "metadata": {
        "colab": {
          "base_uri": "https://localhost:8080/"
        },
        "id": "ZS3ykgQ2Glhv",
        "outputId": "8aba4a89-8a92-4925-8dea-866e30c33e0d"
      },
      "source": [
        "history=model.fit(X_train,y_train,validation_data=(X_test,ytest),epochs=100,batch_size=64,verbose=1)\n",
        "#model.fit(X_train,y_train,validation_data=(X_test,ytest),epochs=100,batch_size=64,verbose=1)"
      ],
      "execution_count": null,
      "outputs": [
        {
          "output_type": "stream",
          "text": [
            "Epoch 1/100\n",
            "23/23 [==============================] - 1s 59ms/step - loss: 3.8484e-04 - val_loss: 0.0065\n",
            "Epoch 2/100\n",
            "23/23 [==============================] - 0s 17ms/step - loss: 9.7513e-05 - val_loss: 0.0056\n",
            "Epoch 3/100\n",
            "23/23 [==============================] - 0s 18ms/step - loss: 8.8189e-05 - val_loss: 0.0063\n",
            "Epoch 4/100\n",
            "23/23 [==============================] - 0s 18ms/step - loss: 7.8210e-05 - val_loss: 0.0042\n",
            "Epoch 5/100\n",
            "23/23 [==============================] - 0s 18ms/step - loss: 6.3887e-05 - val_loss: 0.0042\n",
            "Epoch 6/100\n",
            "23/23 [==============================] - 0s 18ms/step - loss: 6.8807e-05 - val_loss: 0.0036\n",
            "Epoch 7/100\n",
            "23/23 [==============================] - 0s 18ms/step - loss: 5.7267e-05 - val_loss: 0.0032\n",
            "Epoch 8/100\n",
            "23/23 [==============================] - 0s 21ms/step - loss: 5.3344e-05 - val_loss: 0.0029\n",
            "Epoch 9/100\n",
            "23/23 [==============================] - 0s 20ms/step - loss: 5.6197e-05 - val_loss: 0.0028\n",
            "Epoch 10/100\n",
            "23/23 [==============================] - 0s 21ms/step - loss: 5.0393e-05 - val_loss: 0.0030\n",
            "Epoch 11/100\n",
            "23/23 [==============================] - 0s 21ms/step - loss: 4.9069e-05 - val_loss: 0.0026\n",
            "Epoch 12/100\n",
            "23/23 [==============================] - 0s 18ms/step - loss: 4.8510e-05 - val_loss: 0.0024\n",
            "Epoch 13/100\n",
            "23/23 [==============================] - 0s 19ms/step - loss: 4.6232e-05 - val_loss: 0.0023\n",
            "Epoch 14/100\n",
            "23/23 [==============================] - 0s 18ms/step - loss: 4.3508e-05 - val_loss: 0.0025\n",
            "Epoch 15/100\n",
            "23/23 [==============================] - 0s 18ms/step - loss: 4.3651e-05 - val_loss: 0.0022\n",
            "Epoch 16/100\n",
            "23/23 [==============================] - 0s 18ms/step - loss: 4.1997e-05 - val_loss: 0.0024\n",
            "Epoch 17/100\n",
            "23/23 [==============================] - 0s 18ms/step - loss: 4.1916e-05 - val_loss: 0.0021\n",
            "Epoch 18/100\n",
            "23/23 [==============================] - 0s 18ms/step - loss: 4.2431e-05 - val_loss: 0.0029\n",
            "Epoch 19/100\n",
            "23/23 [==============================] - 0s 18ms/step - loss: 4.0779e-05 - val_loss: 0.0023\n",
            "Epoch 20/100\n",
            "23/23 [==============================] - 0s 18ms/step - loss: 3.8798e-05 - val_loss: 0.0021\n",
            "Epoch 21/100\n",
            "23/23 [==============================] - 0s 21ms/step - loss: 3.6307e-05 - val_loss: 0.0021\n",
            "Epoch 22/100\n",
            "23/23 [==============================] - 0s 20ms/step - loss: 3.9795e-05 - val_loss: 0.0020\n",
            "Epoch 23/100\n",
            "23/23 [==============================] - 0s 21ms/step - loss: 4.1054e-05 - val_loss: 0.0017\n",
            "Epoch 24/100\n",
            "23/23 [==============================] - 0s 19ms/step - loss: 3.5231e-05 - val_loss: 0.0018\n",
            "Epoch 25/100\n",
            "23/23 [==============================] - 0s 18ms/step - loss: 3.6676e-05 - val_loss: 0.0020\n",
            "Epoch 26/100\n",
            "23/23 [==============================] - 0s 18ms/step - loss: 3.1252e-05 - val_loss: 0.0019\n",
            "Epoch 27/100\n",
            "23/23 [==============================] - 0s 18ms/step - loss: 3.2041e-05 - val_loss: 0.0019\n",
            "Epoch 28/100\n",
            "23/23 [==============================] - 0s 18ms/step - loss: 2.9789e-05 - val_loss: 0.0018\n",
            "Epoch 29/100\n",
            "23/23 [==============================] - 0s 18ms/step - loss: 3.0089e-05 - val_loss: 0.0015\n",
            "Epoch 30/100\n",
            "23/23 [==============================] - 0s 19ms/step - loss: 2.8673e-05 - val_loss: 0.0015\n",
            "Epoch 31/100\n",
            "23/23 [==============================] - 0s 18ms/step - loss: 2.7815e-05 - val_loss: 0.0014\n",
            "Epoch 32/100\n",
            "23/23 [==============================] - 0s 21ms/step - loss: 3.3017e-05 - val_loss: 0.0014\n",
            "Epoch 33/100\n",
            "23/23 [==============================] - 0s 21ms/step - loss: 2.7293e-05 - val_loss: 0.0014\n",
            "Epoch 34/100\n",
            "23/23 [==============================] - 0s 21ms/step - loss: 3.0626e-05 - val_loss: 0.0013\n",
            "Epoch 35/100\n",
            "23/23 [==============================] - 0s 21ms/step - loss: 2.6495e-05 - val_loss: 0.0015\n",
            "Epoch 36/100\n",
            "23/23 [==============================] - 0s 21ms/step - loss: 2.4861e-05 - val_loss: 0.0015\n",
            "Epoch 37/100\n",
            "23/23 [==============================] - 0s 20ms/step - loss: 2.5360e-05 - val_loss: 0.0012\n",
            "Epoch 38/100\n",
            "23/23 [==============================] - 0s 21ms/step - loss: 2.4036e-05 - val_loss: 0.0012\n",
            "Epoch 39/100\n",
            "23/23 [==============================] - 0s 20ms/step - loss: 2.2836e-05 - val_loss: 0.0014\n",
            "Epoch 40/100\n",
            "23/23 [==============================] - 0s 18ms/step - loss: 2.3651e-05 - val_loss: 0.0013\n",
            "Epoch 41/100\n",
            "23/23 [==============================] - 0s 18ms/step - loss: 2.3225e-05 - val_loss: 0.0017\n",
            "Epoch 42/100\n",
            "23/23 [==============================] - 0s 18ms/step - loss: 2.4145e-05 - val_loss: 0.0011\n",
            "Epoch 43/100\n",
            "23/23 [==============================] - 0s 18ms/step - loss: 2.7212e-05 - val_loss: 0.0011\n",
            "Epoch 44/100\n",
            "23/23 [==============================] - 0s 18ms/step - loss: 2.3510e-05 - val_loss: 0.0016\n",
            "Epoch 45/100\n",
            "23/23 [==============================] - 0s 21ms/step - loss: 2.2917e-05 - val_loss: 0.0015\n",
            "Epoch 46/100\n",
            "23/23 [==============================] - 0s 21ms/step - loss: 2.3752e-05 - val_loss: 0.0014\n",
            "Epoch 47/100\n",
            "23/23 [==============================] - 1s 22ms/step - loss: 2.1636e-05 - val_loss: 0.0014\n",
            "Epoch 48/100\n",
            "23/23 [==============================] - 0s 18ms/step - loss: 1.9688e-05 - val_loss: 0.0011\n",
            "Epoch 49/100\n",
            "23/23 [==============================] - 0s 18ms/step - loss: 1.9971e-05 - val_loss: 0.0010\n",
            "Epoch 50/100\n",
            "23/23 [==============================] - 0s 19ms/step - loss: 2.0161e-05 - val_loss: 0.0011\n",
            "Epoch 51/100\n",
            "23/23 [==============================] - 0s 19ms/step - loss: 1.9668e-05 - val_loss: 0.0013\n",
            "Epoch 52/100\n",
            "23/23 [==============================] - 0s 18ms/step - loss: 2.0076e-05 - val_loss: 9.5430e-04\n",
            "Epoch 53/100\n",
            "23/23 [==============================] - 0s 18ms/step - loss: 1.8892e-05 - val_loss: 0.0011\n",
            "Epoch 54/100\n",
            "23/23 [==============================] - 0s 18ms/step - loss: 1.8758e-05 - val_loss: 0.0010\n",
            "Epoch 55/100\n",
            "23/23 [==============================] - 0s 18ms/step - loss: 1.8974e-05 - val_loss: 9.4382e-04\n",
            "Epoch 56/100\n",
            "23/23 [==============================] - 0s 19ms/step - loss: 1.9455e-05 - val_loss: 0.0011\n",
            "Epoch 57/100\n",
            "23/23 [==============================] - 0s 21ms/step - loss: 1.7809e-05 - val_loss: 0.0012\n",
            "Epoch 58/100\n",
            "23/23 [==============================] - 0s 21ms/step - loss: 1.7107e-05 - val_loss: 0.0011\n",
            "Epoch 59/100\n",
            "23/23 [==============================] - 0s 19ms/step - loss: 1.7750e-05 - val_loss: 0.0014\n",
            "Epoch 60/100\n",
            "23/23 [==============================] - 0s 18ms/step - loss: 1.6920e-05 - val_loss: 0.0010\n",
            "Epoch 61/100\n",
            "23/23 [==============================] - 0s 18ms/step - loss: 1.6690e-05 - val_loss: 0.0017\n",
            "Epoch 62/100\n",
            "23/23 [==============================] - 0s 20ms/step - loss: 1.8750e-05 - val_loss: 8.8536e-04\n",
            "Epoch 63/100\n",
            "23/23 [==============================] - 0s 20ms/step - loss: 1.7541e-05 - val_loss: 0.0013\n",
            "Epoch 64/100\n",
            "23/23 [==============================] - 0s 18ms/step - loss: 1.6496e-05 - val_loss: 0.0012\n",
            "Epoch 65/100\n",
            "23/23 [==============================] - 0s 18ms/step - loss: 1.6863e-05 - val_loss: 9.3361e-04\n",
            "Epoch 66/100\n",
            "23/23 [==============================] - 0s 18ms/step - loss: 1.6584e-05 - val_loss: 0.0011\n",
            "Epoch 67/100\n",
            "23/23 [==============================] - 0s 18ms/step - loss: 1.6761e-05 - val_loss: 0.0013\n",
            "Epoch 68/100\n",
            "23/23 [==============================] - 0s 18ms/step - loss: 1.5744e-05 - val_loss: 0.0016\n",
            "Epoch 69/100\n",
            "23/23 [==============================] - 0s 18ms/step - loss: 1.6494e-05 - val_loss: 8.1736e-04\n",
            "Epoch 70/100\n",
            "23/23 [==============================] - 0s 18ms/step - loss: 1.6118e-05 - val_loss: 0.0010\n",
            "Epoch 71/100\n",
            "23/23 [==============================] - 0s 18ms/step - loss: 1.5035e-05 - val_loss: 0.0015\n",
            "Epoch 72/100\n",
            "23/23 [==============================] - 0s 18ms/step - loss: 1.6361e-05 - val_loss: 0.0013\n",
            "Epoch 73/100\n",
            "23/23 [==============================] - 0s 18ms/step - loss: 1.4107e-05 - val_loss: 0.0010\n",
            "Epoch 74/100\n",
            "23/23 [==============================] - 0s 18ms/step - loss: 1.4548e-05 - val_loss: 0.0011\n",
            "Epoch 75/100\n",
            "23/23 [==============================] - 0s 18ms/step - loss: 1.4806e-05 - val_loss: 9.4893e-04\n",
            "Epoch 76/100\n",
            "23/23 [==============================] - 0s 18ms/step - loss: 1.3512e-05 - val_loss: 8.4409e-04\n",
            "Epoch 77/100\n",
            "23/23 [==============================] - 0s 20ms/step - loss: 1.4230e-05 - val_loss: 8.4238e-04\n",
            "Epoch 78/100\n",
            "23/23 [==============================] - 0s 19ms/step - loss: 1.4792e-05 - val_loss: 0.0012\n",
            "Epoch 79/100\n",
            "23/23 [==============================] - 0s 19ms/step - loss: 1.4408e-05 - val_loss: 0.0013\n",
            "Epoch 80/100\n",
            "23/23 [==============================] - 0s 18ms/step - loss: 1.3272e-05 - val_loss: 8.9497e-04\n",
            "Epoch 81/100\n",
            "23/23 [==============================] - 0s 18ms/step - loss: 1.2518e-05 - val_loss: 0.0013\n",
            "Epoch 82/100\n",
            "23/23 [==============================] - 0s 18ms/step - loss: 1.4244e-05 - val_loss: 9.3483e-04\n",
            "Epoch 83/100\n",
            "23/23 [==============================] - 0s 18ms/step - loss: 1.3228e-05 - val_loss: 0.0017\n",
            "Epoch 84/100\n",
            "23/23 [==============================] - 0s 18ms/step - loss: 1.3986e-05 - val_loss: 0.0016\n",
            "Epoch 85/100\n",
            "23/23 [==============================] - 0s 18ms/step - loss: 1.6632e-05 - val_loss: 9.1640e-04\n",
            "Epoch 86/100\n",
            "23/23 [==============================] - 0s 17ms/step - loss: 1.3232e-05 - val_loss: 7.4126e-04\n",
            "Epoch 87/100\n",
            "23/23 [==============================] - 0s 18ms/step - loss: 1.2644e-05 - val_loss: 8.4393e-04\n",
            "Epoch 88/100\n",
            "23/23 [==============================] - 0s 18ms/step - loss: 1.2623e-05 - val_loss: 0.0016\n",
            "Epoch 89/100\n",
            "23/23 [==============================] - 0s 17ms/step - loss: 1.4330e-05 - val_loss: 7.8764e-04\n",
            "Epoch 90/100\n",
            "23/23 [==============================] - 0s 18ms/step - loss: 1.3797e-05 - val_loss: 9.5677e-04\n",
            "Epoch 91/100\n",
            "23/23 [==============================] - 0s 18ms/step - loss: 1.2318e-05 - val_loss: 7.5391e-04\n",
            "Epoch 92/100\n",
            "23/23 [==============================] - 0s 17ms/step - loss: 1.2406e-05 - val_loss: 9.3552e-04\n",
            "Epoch 93/100\n",
            "23/23 [==============================] - 0s 18ms/step - loss: 1.1848e-05 - val_loss: 7.8821e-04\n",
            "Epoch 94/100\n",
            "23/23 [==============================] - 0s 20ms/step - loss: 1.2151e-05 - val_loss: 8.0735e-04\n",
            "Epoch 95/100\n",
            "23/23 [==============================] - 0s 17ms/step - loss: 1.2171e-05 - val_loss: 0.0011\n",
            "Epoch 96/100\n",
            "23/23 [==============================] - 0s 19ms/step - loss: 1.2241e-05 - val_loss: 9.2134e-04\n",
            "Epoch 97/100\n",
            "23/23 [==============================] - 0s 18ms/step - loss: 1.2074e-05 - val_loss: 7.6548e-04\n",
            "Epoch 98/100\n",
            "23/23 [==============================] - 0s 17ms/step - loss: 1.3216e-05 - val_loss: 0.0016\n",
            "Epoch 99/100\n",
            "23/23 [==============================] - 0s 18ms/step - loss: 1.4227e-05 - val_loss: 0.0015\n",
            "Epoch 100/100\n",
            "23/23 [==============================] - 0s 18ms/step - loss: 1.2979e-05 - val_loss: 0.0011\n"
          ],
          "name": "stdout"
        }
      ]
    },
    {
      "cell_type": "code",
      "metadata": {
        "id": "5mU029LGGlhv"
      },
      "source": [
        "import tensorflow as tf"
      ],
      "execution_count": null,
      "outputs": []
    },
    {
      "cell_type": "code",
      "metadata": {
        "colab": {
          "base_uri": "https://localhost:8080/",
          "height": 35
        },
        "id": "hNmOfT3OGlhv",
        "outputId": "cfdc8a35-db62-4e2f-f3fc-a96a5a8384b8"
      },
      "source": [
        "tf.__version__"
      ],
      "execution_count": null,
      "outputs": [
        {
          "output_type": "execute_result",
          "data": {
            "application/vnd.google.colaboratory.intrinsic+json": {
              "type": "string"
            },
            "text/plain": [
              "'2.3.0'"
            ]
          },
          "metadata": {
            "tags": []
          },
          "execution_count": 71
        }
      ]
    },
    {
      "cell_type": "code",
      "metadata": {
        "id": "IXc1tP_9Glhw"
      },
      "source": [
        "### Lets Do the prediction and check performance metrics\n",
        "train_predict=model.predict(X_train)\n",
        "test_predict=model.predict(X_test)"
      ],
      "execution_count": null,
      "outputs": []
    },
    {
      "cell_type": "code",
      "metadata": {
        "colab": {
          "base_uri": "https://localhost:8080/"
        },
        "id": "BONVEUF3BpeX",
        "outputId": "6c9e149c-a87f-468b-b644-66e51d92f188"
      },
      "source": [
        "train_predict[:5]\n"
      ],
      "execution_count": null,
      "outputs": [
        {
          "output_type": "execute_result",
          "data": {
            "text/plain": [
              "array([[0.00499266],\n",
              "       [0.00503786],\n",
              "       [0.00486143],\n",
              "       [0.00469975],\n",
              "       [0.0046559 ]], dtype=float32)"
            ]
          },
          "metadata": {
            "tags": []
          },
          "execution_count": 73
        }
      ]
    },
    {
      "cell_type": "code",
      "metadata": {
        "colab": {
          "base_uri": "https://localhost:8080/"
        },
        "id": "O1aiK6bJBQNk",
        "outputId": "32d69ea9-97d2-4dcf-8111-e8c22225dc65"
      },
      "source": [
        "test_predict[:5]"
      ],
      "execution_count": null,
      "outputs": [
        {
          "output_type": "execute_result",
          "data": {
            "text/plain": [
              "array([[0.1953149 ],\n",
              "       [0.19645298],\n",
              "       [0.18938687],\n",
              "       [0.19691525],\n",
              "       [0.199896  ]], dtype=float32)"
            ]
          },
          "metadata": {
            "tags": []
          },
          "execution_count": 74
        }
      ]
    },
    {
      "cell_type": "code",
      "metadata": {
        "id": "UI6FZS7ZTLi7"
      },
      "source": [
        "n,m=y_train.shape[0],ytest.shape[0]\n",
        "y_train=y_train.reshape(n,1)\n",
        "y_test=ytest.reshape(m,1)"
      ],
      "execution_count": null,
      "outputs": []
    },
    {
      "cell_type": "code",
      "metadata": {
        "id": "Azp2iFXEGlhw"
      },
      "source": [
        "##Transformback to original form\n",
        "train_pred=scaler.inverse_transform(train_predict)\n",
        "test_pred=scaler.inverse_transform(test_predict)\n",
        "y_train_act=scaler.inverse_transform(y_train)\n",
        "y_test_act=scaler.inverse_transform(y_test)"
      ],
      "execution_count": null,
      "outputs": []
    },
    {
      "cell_type": "code",
      "metadata": {
        "colab": {
          "base_uri": "https://localhost:8080/"
        },
        "id": "wbnAsikQEZvW",
        "outputId": "8eb381de-0585-4191-88d2-f9ad0393fcf0"
      },
      "source": [
        "print(train_pred.shape,y_train_act.shape)"
      ],
      "execution_count": null,
      "outputs": [
        {
          "output_type": "stream",
          "text": [
            "(1466, 1) (1466, 1)\n"
          ],
          "name": "stdout"
        }
      ]
    },
    {
      "cell_type": "code",
      "metadata": {
        "colab": {
          "base_uri": "https://localhost:8080/"
        },
        "id": "6fVVTchxV_LY",
        "outputId": "0b0cc37f-fba4-42b4-b87d-3d22d0b5dc49"
      },
      "source": [
        "print(test_pred.shape,y_test_act.shape)"
      ],
      "execution_count": null,
      "outputs": [
        {
          "output_type": "stream",
          "text": [
            "(744, 1) (744, 1)\n"
          ],
          "name": "stdout"
        }
      ]
    },
    {
      "cell_type": "code",
      "metadata": {
        "id": "orHTx7vUA3Oq"
      },
      "source": [
        "## looking at dimensions of y_train and train_predict\n",
        "#print(y_train.shape), print(ytest.shape)\n",
        "#y_train[:5], train_predict[:5]\n",
        "#y_train_error = df1[101:training_size].values\n",
        "#ytest_error = df1[training_size+101:].values\n",
        "#print(y_train_error.shape), print(ytest_error.shape)"
      ],
      "execution_count": null,
      "outputs": []
    },
    {
      "cell_type": "code",
      "metadata": {
        "colab": {
          "base_uri": "https://localhost:8080/"
        },
        "id": "1r-2fzGLGlhw",
        "outputId": "2ec6ef52-0f75-48f1-a600-b180b855aa7e"
      },
      "source": [
        "### Calculate RMSE performance metrics\n",
        "import math\n",
        "from sklearn.metrics import mean_squared_error,mean_absolute_error\n",
        "def MAPE(y_true,y_pred):\n",
        "  mape=np.mean(np.abs(y_true-y_pred)/y_true)*100\n",
        "  return mape\n",
        "print('RMSE_Train=','%0.3f'%math.sqrt(mean_squared_error(y_train_act,train_pred)))\n",
        "print('RMSE_Test=','%0.3f'%math.sqrt(mean_squared_error(y_test_act,test_pred)))\n",
        "print('----------------------')\n",
        "print('MAE_Train=','%0.3f'%mean_absolute_error(y_train_act,train_pred))\n",
        "print('MAE_Test=','%0.3f'%mean_absolute_error(y_test_act,test_pred))\n",
        "print('----------------------')\n",
        "print('MAPE_Train=','%0.3f'%MAPE(y_train_act,train_pred),'%')\n",
        "print('MAPE_Test=','%0.3f'%MAPE(y_test_act,test_pred),'%')\n",
        "print('----------------------')"
      ],
      "execution_count": null,
      "outputs": [
        {
          "output_type": "stream",
          "text": [
            "RMSE_Train= 1.201\n",
            "RMSE_Test= 10.804\n",
            "----------------------\n",
            "MAE_Train= 0.494\n",
            "MAE_Test= 5.281\n",
            "----------------------\n",
            "MAPE_Train= 5.794 %\n",
            "MAPE_Test= 4.458 %\n",
            "----------------------\n"
          ],
          "name": "stdout"
        }
      ]
    },
    {
      "cell_type": "code",
      "metadata": {
        "colab": {
          "base_uri": "https://localhost:8080/",
          "height": 265
        },
        "id": "NxCsUpjzGlhx",
        "outputId": "48bbb2e8-be5c-40bb-9d32-741b13d2e85d"
      },
      "source": [
        "### Plotting \n",
        "# shift train predictions for plotting\n",
        "look_back=100\n",
        "trainPredictPlot = numpy.empty_like(df1_new)\n",
        "trainPredictPlot[:, :] = numpy.nan\n",
        "trainPredictPlot[look_back:len(train_pred)+look_back, :] = train_pred\n",
        "# shift test predictions for plotting\n",
        "testPredictPlot = numpy.empty_like(df1_new)\n",
        "testPredictPlot[:, :] = numpy.nan\n",
        "testPredictPlot[len(train_predict)+(look_back*2)+1:len(df1)-1, :] = test_pred\n",
        "# plot baseline and predictions\n",
        "plt.plot(scaler.inverse_transform(df1_new),label='Actual Value')\n",
        "plt.plot(trainPredictPlot,label='Train Prediction')\n",
        "plt.plot(testPredictPlot,label='Test Prediction')\n",
        "plt.ylabel('Values')\n",
        "plt.legend()\n",
        "plt.show()"
      ],
      "execution_count": null,
      "outputs": [
        {
          "output_type": "display_data",
          "data": {
            "image/png": "[encoded data removed]",
            "text/plain": [
              "<Figure size 432x288 with 1 Axes>"
            ]
          },
          "metadata": {
            "tags": [],
            "needs_background": "light"
          }
        }
      ]
    },
    {
      "cell_type": "code",
      "metadata": {
        "colab": {
          "base_uri": "https://localhost:8080/",
          "height": 265
        },
        "id": "Og1W0BAfNzah",
        "outputId": "460ee968-b99c-413d-d363-0061fc3331e0"
      },
      "source": [
        "final_predict = numpy.empty_like(df1_new)\n",
        "final_predict[:, :] = np.nan\n",
        "final_predict[look_back:len(train_predict)+look_back, :] = train_pred\n",
        "final_predict[len(train_predict)+(look_back*2)+1:len(df1)-1, :] = test_pred\n",
        "plt.plot(final_predict)\n",
        "plt.ylabel('Values')\n",
        "plt.show()"
      ],
      "execution_count": null,
      "outputs": [
        {
          "output_type": "display_data",
          "data": {
            "image/png": "[encoded data removed]",
            "text/plain": [
              "<Figure size 432x288 with 1 Axes>"
            ]
          },
          "metadata": {
            "tags": [],
            "needs_background": "light"
          }
        }
      ]
    },
    {
      "cell_type": "code",
      "metadata": {
        "id": "Q71iFOFBOA9w",
        "colab": {
          "base_uri": "https://localhost:8080/",
          "height": 265
        },
        "outputId": "27e64721-1d8f-4f6a-9bcf-45704660af61"
      },
      "source": [
        "final_predict[len(train_predict)+look_back:len(train_predict)+(look_back*2)+1, :] = scaler.inverse_transform(df1_new)[len(train_predict)+look_back:len(train_predict)+(look_back*2)+1, :]\n",
        "final_predict[:look_back, :] = scaler.inverse_transform(df1_new)[:look_back, :]\n",
        "plt.plot(final_predict)\n",
        "plt.show()"
      ],
      "execution_count": null,
      "outputs": [
        {
          "output_type": "display_data",
          "data": {
            "image/png": "[encoded data removed]",
            "text/plain": [
              "<Figure size 432x288 with 1 Axes>"
            ]
          },
          "metadata": {
            "tags": [],
            "needs_background": "light"
          }
        }
      ]
    },
    {
      "cell_type": "code",
      "metadata": {
        "id": "qSA0MWERQ_7C",
        "colab": {
          "base_uri": "https://localhost:8080/",
          "height": 297
        },
        "outputId": "ac9cb4d1-0843-42af-92dc-2e936368a305"
      },
      "source": [
        "plt.plot(history.history['loss'],label='Train Loss')\n",
        "plt.plot(history.history['val_loss'],label='Test Loss')\n",
        "plt.xlabel('Epoch')\n",
        "plt.ylabel('Loss')\n",
        "plt.legend()\n",
        "plt.show"
      ],
      "execution_count": null,
      "outputs": [
        {
          "output_type": "execute_result",
          "data": {
            "text/plain": [
              "<function matplotlib.pyplot.show>"
            ]
          },
          "metadata": {
            "tags": []
          },
          "execution_count": 84
        },
        {
          "output_type": "display_data",
          "data": {
            "image/png": "[encoded data removed]",
            "text/plain": [
              "<Figure size 432x288 with 1 Axes>"
            ]
          },
          "metadata": {
            "tags": [],
            "needs_background": "light"
          }
        }
      ]
    },
    {
      "cell_type": "code",
      "metadata": {
        "id": "U-ksnM4FqmZT"
      },
      "source": [
        ""
      ],
      "execution_count": null,
      "outputs": []
    },
    {
      "cell_type": "code",
      "metadata": {
        "id": "uUf0CCUwwPdR"
      },
      "source": [
        ""
      ],
      "execution_count": null,
      "outputs": []
    }
  ]
}